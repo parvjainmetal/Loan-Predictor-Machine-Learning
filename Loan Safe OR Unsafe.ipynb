{
 "cells": [
  {
   "cell_type": "code",
   "execution_count": 1,
   "metadata": {
    "collapsed": true
   },
   "outputs": [],
   "source": [
    "import graphlab\n",
    "graphlab.canvas.set_target('ipynb')"
   ]
  },
  {
   "cell_type": "code",
   "execution_count": 2,
   "metadata": {
    "collapsed": false
   },
   "outputs": [
    {
     "name": "stdout",
     "output_type": "stream",
     "text": [
      "This non-commercial license of GraphLab Create for academic use is assigned to parvjain12@gmail.com and will expire on October 13, 2019.\n"
     ]
    },
    {
     "name": "stderr",
     "output_type": "stream",
     "text": [
      "[INFO] graphlab.cython.cy_server: GraphLab Create v2.1 started. Logging: C:\\Users\\PARVJA~1\\AppData\\Local\\Temp\\graphlab_server_1549915148.log.0\n"
     ]
    }
   ],
   "source": [
    "loans = graphlab.SFrame('lending-club-data.gl/')"
   ]
  },
  {
   "cell_type": "code",
   "execution_count": 3,
   "metadata": {
    "collapsed": false
   },
   "outputs": [
    {
     "data": {
      "text/plain": [
       "['id',\n",
       " 'member_id',\n",
       " 'loan_amnt',\n",
       " 'funded_amnt',\n",
       " 'funded_amnt_inv',\n",
       " 'term',\n",
       " 'int_rate',\n",
       " 'installment',\n",
       " 'grade',\n",
       " 'sub_grade',\n",
       " 'emp_title',\n",
       " 'emp_length',\n",
       " 'home_ownership',\n",
       " 'annual_inc',\n",
       " 'is_inc_v',\n",
       " 'issue_d',\n",
       " 'loan_status',\n",
       " 'pymnt_plan',\n",
       " 'url',\n",
       " 'desc',\n",
       " 'purpose',\n",
       " 'title',\n",
       " 'zip_code',\n",
       " 'addr_state',\n",
       " 'dti',\n",
       " 'delinq_2yrs',\n",
       " 'earliest_cr_line',\n",
       " 'inq_last_6mths',\n",
       " 'mths_since_last_delinq',\n",
       " 'mths_since_last_record',\n",
       " 'open_acc',\n",
       " 'pub_rec',\n",
       " 'revol_bal',\n",
       " 'revol_util',\n",
       " 'total_acc',\n",
       " 'initial_list_status',\n",
       " 'out_prncp',\n",
       " 'out_prncp_inv',\n",
       " 'total_pymnt',\n",
       " 'total_pymnt_inv',\n",
       " 'total_rec_prncp',\n",
       " 'total_rec_int',\n",
       " 'total_rec_late_fee',\n",
       " 'recoveries',\n",
       " 'collection_recovery_fee',\n",
       " 'last_pymnt_d',\n",
       " 'last_pymnt_amnt',\n",
       " 'next_pymnt_d',\n",
       " 'last_credit_pull_d',\n",
       " 'collections_12_mths_ex_med',\n",
       " 'mths_since_last_major_derog',\n",
       " 'policy_code',\n",
       " 'not_compliant',\n",
       " 'status',\n",
       " 'inactive_loans',\n",
       " 'bad_loans',\n",
       " 'emp_length_num',\n",
       " 'grade_num',\n",
       " 'sub_grade_num',\n",
       " 'delinq_2yrs_zero',\n",
       " 'pub_rec_zero',\n",
       " 'collections_12_mths_zero',\n",
       " 'short_emp',\n",
       " 'payment_inc_ratio',\n",
       " 'final_d',\n",
       " 'last_delinq_none',\n",
       " 'last_record_none',\n",
       " 'last_major_derog_none']"
      ]
     },
     "execution_count": 3,
     "metadata": {},
     "output_type": "execute_result"
    }
   ],
   "source": [
    "loans.column_names()"
   ]
  },
  {
   "cell_type": "code",
   "execution_count": 4,
   "metadata": {
    "collapsed": false
   },
   "outputs": [
    {
     "data": {
      "application/javascript": [
       "$(\"head\").append($(\"<link/>\").attr({\n",
       "  rel:  \"stylesheet\",\n",
       "  type: \"text/css\",\n",
       "  href: \"//cdnjs.cloudflare.com/ajax/libs/font-awesome/4.1.0/css/font-awesome.min.css\"\n",
       "}));\n",
       "$(\"head\").append($(\"<link/>\").attr({\n",
       "  rel:  \"stylesheet\",\n",
       "  type: \"text/css\",\n",
       "  href: \"https://static.turi.com/products/graphlab-create/2.1/canvas/css/canvas.css\"\n",
       "}));\n",
       "\n",
       "            (function(){\n",
       "\n",
       "                var e = null;\n",
       "                if (typeof element == 'undefined') {\n",
       "                    var scripts = document.getElementsByTagName('script');\n",
       "                    var thisScriptTag = scripts[scripts.length-1];\n",
       "                    var parentDiv = thisScriptTag.parentNode;\n",
       "                    e = document.createElement('div');\n",
       "                    parentDiv.appendChild(e);\n",
       "                } else {\n",
       "                    e = element[0];\n",
       "                }\n",
       "\n",
       "                if (typeof requirejs !== 'undefined') {\n",
       "                    // disable load timeout; ipython_app.js is large and can take a while to load.\n",
       "                    requirejs.config({waitSeconds: 0});\n",
       "                }\n",
       "\n",
       "                require(['https://static.turi.com/products/graphlab-create/2.1/canvas/js/ipython_app.js'], function(IPythonApp){\n",
       "                    var app = new IPythonApp();\n",
       "                    app.attachView('sarray','Categorical', {\"ipython\": true, \"sketch\": {\"complete\": true, \"numeric\": false, \"num_unique\": 7, \"num_undefined\": 0, \"progress\": 1.0, \"frequent_items\": {\"A\": {\"frequency\": 22314, \"value\": \"A\"}, \"C\": {\"frequency\": 29950, \"value\": \"C\"}, \"B\": {\"frequency\": 37172, \"value\": \"B\"}, \"E\": {\"frequency\": 8990, \"value\": \"E\"}, \"D\": {\"frequency\": 19175, \"value\": \"D\"}, \"G\": {\"frequency\": 1074, \"value\": \"G\"}, \"F\": {\"frequency\": 3932, \"value\": \"F\"}}, \"size\": 122607}, \"selected_variable\": {\"name\": [\"<SArray>\"], \"dtype\": \"str\", \"view_component\": \"Categorical\", \"view_file\": \"sarray\", \"descriptives\": {\"rows\": 122607}, \"type\": \"SArray\", \"view_components\": [\"Categorical\"]}, \"histogram\": null}, e);\n",
       "                });\n",
       "            })();\n",
       "        "
      ]
     },
     "metadata": {},
     "output_type": "display_data"
    }
   ],
   "source": [
    "loans['grade'].show()"
   ]
  },
  {
   "cell_type": "code",
   "execution_count": 5,
   "metadata": {
    "collapsed": false
   },
   "outputs": [
    {
     "data": {
      "application/javascript": [
       "$(\"head\").append($(\"<link/>\").attr({\n",
       "  rel:  \"stylesheet\",\n",
       "  type: \"text/css\",\n",
       "  href: \"//cdnjs.cloudflare.com/ajax/libs/font-awesome/4.1.0/css/font-awesome.min.css\"\n",
       "}));\n",
       "$(\"head\").append($(\"<link/>\").attr({\n",
       "  rel:  \"stylesheet\",\n",
       "  type: \"text/css\",\n",
       "  href: \"https://static.turi.com/products/graphlab-create/2.1/canvas/css/canvas.css\"\n",
       "}));\n",
       "\n",
       "            (function(){\n",
       "\n",
       "                var e = null;\n",
       "                if (typeof element == 'undefined') {\n",
       "                    var scripts = document.getElementsByTagName('script');\n",
       "                    var thisScriptTag = scripts[scripts.length-1];\n",
       "                    var parentDiv = thisScriptTag.parentNode;\n",
       "                    e = document.createElement('div');\n",
       "                    parentDiv.appendChild(e);\n",
       "                } else {\n",
       "                    e = element[0];\n",
       "                }\n",
       "\n",
       "                if (typeof requirejs !== 'undefined') {\n",
       "                    // disable load timeout; ipython_app.js is large and can take a while to load.\n",
       "                    requirejs.config({waitSeconds: 0});\n",
       "                }\n",
       "\n",
       "                require(['https://static.turi.com/products/graphlab-create/2.1/canvas/js/ipython_app.js'], function(IPythonApp){\n",
       "                    var app = new IPythonApp();\n",
       "                    app.attachView('sarray','Categorical', {\"ipython\": true, \"sketch\": {\"complete\": true, \"numeric\": false, \"num_unique\": 4, \"num_undefined\": 0, \"progress\": 1.0, \"frequent_items\": {\"OWN\": {\"frequency\": 9943, \"value\": \"OWN\"}, \"OTHER\": {\"frequency\": 179, \"value\": \"OTHER\"}, \"RENT\": {\"frequency\": 53245, \"value\": \"RENT\"}, \"MORTGAGE\": {\"frequency\": 59240, \"value\": \"MORTGAGE\"}}, \"size\": 122607}, \"selected_variable\": {\"name\": [\"<SArray>\"], \"dtype\": \"str\", \"view_component\": \"Categorical\", \"view_file\": \"sarray\", \"descriptives\": {\"rows\": 122607}, \"type\": \"SArray\", \"view_components\": [\"Categorical\"]}, \"histogram\": null}, e);\n",
       "                });\n",
       "            })();\n",
       "        "
      ]
     },
     "metadata": {},
     "output_type": "display_data"
    }
   ],
   "source": [
    "loans['home_ownership'].show()"
   ]
  },
  {
   "cell_type": "code",
   "execution_count": 6,
   "metadata": {
    "collapsed": true
   },
   "outputs": [],
   "source": [
    "# safe_loans =  1 => safe\n",
    "# safe_loans = -1 => risky\n",
    "loans['safe_loans'] = loans['bad_loans'].apply(lambda x : +1 if x==0 else -1)\n",
    "loans = loans.remove_column('bad_loans')"
   ]
  },
  {
   "cell_type": "code",
   "execution_count": 7,
   "metadata": {
    "collapsed": false
   },
   "outputs": [
    {
     "data": {
      "application/javascript": [
       "$(\"head\").append($(\"<link/>\").attr({\n",
       "  rel:  \"stylesheet\",\n",
       "  type: \"text/css\",\n",
       "  href: \"//cdnjs.cloudflare.com/ajax/libs/font-awesome/4.1.0/css/font-awesome.min.css\"\n",
       "}));\n",
       "$(\"head\").append($(\"<link/>\").attr({\n",
       "  rel:  \"stylesheet\",\n",
       "  type: \"text/css\",\n",
       "  href: \"https://static.turi.com/products/graphlab-create/2.1/canvas/css/canvas.css\"\n",
       "}));\n",
       "\n",
       "            (function(){\n",
       "\n",
       "                var e = null;\n",
       "                if (typeof element == 'undefined') {\n",
       "                    var scripts = document.getElementsByTagName('script');\n",
       "                    var thisScriptTag = scripts[scripts.length-1];\n",
       "                    var parentDiv = thisScriptTag.parentNode;\n",
       "                    e = document.createElement('div');\n",
       "                    parentDiv.appendChild(e);\n",
       "                } else {\n",
       "                    e = element[0];\n",
       "                }\n",
       "\n",
       "                if (typeof requirejs !== 'undefined') {\n",
       "                    // disable load timeout; ipython_app.js is large and can take a while to load.\n",
       "                    requirejs.config({waitSeconds: 0});\n",
       "                }\n",
       "\n",
       "                require(['https://static.turi.com/products/graphlab-create/2.1/canvas/js/ipython_app.js'], function(IPythonApp){\n",
       "                    var app = new IPythonApp();\n",
       "                    app.attachView('sarray','Categorical', {\"ipython\": true, \"sketch\": {\"std\": 0.7827226562473063, \"complete\": true, \"min\": -1.0, \"max\": 1.0, \"quantile\": [-1.0, -1.0, -1.0, -1.0, -1.0, -1.0, -1.0, -1.0, -1.0, -1.0, -1.0, -1.0, -1.0, -1.0, -1.0, -1.0, -1.0, -1.0, -1.0, 1.0, 1.0, 1.0, 1.0, 1.0, 1.0, 1.0, 1.0, 1.0, 1.0, 1.0, 1.0, 1.0, 1.0, 1.0, 1.0, 1.0, 1.0, 1.0, 1.0, 1.0, 1.0, 1.0, 1.0, 1.0, 1.0, 1.0, 1.0, 1.0, 1.0, 1.0, 1.0, 1.0, 1.0, 1.0, 1.0, 1.0, 1.0, 1.0, 1.0, 1.0, 1.0, 1.0, 1.0, 1.0, 1.0, 1.0, 1.0, 1.0, 1.0, 1.0, 1.0, 1.0, 1.0, 1.0, 1.0, 1.0, 1.0, 1.0, 1.0, 1.0, 1.0, 1.0, 1.0, 1.0, 1.0, 1.0, 1.0, 1.0, 1.0, 1.0, 1.0, 1.0, 1.0, 1.0, 1.0, 1.0, 1.0, 1.0, 1.0, 1.0, 1.0], \"median\": 1.0, \"numeric\": true, \"num_unique\": 2, \"num_undefined\": 0, \"var\": 0.6126547566028389, \"progress\": 1.0, \"size\": 122607, \"frequent_items\": {\"1\": {\"frequency\": 99457, \"value\": 1}, \"-1\": {\"frequency\": 23150, \"value\": -1}}, \"mean\": 0.6223706639914548}, \"selected_variable\": {\"name\": [\"<SArray>\"], \"dtype\": \"int\", \"view_component\": \"Categorical\", \"view_file\": \"sarray\", \"descriptives\": {\"rows\": 122607}, \"type\": \"SArray\", \"view_components\": [\"Numeric\", \"Categorical\"]}, \"histogram\": {\"progress\": 1.0, \"histogram\": {\"max\": 1.0, \"bins\": [23150, 0, 0, 0, 0, 0, 0, 0, 0, 0, 0, 99457], \"min\": -1.0}, \"min\": -1, \"complete\": 1, \"max\": 1}}, e);\n",
       "                });\n",
       "            })();\n",
       "        "
      ]
     },
     "metadata": {},
     "output_type": "display_data"
    }
   ],
   "source": [
    "loans['safe_loans'].show(view = 'Categorical')"
   ]
  },
  {
   "cell_type": "code",
   "execution_count": 9,
   "metadata": {
    "collapsed": true
   },
   "outputs": [],
   "source": [
    "features = ['grade',                     # grade of the loan\n",
    "            'sub_grade',                 # sub-grade of the loan\n",
    "            'short_emp',                 # one year or less of employment\n",
    "            'emp_length_num',            # number of years of employment\n",
    "            'home_ownership',            # home_ownership status: own, mortgage or rent\n",
    "            'dti',                       # debt to income ratio\n",
    "            'purpose',                   # the purpose of the loan\n",
    "            'term',                      # the term of the loan\n",
    "            'last_delinq_none',          # has borrower had a delinquincy\n",
    "            'last_major_derog_none',     # 90 day or worse rating\n",
    "            'revol_util',                # % of available credit being used\n",
    "            'total_rec_late_fee',        # total late fees received to day\n",
    "           ]\n",
    "\n",
    "target = 'safe_loans'                   # prediction target (y) (+1 means safe, -1 is risky)\n",
    "\n",
    "# Extract the feature columns and target column\n",
    "loans = loans[features + [target]]"
   ]
  },
  {
   "cell_type": "code",
   "execution_count": 10,
   "metadata": {
    "collapsed": false
   },
   "outputs": [
    {
     "name": "stdout",
     "output_type": "stream",
     "text": [
      "Number of safe loans  : 99457\n",
      "Number of risky loans : 23150\n"
     ]
    }
   ],
   "source": [
    "safe_loans_raw = loans[loans[target] == +1]\n",
    "risky_loans_raw = loans[loans[target] == -1]\n",
    "print \"Number of safe loans  : %s\" % len(safe_loans_raw)\n",
    "print \"Number of risky loans : %s\" % len(risky_loans_raw)"
   ]
  },
  {
   "cell_type": "code",
   "execution_count": 11,
   "metadata": {
    "collapsed": false
   },
   "outputs": [
    {
     "name": "stdout",
     "output_type": "stream",
     "text": [
      "% of safe loans  : 0.811185331996\n",
      "% of risky loans : 0.188814668004\n"
     ]
    }
   ],
   "source": [
    "print \"% of safe loans  :\", (len(safe_loans_raw)/float(len(safe_loans_raw) + len(risky_loans_raw)))\n",
    "print \"% of risky loans :\", (len(risky_loans_raw)/float(len(safe_loans_raw) + len(risky_loans_raw)))"
   ]
  },
  {
   "cell_type": "code",
   "execution_count": 12,
   "metadata": {
    "collapsed": true
   },
   "outputs": [],
   "source": [
    "# Since there are fewer risky loans than safe loans, find the ratio of the sizes\n",
    "# and use that percentage to undersample the safe loans.\n",
    "percentage = len(risky_loans_raw)/float(len(safe_loans_raw))\n",
    "\n",
    "risky_loans = risky_loans_raw\n",
    "safe_loans = safe_loans_raw.sample(percentage, seed=1)\n",
    "\n",
    "# Append the risky_loans with the downsampled version of safe_loans\n",
    "loans_data = risky_loans.append(safe_loans)"
   ]
  },
  {
   "cell_type": "code",
   "execution_count": 13,
   "metadata": {
    "collapsed": false,
    "scrolled": true
   },
   "outputs": [
    {
     "name": "stdout",
     "output_type": "stream",
     "text": [
      "% of safe loans                 : 0.502236174422\n",
      "% of risky loans                : 0.497763825578\n",
      "Total number of loans in our new dataset : 46508\n"
     ]
    }
   ],
   "source": [
    "print \"% of safe loans                 :\", len(safe_loans) / float(len(loans_data))\n",
    "print \"% of risky loans                :\", len(risky_loans) / float(len(loans_data))\n",
    "print \"Total number of loans in our new dataset :\", len(loans_data)"
   ]
  },
  {
   "cell_type": "code",
   "execution_count": 14,
   "metadata": {
    "collapsed": true
   },
   "outputs": [],
   "source": [
    "train_data, validation_data = loans_data.random_split(.8, seed=1)"
   ]
  },
  {
   "cell_type": "code",
   "execution_count": 15,
   "metadata": {
    "collapsed": false,
    "scrolled": true
   },
   "outputs": [
    {
     "data": {
      "text/html": [
       "<pre>Decision tree classifier:</pre>"
      ],
      "text/plain": [
       "Decision tree classifier:"
      ]
     },
     "metadata": {},
     "output_type": "display_data"
    },
    {
     "data": {
      "text/html": [
       "<pre>--------------------------------------------------------</pre>"
      ],
      "text/plain": [
       "--------------------------------------------------------"
      ]
     },
     "metadata": {},
     "output_type": "display_data"
    },
    {
     "data": {
      "text/html": [
       "<pre>Number of examples          : 37224</pre>"
      ],
      "text/plain": [
       "Number of examples          : 37224"
      ]
     },
     "metadata": {},
     "output_type": "display_data"
    },
    {
     "data": {
      "text/html": [
       "<pre>Number of classes           : 2</pre>"
      ],
      "text/plain": [
       "Number of classes           : 2"
      ]
     },
     "metadata": {},
     "output_type": "display_data"
    },
    {
     "data": {
      "text/html": [
       "<pre>Number of feature columns   : 12</pre>"
      ],
      "text/plain": [
       "Number of feature columns   : 12"
      ]
     },
     "metadata": {},
     "output_type": "display_data"
    },
    {
     "data": {
      "text/html": [
       "<pre>Number of unpacked features : 12</pre>"
      ],
      "text/plain": [
       "Number of unpacked features : 12"
      ]
     },
     "metadata": {},
     "output_type": "display_data"
    },
    {
     "data": {
      "text/html": [
       "<pre>+-----------+--------------+-------------------+-------------------+</pre>"
      ],
      "text/plain": [
       "+-----------+--------------+-------------------+-------------------+"
      ]
     },
     "metadata": {},
     "output_type": "display_data"
    },
    {
     "data": {
      "text/html": [
       "<pre>| Iteration | Elapsed Time | Training-accuracy | Training-log_loss |</pre>"
      ],
      "text/plain": [
       "| Iteration | Elapsed Time | Training-accuracy | Training-log_loss |"
      ]
     },
     "metadata": {},
     "output_type": "display_data"
    },
    {
     "data": {
      "text/html": [
       "<pre>+-----------+--------------+-------------------+-------------------+</pre>"
      ],
      "text/plain": [
       "+-----------+--------------+-------------------+-------------------+"
      ]
     },
     "metadata": {},
     "output_type": "display_data"
    },
    {
     "data": {
      "text/html": [
       "<pre>| 1         | 0.125929     | 0.640581          | 0.663259          |</pre>"
      ],
      "text/plain": [
       "| 1         | 0.125929     | 0.640581          | 0.663259          |"
      ]
     },
     "metadata": {},
     "output_type": "display_data"
    },
    {
     "data": {
      "text/html": [
       "<pre>+-----------+--------------+-------------------+-------------------+</pre>"
      ],
      "text/plain": [
       "+-----------+--------------+-------------------+-------------------+"
      ]
     },
     "metadata": {},
     "output_type": "display_data"
    }
   ],
   "source": [
    "decision_tree_model = graphlab.decision_tree_classifier.create(train_data, validation_set=None,\n",
    "                                target = target, features = features)"
   ]
  },
  {
   "cell_type": "code",
   "execution_count": 16,
   "metadata": {
    "collapsed": false
   },
   "outputs": [
    {
     "data": {
      "application/javascript": [
       "$(\"head\").append($(\"<link/>\").attr({\n",
       "  rel:  \"stylesheet\",\n",
       "  type: \"text/css\",\n",
       "  href: \"//cdnjs.cloudflare.com/ajax/libs/font-awesome/4.1.0/css/font-awesome.min.css\"\n",
       "}));\n",
       "$(\"head\").append($(\"<link/>\").attr({\n",
       "  rel:  \"stylesheet\",\n",
       "  type: \"text/css\",\n",
       "  href: \"https://static.turi.com/products/graphlab-create/2.1/canvas/css/canvas.css\"\n",
       "}));\n",
       "\n",
       "            (function(){\n",
       "\n",
       "                var e = null;\n",
       "                if (typeof element == 'undefined') {\n",
       "                    var scripts = document.getElementsByTagName('script');\n",
       "                    var thisScriptTag = scripts[scripts.length-1];\n",
       "                    var parentDiv = thisScriptTag.parentNode;\n",
       "                    e = document.createElement('div');\n",
       "                    parentDiv.appendChild(e);\n",
       "                } else {\n",
       "                    e = element[0];\n",
       "                }\n",
       "\n",
       "                if (typeof requirejs !== 'undefined') {\n",
       "                    // disable load timeout; ipython_app.js is large and can take a while to load.\n",
       "                    requirejs.config({waitSeconds: 0});\n",
       "                }\n",
       "\n",
       "                require(['https://static.turi.com/products/graphlab-create/2.1/canvas/js/ipython_app.js'], function(IPythonApp){\n",
       "                    var app = new IPythonApp();\n",
       "                    app.attachView('sgraph','View', {\"edges_labels\": [\"yes\", \"yes\", \"no\", \"no\", \"yes\", \"no\", \"no\", \"yes\", \"yes\", \"no\", \"no\", \"no\", \"yes\", \"yes\", \"no\", \"yes\", \"yes\", \"no\", \"no\", \"yes\", \"no\", \"no\", \"yes\", \"yes\", \"no\", \"no\", \"yes\", \"no\", \"yes\", \"yes\", \"yes\", \"yes\", \"no\", \"no\", \"yes\", \"yes\", \"no\", \"yes\", \"yes\", \"yes\", \"yes\", \"no\", \"no\", \"no\", \"no\", \"no\", \"yes\", \"yes\", \"no\", \"yes\", \"no\", \"no\", \"yes\", \"no\", \"no\", \"yes\", \"no\", \"yes\", \"no\", \"no\", \"yes\", \"yes\", \"yes\", \"no\", \"yes\", \"yes\", \"no\", \"no\", \"yes\", \"no\", \"yes\", \"no\", \"no\", \"yes\", \"yes\", \"no\", \"yes\", \"no\", \"yes\", \"no\", \"no\", \"yes\", \"yes\", \"no\", \"no\", \"yes\", \"yes\", \"yes\", \"no\", \"no\", \"no\", \"no\", \"yes\", \"no\", \"yes\", \"yes\", \"no\", \"yes\", \"no\", \"yes\", \"no\", \"no\", \"yes\", \"yes\", \"no\", \"yes\", \"yes\", \"no\", \"no\", \"yes\"], \"selected_variable\": {\"name\": [\"<SGraph>\"], \"view_file\": \"sgraph\", \"view_component\": \"View\", \"view_params\": {\"elabel_hover\": false, \"vertex_positions\": null, \"h_offset\": 0.0, \"node_size\": 300, \"ecolor\": [0.37, 0.33, 0.33], \"elabel\": \"value\", \"arrows\": true, \"ewidth\": 1, \"vlabel\": \"__repr__\", \"highlight_color\": [0.69, 0.0, 0.498], \"vcolor\": [0.522, 0.741, 0.0], \"vlabel_hover\": false, \"highlight\": {\"0\": [0.69, 0.0, 0.48], \"21\": [1.0, 0.33, 0.0], \"38\": [1.0, 0.33, 0.0], \"44\": [1.0, 0.33, 0.0], \"48\": [0.039, 0.55, 0.77], \"50\": [0.039, 0.55, 0.77], \"55\": [1.0, 0.33, 0.0], \"61\": [0.039, 0.55, 0.77], \"62\": [0.039, 0.55, 0.77], \"63\": [0.039, 0.55, 0.77], \"64\": [0.039, 0.55, 0.77], \"65\": [1.0, 0.33, 0.0], \"66\": [0.039, 0.55, 0.77], \"67\": [0.039, 0.55, 0.77], \"68\": [0.039, 0.55, 0.77], \"69\": [0.039, 0.55, 0.77], \"70\": [0.039, 0.55, 0.77], \"71\": [0.039, 0.55, 0.77], \"72\": [1.0, 0.33, 0.0], \"73\": [0.039, 0.55, 0.77], \"74\": [1.0, 0.33, 0.0], \"75\": [1.0, 0.33, 0.0], \"76\": [0.039, 0.55, 0.77], \"77\": [1.0, 0.33, 0.0], \"78\": [0.039, 0.55, 0.77], \"79\": [1.0, 0.33, 0.0], \"80\": [0.039, 0.55, 0.77], \"81\": [0.039, 0.55, 0.77], \"82\": [0.039, 0.55, 0.77], \"83\": [0.039, 0.55, 0.77], \"84\": [0.039, 0.55, 0.77], \"85\": [1.0, 0.33, 0.0], \"86\": [1.0, 0.33, 0.0], \"87\": [1.0, 0.33, 0.0], \"88\": [1.0, 0.33, 0.0], \"89\": [1.0, 0.33, 0.0], \"90\": [1.0, 0.33, 0.0], \"91\": [0.039, 0.55, 0.77], \"92\": [1.0, 0.33, 0.0], \"93\": [1.0, 0.33, 0.0], \"94\": [1.0, 0.33, 0.0], \"95\": [1.0, 0.33, 0.0], \"96\": [1.0, 0.33, 0.0], \"97\": [0.039, 0.55, 0.77], \"98\": [1.0, 0.33, 0.0], \"99\": [0.039, 0.55, 0.77], \"100\": [1.0, 0.33, 0.0], \"101\": [0.039, 0.55, 0.77], \"102\": [1.0, 0.33, 0.0], \"103\": [0.039, 0.55, 0.77], \"104\": [1.0, 0.33, 0.0], \"105\": [0.039, 0.55, 0.77], \"106\": [1.0, 0.33, 0.0], \"107\": [0.039, 0.55, 0.77], \"108\": [1.0, 0.33, 0.0], \"109\": [1.0, 0.33, 0.0], \"110\": [0.039, 0.55, 0.77]}, \"v_offset\": 0.03}, \"view_components\": [\"View\"], \"type\": \"SGraph\", \"descriptives_links\": {\"edges\": \"edges\", \"vertices\": \"vertices\"}, \"descriptives\": {\"edges\": 110, \"vertices\": 111}}, \"positions\": null, \"error_type\": 0, \"vertices\": [52, 50, 92, 5, 10, 7, 110, 33, 47, 68, 87, 29, 8, 96, 70, 27, 73, 49, 89, 21, 76, 67, 107, 34, 16, 30, 65, 23, 36, 56, 109, 63, 58, 43, 78, 40, 83, 0, 15, 62, 106, 18, 103, 37, 105, 61, 38, 48, 35, 13, 59, 46, 108, 53, 2, 75, 26, 88, 31, 86, 32, 71, 28, 69, 51, 9, 72, 93, 91, 97, 6, 74, 54, 3, 80, 98, 100, 45, 14, 94, 12, 85, 25, 82, 81, 42, 64, 60, 20, 79, 102, 39, 19, 1, 104, 101, 41, 95, 90, 11, 66, 17, 4, 99, 57, 77, 24, 84, 44, 55, 22], \"vertices_labels\": [\"home_ownership=OWN\", \"-0.381818\", \"0.25\", \"dti<16.435001\", \"dti<0.19\", \"grade=C\", \"-0.12\", \"term= 60 months\", \"home_ownership=RENT\", \"-0.172482\", \"0.349301\", \"emp_length_num<7.5\", \"term= 60 months\", \"0.355556\", \"-0.186207\", \"total_rec_late_fee<14.99165\", \"-0.524455\", \"revol_util<52.900002\", \"0.24\", \"0.257143\", \"-0.090647\", \"-0.087723\", \"-0.424719\", \"dti<27.35\", \"dti<20.99\", \"revol_util<84.75\", \"0.067079\", \"revol_util<31.450001\", \"sub_grade=F3\", \"short_emp<0.5\", \"0.2\", \"-0.274526\", \"last_major_derog_none<0.5\", \"last_delinq_none<0.5\", \"-0.353846\", \"purpose=small_business\", \"-0.305806\", \"grade=A\", \"dti<18.205\", \"-0.176765\", \"0.36\", \"dti<35.915001\", \"-0.36\", \"revol_util<103.550003\", \"-0.12\", \"-0.043518\", \"0.12\", \"-0.381818\", \"dti<10.184999\", \"dti<3.81\", \"purpose=house\", \"revol_util<65.550003\", \"0.12\", \"purpose=car\", \"total_rec_late_fee<14.83015\", \"0.18997\", \"dti<23.505001\", \"0.250685\", \"term= 60 months\", \"0.317197\", \"grade=D\", \"-0.436364\", \"purpose=car\", \"-0.355932\", \"revol_util<52.450001\", \"dti<17.235001\", \"0.0\", \"0.31848\", \"-0.026087\", \"-0.44\", \"dti<5.485\", \"0.0\", \"sub_grade=A4\", \"total_rec_late_fee<0.005\", \"-0.094556\", \"0.12\", \"0.257143\", \"sub_grade=A5\", \"revol_util<11.9\", \"0.187402\", \"emp_length_num<0.5\", \"0.441127\", \"revol_util<72.25\", \"-0.235359\", \"-0.037321\", \"revol_util<45.150002\", \"-0.180519\", \"emp_length_num<7.0\", \"term= 60 months\", \"0.08409\", \"0.12\", \"purpose=small_business\", \"term= 60 months\", \"grade=B\", \"0.085714\", \"-0.12\", \"dti<29.314999\", \"0.141176\", \"0.025\", \"purpose=small_business\", \"-0.048303\", \"dti<11.764999\", \"total_rec_late_fee<0.005\", \"-0.138462\", \"dti<17.610001\", \"0.02359\", \"revol_util<58.599998\", \"-0.413445\", \"0.12\", \"0.381818\", \"total_rec_late_fee<101.98465\"], \"edges\": [[52, 96], [10, 21], [47, 89], [29, 58], [7, 16], [33, 65], [7, 15], [8, 18], [27, 53], [5, 12], [27, 54], [10, 22], [5, 11], [47, 90], [52, 95], [29, 57], [33, 66], [8, 17], [49, 92], [16, 33], [34, 68], [16, 34], [34, 67], [58, 105], [58, 106], [23, 46], [30, 59], [36, 71], [49, 91], [36, 72], [23, 45], [56, 101], [56, 102], [30, 60], [37, 73], [18, 37], [18, 38], [40, 78], [43, 83], [0, 2], [15, 31], [37, 74], [15, 32], [0, 1], [40, 77], [43, 84], [2, 5], [46, 87], [26, 52], [13, 27], [35, 70], [59, 107], [31, 62], [31, 61], [46, 88], [59, 108], [2, 6], [26, 51], [13, 28], [53, 97], [35, 69], [53, 98], [28, 56], [32, 63], [6, 13], [51, 93], [51, 94], [6, 14], [9, 19], [9, 20], [32, 64], [28, 55], [25, 50], [14, 29], [3, 7], [3, 8], [25, 49], [14, 30], [45, 86], [12, 26], [45, 85], [12, 25], [54, 100], [54, 99], [60, 110], [39, 76], [60, 109], [19, 40], [39, 75], [41, 80], [1, 3], [19, 39], [20, 42], [20, 41], [41, 79], [42, 81], [42, 82], [1, 4], [4, 10], [24, 47], [11, 23], [17, 36], [22, 43], [57, 103], [24, 48], [17, 35], [4, 9], [57, 104], [22, 44], [11, 24]], \"ipython\": true, \"error_msg\": \"\"}, e);\n",
       "                });\n",
       "            })();\n",
       "        "
      ]
     },
     "metadata": {},
     "output_type": "display_data"
    }
   ],
   "source": [
    "decision_tree_model.show(view=\"Tree\")"
   ]
  },
  {
   "cell_type": "code",
   "execution_count": 17,
   "metadata": {
    "collapsed": false
   },
   "outputs": [
    {
     "data": {
      "text/html": [
       "<pre>Decision tree classifier:</pre>"
      ],
      "text/plain": [
       "Decision tree classifier:"
      ]
     },
     "metadata": {},
     "output_type": "display_data"
    },
    {
     "data": {
      "text/html": [
       "<pre>--------------------------------------------------------</pre>"
      ],
      "text/plain": [
       "--------------------------------------------------------"
      ]
     },
     "metadata": {},
     "output_type": "display_data"
    },
    {
     "data": {
      "text/html": [
       "<pre>Number of examples          : 37224</pre>"
      ],
      "text/plain": [
       "Number of examples          : 37224"
      ]
     },
     "metadata": {},
     "output_type": "display_data"
    },
    {
     "data": {
      "text/html": [
       "<pre>Number of classes           : 2</pre>"
      ],
      "text/plain": [
       "Number of classes           : 2"
      ]
     },
     "metadata": {},
     "output_type": "display_data"
    },
    {
     "data": {
      "text/html": [
       "<pre>Number of feature columns   : 12</pre>"
      ],
      "text/plain": [
       "Number of feature columns   : 12"
      ]
     },
     "metadata": {},
     "output_type": "display_data"
    },
    {
     "data": {
      "text/html": [
       "<pre>Number of unpacked features : 12</pre>"
      ],
      "text/plain": [
       "Number of unpacked features : 12"
      ]
     },
     "metadata": {},
     "output_type": "display_data"
    },
    {
     "data": {
      "text/html": [
       "<pre>+-----------+--------------+-------------------+-------------------+</pre>"
      ],
      "text/plain": [
       "+-----------+--------------+-------------------+-------------------+"
      ]
     },
     "metadata": {},
     "output_type": "display_data"
    },
    {
     "data": {
      "text/html": [
       "<pre>| Iteration | Elapsed Time | Training-accuracy | Training-log_loss |</pre>"
      ],
      "text/plain": [
       "| Iteration | Elapsed Time | Training-accuracy | Training-log_loss |"
      ]
     },
     "metadata": {},
     "output_type": "display_data"
    },
    {
     "data": {
      "text/html": [
       "<pre>+-----------+--------------+-------------------+-------------------+</pre>"
      ],
      "text/plain": [
       "+-----------+--------------+-------------------+-------------------+"
      ]
     },
     "metadata": {},
     "output_type": "display_data"
    },
    {
     "data": {
      "text/html": [
       "<pre>| 1         | 0.078954     | 0.613502          | 0.676098          |</pre>"
      ],
      "text/plain": [
       "| 1         | 0.078954     | 0.613502          | 0.676098          |"
      ]
     },
     "metadata": {},
     "output_type": "display_data"
    },
    {
     "data": {
      "text/html": [
       "<pre>+-----------+--------------+-------------------+-------------------+</pre>"
      ],
      "text/plain": [
       "+-----------+--------------+-------------------+-------------------+"
      ]
     },
     "metadata": {},
     "output_type": "display_data"
    }
   ],
   "source": [
    "small_model = graphlab.decision_tree_classifier.create(train_data, validation_set=None,\n",
    "                   target = target, features = features, max_depth = 2)"
   ]
  },
  {
   "cell_type": "code",
   "execution_count": 18,
   "metadata": {
    "collapsed": false
   },
   "outputs": [
    {
     "data": {
      "application/javascript": [
       "$(\"head\").append($(\"<link/>\").attr({\n",
       "  rel:  \"stylesheet\",\n",
       "  type: \"text/css\",\n",
       "  href: \"//cdnjs.cloudflare.com/ajax/libs/font-awesome/4.1.0/css/font-awesome.min.css\"\n",
       "}));\n",
       "$(\"head\").append($(\"<link/>\").attr({\n",
       "  rel:  \"stylesheet\",\n",
       "  type: \"text/css\",\n",
       "  href: \"https://static.turi.com/products/graphlab-create/2.1/canvas/css/canvas.css\"\n",
       "}));\n",
       "\n",
       "            (function(){\n",
       "\n",
       "                var e = null;\n",
       "                if (typeof element == 'undefined') {\n",
       "                    var scripts = document.getElementsByTagName('script');\n",
       "                    var thisScriptTag = scripts[scripts.length-1];\n",
       "                    var parentDiv = thisScriptTag.parentNode;\n",
       "                    e = document.createElement('div');\n",
       "                    parentDiv.appendChild(e);\n",
       "                } else {\n",
       "                    e = element[0];\n",
       "                }\n",
       "\n",
       "                if (typeof requirejs !== 'undefined') {\n",
       "                    // disable load timeout; ipython_app.js is large and can take a while to load.\n",
       "                    requirejs.config({waitSeconds: 0});\n",
       "                }\n",
       "\n",
       "                require(['https://static.turi.com/products/graphlab-create/2.1/canvas/js/ipython_app.js'], function(IPythonApp){\n",
       "                    var app = new IPythonApp();\n",
       "                    app.attachView('sgraph','View', {\"edges_labels\": [\"yes\", \"no\", \"yes\", \"no\", \"no\", \"yes\"], \"selected_variable\": {\"name\": [\"<SGraph>\"], \"view_file\": \"sgraph\", \"view_component\": \"View\", \"view_params\": {\"elabel_hover\": false, \"vertex_positions\": null, \"h_offset\": 0.0, \"node_size\": 300, \"ecolor\": [0.37, 0.33, 0.33], \"elabel\": \"value\", \"arrows\": true, \"ewidth\": 1, \"vlabel\": \"__repr__\", \"highlight_color\": [0.69, 0.0, 0.498], \"vcolor\": [0.522, 0.741, 0.0], \"vlabel_hover\": false, \"highlight\": {\"0\": [0.69, 0.0, 0.48], \"3\": [0.039, 0.55, 0.77], \"4\": [1.0, 0.33, 0.0], \"5\": [1.0, 0.33, 0.0], \"6\": [0.039, 0.55, 0.77]}, \"v_offset\": 0.03}, \"view_components\": [\"View\"], \"type\": \"SGraph\", \"descriptives_links\": {\"edges\": \"edges\", \"vertices\": \"vertices\"}, \"descriptives\": {\"edges\": 6, \"vertices\": 7}}, \"positions\": null, \"error_type\": 0, \"vertices\": [5, 0, 2, 6, 3, 1, 4], \"vertices_labels\": [\"0.3223\", \"grade=A\", \"total_rec_late_fee<14.83015\", \"-0.273469\", \"-0.111044\", \"grade=B\", \"0.097203\"], \"edges\": [[0, 2], [0, 1], [2, 5], [2, 6], [1, 3], [1, 4]], \"ipython\": true, \"error_msg\": \"\"}, e);\n",
       "                });\n",
       "            })();\n",
       "        "
      ]
     },
     "metadata": {},
     "output_type": "display_data"
    }
   ],
   "source": [
    "\n",
    "small_model.show(view=\"Tree\")"
   ]
  },
  {
   "cell_type": "code",
   "execution_count": 19,
   "metadata": {
    "collapsed": false
   },
   "outputs": [
    {
     "data": {
      "text/html": [
       "<div style=\"max-height:1000px;max-width:1500px;overflow:auto;\"><table frame=\"box\" rules=\"cols\">\n",
       "    <tr>\n",
       "        <th style=\"padding-left: 1em; padding-right: 1em; text-align: center\">grade</th>\n",
       "        <th style=\"padding-left: 1em; padding-right: 1em; text-align: center\">sub_grade</th>\n",
       "        <th style=\"padding-left: 1em; padding-right: 1em; text-align: center\">short_emp</th>\n",
       "        <th style=\"padding-left: 1em; padding-right: 1em; text-align: center\">emp_length_num</th>\n",
       "        <th style=\"padding-left: 1em; padding-right: 1em; text-align: center\">home_ownership</th>\n",
       "        <th style=\"padding-left: 1em; padding-right: 1em; text-align: center\">dti</th>\n",
       "        <th style=\"padding-left: 1em; padding-right: 1em; text-align: center\">purpose</th>\n",
       "        <th style=\"padding-left: 1em; padding-right: 1em; text-align: center\">term</th>\n",
       "        <th style=\"padding-left: 1em; padding-right: 1em; text-align: center\">last_delinq_none</th>\n",
       "    </tr>\n",
       "    <tr>\n",
       "        <td style=\"padding-left: 1em; padding-right: 1em; text-align: center; vertical-align: top\">B</td>\n",
       "        <td style=\"padding-left: 1em; padding-right: 1em; text-align: center; vertical-align: top\">B3</td>\n",
       "        <td style=\"padding-left: 1em; padding-right: 1em; text-align: center; vertical-align: top\">0</td>\n",
       "        <td style=\"padding-left: 1em; padding-right: 1em; text-align: center; vertical-align: top\">11</td>\n",
       "        <td style=\"padding-left: 1em; padding-right: 1em; text-align: center; vertical-align: top\">OWN</td>\n",
       "        <td style=\"padding-left: 1em; padding-right: 1em; text-align: center; vertical-align: top\">11.18</td>\n",
       "        <td style=\"padding-left: 1em; padding-right: 1em; text-align: center; vertical-align: top\">credit_card</td>\n",
       "        <td style=\"padding-left: 1em; padding-right: 1em; text-align: center; vertical-align: top\"> 36 months</td>\n",
       "        <td style=\"padding-left: 1em; padding-right: 1em; text-align: center; vertical-align: top\">1</td>\n",
       "    </tr>\n",
       "    <tr>\n",
       "        <td style=\"padding-left: 1em; padding-right: 1em; text-align: center; vertical-align: top\">D</td>\n",
       "        <td style=\"padding-left: 1em; padding-right: 1em; text-align: center; vertical-align: top\">D1</td>\n",
       "        <td style=\"padding-left: 1em; padding-right: 1em; text-align: center; vertical-align: top\">0</td>\n",
       "        <td style=\"padding-left: 1em; padding-right: 1em; text-align: center; vertical-align: top\">10</td>\n",
       "        <td style=\"padding-left: 1em; padding-right: 1em; text-align: center; vertical-align: top\">RENT</td>\n",
       "        <td style=\"padding-left: 1em; padding-right: 1em; text-align: center; vertical-align: top\">16.85</td>\n",
       "        <td style=\"padding-left: 1em; padding-right: 1em; text-align: center; vertical-align: top\">debt_consolidation</td>\n",
       "        <td style=\"padding-left: 1em; padding-right: 1em; text-align: center; vertical-align: top\"> 36 months</td>\n",
       "        <td style=\"padding-left: 1em; padding-right: 1em; text-align: center; vertical-align: top\">1</td>\n",
       "    </tr>\n",
       "    <tr>\n",
       "        <td style=\"padding-left: 1em; padding-right: 1em; text-align: center; vertical-align: top\">D</td>\n",
       "        <td style=\"padding-left: 1em; padding-right: 1em; text-align: center; vertical-align: top\">D2</td>\n",
       "        <td style=\"padding-left: 1em; padding-right: 1em; text-align: center; vertical-align: top\">0</td>\n",
       "        <td style=\"padding-left: 1em; padding-right: 1em; text-align: center; vertical-align: top\">3</td>\n",
       "        <td style=\"padding-left: 1em; padding-right: 1em; text-align: center; vertical-align: top\">RENT</td>\n",
       "        <td style=\"padding-left: 1em; padding-right: 1em; text-align: center; vertical-align: top\">13.97</td>\n",
       "        <td style=\"padding-left: 1em; padding-right: 1em; text-align: center; vertical-align: top\">other</td>\n",
       "        <td style=\"padding-left: 1em; padding-right: 1em; text-align: center; vertical-align: top\"> 60 months</td>\n",
       "        <td style=\"padding-left: 1em; padding-right: 1em; text-align: center; vertical-align: top\">0</td>\n",
       "    </tr>\n",
       "    <tr>\n",
       "        <td style=\"padding-left: 1em; padding-right: 1em; text-align: center; vertical-align: top\">A</td>\n",
       "        <td style=\"padding-left: 1em; padding-right: 1em; text-align: center; vertical-align: top\">A5</td>\n",
       "        <td style=\"padding-left: 1em; padding-right: 1em; text-align: center; vertical-align: top\">0</td>\n",
       "        <td style=\"padding-left: 1em; padding-right: 1em; text-align: center; vertical-align: top\">11</td>\n",
       "        <td style=\"padding-left: 1em; padding-right: 1em; text-align: center; vertical-align: top\">MORTGAGE</td>\n",
       "        <td style=\"padding-left: 1em; padding-right: 1em; text-align: center; vertical-align: top\">16.33</td>\n",
       "        <td style=\"padding-left: 1em; padding-right: 1em; text-align: center; vertical-align: top\">debt_consolidation</td>\n",
       "        <td style=\"padding-left: 1em; padding-right: 1em; text-align: center; vertical-align: top\"> 36 months</td>\n",
       "        <td style=\"padding-left: 1em; padding-right: 1em; text-align: center; vertical-align: top\">1</td>\n",
       "    </tr>\n",
       "</table>\n",
       "<table frame=\"box\" rules=\"cols\">\n",
       "    <tr>\n",
       "        <th style=\"padding-left: 1em; padding-right: 1em; text-align: center\">last_major_derog_none</th>\n",
       "        <th style=\"padding-left: 1em; padding-right: 1em; text-align: center\">revol_util</th>\n",
       "        <th style=\"padding-left: 1em; padding-right: 1em; text-align: center\">total_rec_late_fee</th>\n",
       "        <th style=\"padding-left: 1em; padding-right: 1em; text-align: center\">safe_loans</th>\n",
       "    </tr>\n",
       "    <tr>\n",
       "        <td style=\"padding-left: 1em; padding-right: 1em; text-align: center; vertical-align: top\">1</td>\n",
       "        <td style=\"padding-left: 1em; padding-right: 1em; text-align: center; vertical-align: top\">82.4</td>\n",
       "        <td style=\"padding-left: 1em; padding-right: 1em; text-align: center; vertical-align: top\">0.0</td>\n",
       "        <td style=\"padding-left: 1em; padding-right: 1em; text-align: center; vertical-align: top\">1</td>\n",
       "    </tr>\n",
       "    <tr>\n",
       "        <td style=\"padding-left: 1em; padding-right: 1em; text-align: center; vertical-align: top\">1</td>\n",
       "        <td style=\"padding-left: 1em; padding-right: 1em; text-align: center; vertical-align: top\">96.4</td>\n",
       "        <td style=\"padding-left: 1em; padding-right: 1em; text-align: center; vertical-align: top\">0.0</td>\n",
       "        <td style=\"padding-left: 1em; padding-right: 1em; text-align: center; vertical-align: top\">1</td>\n",
       "    </tr>\n",
       "    <tr>\n",
       "        <td style=\"padding-left: 1em; padding-right: 1em; text-align: center; vertical-align: top\">1</td>\n",
       "        <td style=\"padding-left: 1em; padding-right: 1em; text-align: center; vertical-align: top\">59.5</td>\n",
       "        <td style=\"padding-left: 1em; padding-right: 1em; text-align: center; vertical-align: top\">0.0</td>\n",
       "        <td style=\"padding-left: 1em; padding-right: 1em; text-align: center; vertical-align: top\">-1</td>\n",
       "    </tr>\n",
       "    <tr>\n",
       "        <td style=\"padding-left: 1em; padding-right: 1em; text-align: center; vertical-align: top\">1</td>\n",
       "        <td style=\"padding-left: 1em; padding-right: 1em; text-align: center; vertical-align: top\">62.1</td>\n",
       "        <td style=\"padding-left: 1em; padding-right: 1em; text-align: center; vertical-align: top\">0.0</td>\n",
       "        <td style=\"padding-left: 1em; padding-right: 1em; text-align: center; vertical-align: top\">-1</td>\n",
       "    </tr>\n",
       "</table>\n",
       "[4 rows x 13 columns]<br/>\n",
       "</div>"
      ],
      "text/plain": [
       "Columns:\n",
       "\tgrade\tstr\n",
       "\tsub_grade\tstr\n",
       "\tshort_emp\tint\n",
       "\temp_length_num\tint\n",
       "\thome_ownership\tstr\n",
       "\tdti\tfloat\n",
       "\tpurpose\tstr\n",
       "\tterm\tstr\n",
       "\tlast_delinq_none\tint\n",
       "\tlast_major_derog_none\tint\n",
       "\trevol_util\tfloat\n",
       "\ttotal_rec_late_fee\tfloat\n",
       "\tsafe_loans\tint\n",
       "\n",
       "Rows: 4\n",
       "\n",
       "Data:\n",
       "+-------+-----------+-----------+----------------+----------------+-------+\n",
       "| grade | sub_grade | short_emp | emp_length_num | home_ownership |  dti  |\n",
       "+-------+-----------+-----------+----------------+----------------+-------+\n",
       "|   B   |     B3    |     0     |       11       |      OWN       | 11.18 |\n",
       "|   D   |     D1    |     0     |       10       |      RENT      | 16.85 |\n",
       "|   D   |     D2    |     0     |       3        |      RENT      | 13.97 |\n",
       "|   A   |     A5    |     0     |       11       |    MORTGAGE    | 16.33 |\n",
       "+-------+-----------+-----------+----------------+----------------+-------+\n",
       "+--------------------+------------+------------------+-----------------------+\n",
       "|      purpose       |    term    | last_delinq_none | last_major_derog_none |\n",
       "+--------------------+------------+------------------+-----------------------+\n",
       "|    credit_card     |  36 months |        1         |           1           |\n",
       "| debt_consolidation |  36 months |        1         |           1           |\n",
       "|       other        |  60 months |        0         |           1           |\n",
       "| debt_consolidation |  36 months |        1         |           1           |\n",
       "+--------------------+------------+------------------+-----------------------+\n",
       "+------------+--------------------+------------+\n",
       "| revol_util | total_rec_late_fee | safe_loans |\n",
       "+------------+--------------------+------------+\n",
       "|    82.4    |        0.0         |     1      |\n",
       "|    96.4    |        0.0         |     1      |\n",
       "|    59.5    |        0.0         |     -1     |\n",
       "|    62.1    |        0.0         |     -1     |\n",
       "+------------+--------------------+------------+\n",
       "[4 rows x 13 columns]"
      ]
     },
     "execution_count": 19,
     "metadata": {},
     "output_type": "execute_result"
    }
   ],
   "source": [
    "validation_safe_loans = validation_data[validation_data[target] == 1]\n",
    "validation_risky_loans = validation_data[validation_data[target] == -1]\n",
    "\n",
    "sample_validation_data_risky = validation_risky_loans[0:2]\n",
    "sample_validation_data_safe = validation_safe_loans[0:2]\n",
    "\n",
    "sample_validation_data = sample_validation_data_safe.append(sample_validation_data_risky)\n",
    "sample_validation_data"
   ]
  },
  {
   "cell_type": "code",
   "execution_count": 20,
   "metadata": {
    "collapsed": false
   },
   "outputs": [
    {
     "data": {
      "text/plain": [
       "dtype: int\n",
       "Rows: 4\n",
       "[1L, -1L, -1L, 1L]"
      ]
     },
     "execution_count": 20,
     "metadata": {},
     "output_type": "execute_result"
    }
   ],
   "source": [
    "decision_tree_model.predict(sample_validation_data)"
   ]
  },
  {
   "cell_type": "code",
   "execution_count": 21,
   "metadata": {
    "collapsed": false
   },
   "outputs": [
    {
     "data": {
      "text/plain": [
       "0.5"
      ]
     },
     "execution_count": 21,
     "metadata": {},
     "output_type": "execute_result"
    }
   ],
   "source": [
    "(sample_validation_data['safe_loans'] == decision_tree_model.predict(sample_validation_data)).sum()/float(len(sample_validation_data))"
   ]
  },
  {
   "cell_type": "code",
   "execution_count": 22,
   "metadata": {
    "collapsed": false
   },
   "outputs": [
    {
     "data": {
      "text/plain": [
       "dtype: float\n",
       "Rows: 4\n",
       "[0.5473502278327942, 0.4891221821308136, 0.4559234082698822, 0.5864479541778564]"
      ]
     },
     "execution_count": 22,
     "metadata": {},
     "output_type": "execute_result"
    }
   ],
   "source": [
    "decision_tree_model.predict(sample_validation_data, output_type='probability')"
   ]
  },
  {
   "cell_type": "code",
   "execution_count": 23,
   "metadata": {
    "collapsed": false
   },
   "outputs": [
    {
     "data": {
      "text/plain": [
       "dtype: float\n",
       "Rows: 4\n",
       "[0.5242817997932434, 0.47226759791374207, 0.47226759791374207, 0.5798847675323486]"
      ]
     },
     "execution_count": 23,
     "metadata": {},
     "output_type": "execute_result"
    }
   ],
   "source": [
    "small_model.predict(sample_validation_data, output_type='probability')"
   ]
  },
  {
   "cell_type": "code",
   "execution_count": 24,
   "metadata": {
    "collapsed": false
   },
   "outputs": [
    {
     "data": {
      "text/plain": [
       "{'dti': 16.85,\n",
       " 'emp_length_num': 10L,\n",
       " 'grade': 'D',\n",
       " 'home_ownership': 'RENT',\n",
       " 'last_delinq_none': 1L,\n",
       " 'last_major_derog_none': 1L,\n",
       " 'purpose': 'debt_consolidation',\n",
       " 'revol_util': 96.4,\n",
       " 'safe_loans': 1L,\n",
       " 'short_emp': 0L,\n",
       " 'sub_grade': 'D1',\n",
       " 'term': ' 36 months',\n",
       " 'total_rec_late_fee': 0.0}"
      ]
     },
     "execution_count": 24,
     "metadata": {},
     "output_type": "execute_result"
    }
   ],
   "source": [
    "sample_validation_data[1]"
   ]
  },
  {
   "cell_type": "code",
   "execution_count": 25,
   "metadata": {
    "collapsed": false
   },
   "outputs": [
    {
     "data": {
      "application/javascript": [
       "$(\"head\").append($(\"<link/>\").attr({\n",
       "  rel:  \"stylesheet\",\n",
       "  type: \"text/css\",\n",
       "  href: \"//cdnjs.cloudflare.com/ajax/libs/font-awesome/4.1.0/css/font-awesome.min.css\"\n",
       "}));\n",
       "$(\"head\").append($(\"<link/>\").attr({\n",
       "  rel:  \"stylesheet\",\n",
       "  type: \"text/css\",\n",
       "  href: \"https://static.turi.com/products/graphlab-create/2.1/canvas/css/canvas.css\"\n",
       "}));\n",
       "\n",
       "            (function(){\n",
       "\n",
       "                var e = null;\n",
       "                if (typeof element == 'undefined') {\n",
       "                    var scripts = document.getElementsByTagName('script');\n",
       "                    var thisScriptTag = scripts[scripts.length-1];\n",
       "                    var parentDiv = thisScriptTag.parentNode;\n",
       "                    e = document.createElement('div');\n",
       "                    parentDiv.appendChild(e);\n",
       "                } else {\n",
       "                    e = element[0];\n",
       "                }\n",
       "\n",
       "                if (typeof requirejs !== 'undefined') {\n",
       "                    // disable load timeout; ipython_app.js is large and can take a while to load.\n",
       "                    requirejs.config({waitSeconds: 0});\n",
       "                }\n",
       "\n",
       "                require(['https://static.turi.com/products/graphlab-create/2.1/canvas/js/ipython_app.js'], function(IPythonApp){\n",
       "                    var app = new IPythonApp();\n",
       "                    app.attachView('sgraph','View', {\"edges_labels\": [\"yes\", \"no\", \"yes\", \"no\", \"no\", \"yes\"], \"selected_variable\": {\"name\": [\"<SGraph>\"], \"view_file\": \"sgraph\", \"view_component\": \"View\", \"view_params\": {\"elabel_hover\": false, \"vertex_positions\": null, \"h_offset\": 0.0, \"node_size\": 300, \"ecolor\": [0.37, 0.33, 0.33], \"elabel\": \"value\", \"arrows\": true, \"ewidth\": 1, \"vlabel\": \"__repr__\", \"highlight_color\": [0.69, 0.0, 0.498], \"vcolor\": [0.522, 0.741, 0.0], \"vlabel_hover\": false, \"highlight\": {\"0\": [0.69, 0.0, 0.48], \"3\": [0.039, 0.55, 0.77], \"4\": [1.0, 0.33, 0.0], \"5\": [1.0, 0.33, 0.0], \"6\": [0.039, 0.55, 0.77]}, \"v_offset\": 0.03}, \"view_components\": [\"View\"], \"type\": \"SGraph\", \"descriptives_links\": {\"edges\": \"edges\", \"vertices\": \"vertices\"}, \"descriptives\": {\"edges\": 6, \"vertices\": 7}}, \"positions\": null, \"error_type\": 0, \"vertices\": [5, 0, 2, 6, 3, 1, 4], \"vertices_labels\": [\"0.3223\", \"grade=A\", \"total_rec_late_fee<14.83015\", \"-0.273469\", \"-0.111044\", \"grade=B\", \"0.097203\"], \"edges\": [[0, 2], [0, 1], [2, 5], [2, 6], [1, 3], [1, 4]], \"ipython\": true, \"error_msg\": \"\"}, e);\n",
       "                });\n",
       "            })();\n",
       "        "
      ]
     },
     "metadata": {},
     "output_type": "display_data"
    }
   ],
   "source": [
    "small_model.show(view=\"Tree\")\n"
   ]
  },
  {
   "cell_type": "code",
   "execution_count": 26,
   "metadata": {
    "collapsed": false
   },
   "outputs": [
    {
     "data": {
      "text/plain": [
       "dtype: int\n",
       "Rows: 1\n",
       "[-1L]"
      ]
     },
     "execution_count": 26,
     "metadata": {},
     "output_type": "execute_result"
    }
   ],
   "source": [
    "small_model.predict(sample_validation_data[1])"
   ]
  },
  {
   "cell_type": "code",
   "execution_count": 27,
   "metadata": {
    "collapsed": false
   },
   "outputs": [
    {
     "name": "stdout",
     "output_type": "stream",
     "text": [
      "0.613502041694\n",
      "0.640581345369\n"
     ]
    }
   ],
   "source": [
    "print small_model.evaluate(train_data)['accuracy']\n",
    "print decision_tree_model.evaluate(train_data)['accuracy']"
   ]
  },
  {
   "cell_type": "code",
   "execution_count": 28,
   "metadata": {
    "collapsed": false
   },
   "outputs": [
    {
     "name": "stdout",
     "output_type": "stream",
     "text": [
      "0.619345109866\n",
      "0.636794485136\n"
     ]
    }
   ],
   "source": [
    "print small_model.evaluate(validation_data)['accuracy']\n",
    "print decision_tree_model.evaluate(validation_data)['accuracy']"
   ]
  },
  {
   "cell_type": "code",
   "execution_count": 29,
   "metadata": {
    "collapsed": false
   },
   "outputs": [
    {
     "data": {
      "text/html": [
       "<pre>Decision tree classifier:</pre>"
      ],
      "text/plain": [
       "Decision tree classifier:"
      ]
     },
     "metadata": {},
     "output_type": "display_data"
    },
    {
     "data": {
      "text/html": [
       "<pre>--------------------------------------------------------</pre>"
      ],
      "text/plain": [
       "--------------------------------------------------------"
      ]
     },
     "metadata": {},
     "output_type": "display_data"
    },
    {
     "data": {
      "text/html": [
       "<pre>Number of examples          : 37224</pre>"
      ],
      "text/plain": [
       "Number of examples          : 37224"
      ]
     },
     "metadata": {},
     "output_type": "display_data"
    },
    {
     "data": {
      "text/html": [
       "<pre>Number of classes           : 2</pre>"
      ],
      "text/plain": [
       "Number of classes           : 2"
      ]
     },
     "metadata": {},
     "output_type": "display_data"
    },
    {
     "data": {
      "text/html": [
       "<pre>Number of feature columns   : 12</pre>"
      ],
      "text/plain": [
       "Number of feature columns   : 12"
      ]
     },
     "metadata": {},
     "output_type": "display_data"
    },
    {
     "data": {
      "text/html": [
       "<pre>Number of unpacked features : 12</pre>"
      ],
      "text/plain": [
       "Number of unpacked features : 12"
      ]
     },
     "metadata": {},
     "output_type": "display_data"
    },
    {
     "data": {
      "text/html": [
       "<pre>+-----------+--------------+-------------------+-------------------+</pre>"
      ],
      "text/plain": [
       "+-----------+--------------+-------------------+-------------------+"
      ]
     },
     "metadata": {},
     "output_type": "display_data"
    },
    {
     "data": {
      "text/html": [
       "<pre>| Iteration | Elapsed Time | Training-accuracy | Training-log_loss |</pre>"
      ],
      "text/plain": [
       "| Iteration | Elapsed Time | Training-accuracy | Training-log_loss |"
      ]
     },
     "metadata": {},
     "output_type": "display_data"
    },
    {
     "data": {
      "text/html": [
       "<pre>+-----------+--------------+-------------------+-------------------+</pre>"
      ],
      "text/plain": [
       "+-----------+--------------+-------------------+-------------------+"
      ]
     },
     "metadata": {},
     "output_type": "display_data"
    },
    {
     "data": {
      "text/html": [
       "<pre>| 1         | 0.081950     | 0.665538          | 0.652730          |</pre>"
      ],
      "text/plain": [
       "| 1         | 0.081950     | 0.665538          | 0.652730          |"
      ]
     },
     "metadata": {},
     "output_type": "display_data"
    },
    {
     "data": {
      "text/html": [
       "<pre>+-----------+--------------+-------------------+-------------------+</pre>"
      ],
      "text/plain": [
       "+-----------+--------------+-------------------+-------------------+"
      ]
     },
     "metadata": {},
     "output_type": "display_data"
    }
   ],
   "source": [
    "big_model = graphlab.decision_tree_classifier.create(train_data, validation_set=None,\n",
    "                   target = target, features = features, max_depth = 10)"
   ]
  },
  {
   "cell_type": "code",
   "execution_count": 30,
   "metadata": {
    "collapsed": false
   },
   "outputs": [
    {
     "name": "stdout",
     "output_type": "stream",
     "text": [
      "0.665538362347\n",
      "0.627423524343\n"
     ]
    }
   ],
   "source": [
    "print big_model.evaluate(train_data)['accuracy']\n",
    "print big_model.evaluate(validation_data)['accuracy']\n"
   ]
  },
  {
   "cell_type": "code",
   "execution_count": 31,
   "metadata": {
    "collapsed": true
   },
   "outputs": [],
   "source": [
    "predictions = decision_tree_model.predict(validation_data)\n"
   ]
  },
  {
   "cell_type": "code",
   "execution_count": 32,
   "metadata": {
    "collapsed": false
   },
   "outputs": [
    {
     "data": {
      "application/javascript": [
       "$(\"head\").append($(\"<link/>\").attr({\n",
       "  rel:  \"stylesheet\",\n",
       "  type: \"text/css\",\n",
       "  href: \"//cdnjs.cloudflare.com/ajax/libs/font-awesome/4.1.0/css/font-awesome.min.css\"\n",
       "}));\n",
       "$(\"head\").append($(\"<link/>\").attr({\n",
       "  rel:  \"stylesheet\",\n",
       "  type: \"text/css\",\n",
       "  href: \"https://static.turi.com/products/graphlab-create/2.1/canvas/css/canvas.css\"\n",
       "}));\n",
       "\n",
       "            (function(){\n",
       "\n",
       "                var e = null;\n",
       "                if (typeof element == 'undefined') {\n",
       "                    var scripts = document.getElementsByTagName('script');\n",
       "                    var thisScriptTag = scripts[scripts.length-1];\n",
       "                    var parentDiv = thisScriptTag.parentNode;\n",
       "                    e = document.createElement('div');\n",
       "                    parentDiv.appendChild(e);\n",
       "                } else {\n",
       "                    e = element[0];\n",
       "                }\n",
       "\n",
       "                if (typeof requirejs !== 'undefined') {\n",
       "                    // disable load timeout; ipython_app.js is large and can take a while to load.\n",
       "                    requirejs.config({waitSeconds: 0});\n",
       "                }\n",
       "\n",
       "                require(['https://static.turi.com/products/graphlab-create/2.1/canvas/js/ipython_app.js'], function(IPythonApp){\n",
       "                    var app = new IPythonApp();\n",
       "                    app.attachView('model','Evaluation', {\"comparison\": null, \"selected_variable\": {\"comparison\": null, \"name\": [\"decision_tree_model\"], \"view_file\": \"model\", \"view_component\": \"Evaluation\", \"view_params\": {\"model_type\": \"regression\", \"view\": \"Evaluation\"}, \"view_components\": [\"Summary\", \"Evaluation\", \"Comparison\"], \"model_type\": \"regression\", \"attributes\": {\"section_titles\": [\"Schema\", \"Settings\"], \"sections\": [[[\"Number of examples\", 37224], [\"Number of feature columns\", 12], [\"Number of unpacked features\", 12], [\"Number of classes\", 2]], [[\"Number of trees\", 1], [\"Max tree depth\", 6], [\"Training time (sec)\", 0.1299], [\"Training accuracy\", 0.6406], [\"Validation accuracy\", null], [\"Training log_loss\", 0.6633], [\"Validation log_loss\", null]]]}, \"evaluations\": [[\"validation_data\", {\"f1_score\": 0.631877729257642, \"auc\": 0.684473995156666, \"recall\": 0.627765726681128, \"precision\": 0.636043956043956, \"log_loss\": 0.6646541662301187, \"roc_curve\": [{\"threshold\": 0.0, \"p\": 4610, \"fpr\": 1.0, \"tpr\": 1.0, \"n\": 4674}, {\"threshold\": 0.001, \"p\": 4610, \"fpr\": 1.0, \"tpr\": 1.0, \"n\": 4674}, {\"threshold\": 0.002, \"p\": 4610, \"fpr\": 1.0, \"tpr\": 1.0, \"n\": 4674}, {\"threshold\": 0.003, \"p\": 4610, \"fpr\": 1.0, \"tpr\": 1.0, \"n\": 4674}, {\"threshold\": 0.004, \"p\": 4610, \"fpr\": 1.0, \"tpr\": 1.0, \"n\": 4674}, {\"threshold\": 0.005, \"p\": 4610, \"fpr\": 1.0, \"tpr\": 1.0, \"n\": 4674}, {\"threshold\": 0.006, \"p\": 4610, \"fpr\": 1.0, \"tpr\": 1.0, \"n\": 4674}, {\"threshold\": 0.007, \"p\": 4610, \"fpr\": 1.0, \"tpr\": 1.0, \"n\": 4674}, {\"threshold\": 0.008, \"p\": 4610, \"fpr\": 1.0, \"tpr\": 1.0, \"n\": 4674}, {\"threshold\": 0.009, \"p\": 4610, \"fpr\": 1.0, \"tpr\": 1.0, \"n\": 4674}, {\"threshold\": 0.01, \"p\": 4610, \"fpr\": 1.0, \"tpr\": 1.0, \"n\": 4674}, {\"threshold\": 0.011, \"p\": 4610, \"fpr\": 1.0, \"tpr\": 1.0, \"n\": 4674}, {\"threshold\": 0.012, \"p\": 4610, \"fpr\": 1.0, \"tpr\": 1.0, \"n\": 4674}, {\"threshold\": 0.013, \"p\": 4610, \"fpr\": 1.0, \"tpr\": 1.0, \"n\": 4674}, {\"threshold\": 0.014, \"p\": 4610, \"fpr\": 1.0, \"tpr\": 1.0, \"n\": 4674}, {\"threshold\": 0.015, \"p\": 4610, \"fpr\": 1.0, \"tpr\": 1.0, \"n\": 4674}, {\"threshold\": 0.016, \"p\": 4610, \"fpr\": 1.0, \"tpr\": 1.0, \"n\": 4674}, {\"threshold\": 0.017, \"p\": 4610, \"fpr\": 1.0, \"tpr\": 1.0, \"n\": 4674}, {\"threshold\": 0.018, \"p\": 4610, \"fpr\": 1.0, \"tpr\": 1.0, \"n\": 4674}, {\"threshold\": 0.019, \"p\": 4610, \"fpr\": 1.0, \"tpr\": 1.0, \"n\": 4674}, {\"threshold\": 0.02, \"p\": 4610, \"fpr\": 1.0, \"tpr\": 1.0, \"n\": 4674}, {\"threshold\": 0.021, \"p\": 4610, \"fpr\": 1.0, \"tpr\": 1.0, \"n\": 4674}, {\"threshold\": 0.022, \"p\": 4610, \"fpr\": 1.0, \"tpr\": 1.0, \"n\": 4674}, {\"threshold\": 0.023, \"p\": 4610, \"fpr\": 1.0, \"tpr\": 1.0, \"n\": 4674}, {\"threshold\": 0.024, \"p\": 4610, \"fpr\": 1.0, \"tpr\": 1.0, \"n\": 4674}, {\"threshold\": 0.025, \"p\": 4610, \"fpr\": 1.0, \"tpr\": 1.0, \"n\": 4674}, {\"threshold\": 0.026, \"p\": 4610, \"fpr\": 1.0, \"tpr\": 1.0, \"n\": 4674}, {\"threshold\": 0.027, \"p\": 4610, \"fpr\": 1.0, \"tpr\": 1.0, \"n\": 4674}, {\"threshold\": 0.028, \"p\": 4610, \"fpr\": 1.0, \"tpr\": 1.0, \"n\": 4674}, {\"threshold\": 0.029, \"p\": 4610, \"fpr\": 1.0, \"tpr\": 1.0, \"n\": 4674}, {\"threshold\": 0.03, \"p\": 4610, \"fpr\": 1.0, \"tpr\": 1.0, \"n\": 4674}, {\"threshold\": 0.031, \"p\": 4610, \"fpr\": 1.0, \"tpr\": 1.0, \"n\": 4674}, {\"threshold\": 0.032, \"p\": 4610, \"fpr\": 1.0, \"tpr\": 1.0, \"n\": 4674}, {\"threshold\": 0.033, \"p\": 4610, \"fpr\": 1.0, \"tpr\": 1.0, \"n\": 4674}, {\"threshold\": 0.034, \"p\": 4610, \"fpr\": 1.0, \"tpr\": 1.0, \"n\": 4674}, {\"threshold\": 0.035, \"p\": 4610, \"fpr\": 1.0, \"tpr\": 1.0, \"n\": 4674}, {\"threshold\": 0.036, \"p\": 4610, \"fpr\": 1.0, \"tpr\": 1.0, \"n\": 4674}, {\"threshold\": 0.037, \"p\": 4610, \"fpr\": 1.0, \"tpr\": 1.0, \"n\": 4674}, {\"threshold\": 0.038, \"p\": 4610, \"fpr\": 1.0, \"tpr\": 1.0, \"n\": 4674}, {\"threshold\": 0.039, \"p\": 4610, \"fpr\": 1.0, \"tpr\": 1.0, \"n\": 4674}, {\"threshold\": 0.04, \"p\": 4610, \"fpr\": 1.0, \"tpr\": 1.0, \"n\": 4674}, {\"threshold\": 0.041, \"p\": 4610, \"fpr\": 1.0, \"tpr\": 1.0, \"n\": 4674}, {\"threshold\": 0.042, \"p\": 4610, \"fpr\": 1.0, \"tpr\": 1.0, \"n\": 4674}, {\"threshold\": 0.043, \"p\": 4610, \"fpr\": 1.0, \"tpr\": 1.0, \"n\": 4674}, {\"threshold\": 0.044, \"p\": 4610, \"fpr\": 1.0, \"tpr\": 1.0, \"n\": 4674}, {\"threshold\": 0.045, \"p\": 4610, \"fpr\": 1.0, \"tpr\": 1.0, \"n\": 4674}, {\"threshold\": 0.046, \"p\": 4610, \"fpr\": 1.0, \"tpr\": 1.0, \"n\": 4674}, {\"threshold\": 0.047, \"p\": 4610, \"fpr\": 1.0, \"tpr\": 1.0, \"n\": 4674}, {\"threshold\": 0.048, \"p\": 4610, \"fpr\": 1.0, \"tpr\": 1.0, \"n\": 4674}, {\"threshold\": 0.049, \"p\": 4610, \"fpr\": 1.0, \"tpr\": 1.0, \"n\": 4674}, {\"threshold\": 0.05, \"p\": 4610, \"fpr\": 1.0, \"tpr\": 1.0, \"n\": 4674}, {\"threshold\": 0.051, \"p\": 4610, \"fpr\": 1.0, \"tpr\": 1.0, \"n\": 4674}, {\"threshold\": 0.052, \"p\": 4610, \"fpr\": 1.0, \"tpr\": 1.0, \"n\": 4674}, {\"threshold\": 0.053, \"p\": 4610, \"fpr\": 1.0, \"tpr\": 1.0, \"n\": 4674}, {\"threshold\": 0.054, \"p\": 4610, \"fpr\": 1.0, \"tpr\": 1.0, \"n\": 4674}, {\"threshold\": 0.055, \"p\": 4610, \"fpr\": 1.0, \"tpr\": 1.0, \"n\": 4674}, {\"threshold\": 0.056, \"p\": 4610, \"fpr\": 1.0, \"tpr\": 1.0, \"n\": 4674}, {\"threshold\": 0.057, \"p\": 4610, \"fpr\": 1.0, \"tpr\": 1.0, \"n\": 4674}, {\"threshold\": 0.058, \"p\": 4610, \"fpr\": 1.0, \"tpr\": 1.0, \"n\": 4674}, {\"threshold\": 0.059, \"p\": 4610, \"fpr\": 1.0, \"tpr\": 1.0, \"n\": 4674}, {\"threshold\": 0.06, \"p\": 4610, \"fpr\": 1.0, \"tpr\": 1.0, \"n\": 4674}, {\"threshold\": 0.061, \"p\": 4610, \"fpr\": 1.0, \"tpr\": 1.0, \"n\": 4674}, {\"threshold\": 0.062, \"p\": 4610, \"fpr\": 1.0, \"tpr\": 1.0, \"n\": 4674}, {\"threshold\": 0.063, \"p\": 4610, \"fpr\": 1.0, \"tpr\": 1.0, \"n\": 4674}, {\"threshold\": 0.064, \"p\": 4610, \"fpr\": 1.0, \"tpr\": 1.0, \"n\": 4674}, {\"threshold\": 0.065, \"p\": 4610, \"fpr\": 1.0, \"tpr\": 1.0, \"n\": 4674}, {\"threshold\": 0.066, \"p\": 4610, \"fpr\": 1.0, \"tpr\": 1.0, \"n\": 4674}, {\"threshold\": 0.067, \"p\": 4610, \"fpr\": 1.0, \"tpr\": 1.0, \"n\": 4674}, {\"threshold\": 0.068, \"p\": 4610, \"fpr\": 1.0, \"tpr\": 1.0, \"n\": 4674}, {\"threshold\": 0.069, \"p\": 4610, \"fpr\": 1.0, \"tpr\": 1.0, \"n\": 4674}, {\"threshold\": 0.07, \"p\": 4610, \"fpr\": 1.0, \"tpr\": 1.0, \"n\": 4674}, {\"threshold\": 0.071, \"p\": 4610, \"fpr\": 1.0, \"tpr\": 1.0, \"n\": 4674}, {\"threshold\": 0.072, \"p\": 4610, \"fpr\": 1.0, \"tpr\": 1.0, \"n\": 4674}, {\"threshold\": 0.073, \"p\": 4610, \"fpr\": 1.0, \"tpr\": 1.0, \"n\": 4674}, {\"threshold\": 0.074, \"p\": 4610, \"fpr\": 1.0, \"tpr\": 1.0, \"n\": 4674}, {\"threshold\": 0.075, \"p\": 4610, \"fpr\": 1.0, \"tpr\": 1.0, \"n\": 4674}, {\"threshold\": 0.076, \"p\": 4610, \"fpr\": 1.0, \"tpr\": 1.0, \"n\": 4674}, {\"threshold\": 0.077, \"p\": 4610, \"fpr\": 1.0, \"tpr\": 1.0, \"n\": 4674}, {\"threshold\": 0.078, \"p\": 4610, \"fpr\": 1.0, \"tpr\": 1.0, \"n\": 4674}, {\"threshold\": 0.079, \"p\": 4610, \"fpr\": 1.0, \"tpr\": 1.0, \"n\": 4674}, {\"threshold\": 0.08, \"p\": 4610, \"fpr\": 1.0, \"tpr\": 1.0, \"n\": 4674}, {\"threshold\": 0.081, \"p\": 4610, \"fpr\": 1.0, \"tpr\": 1.0, \"n\": 4674}, {\"threshold\": 0.082, \"p\": 4610, \"fpr\": 1.0, \"tpr\": 1.0, \"n\": 4674}, {\"threshold\": 0.083, \"p\": 4610, \"fpr\": 1.0, \"tpr\": 1.0, \"n\": 4674}, {\"threshold\": 0.084, \"p\": 4610, \"fpr\": 1.0, \"tpr\": 1.0, \"n\": 4674}, {\"threshold\": 0.085, \"p\": 4610, \"fpr\": 1.0, \"tpr\": 1.0, \"n\": 4674}, {\"threshold\": 0.086, \"p\": 4610, \"fpr\": 1.0, \"tpr\": 1.0, \"n\": 4674}, {\"threshold\": 0.087, \"p\": 4610, \"fpr\": 1.0, \"tpr\": 1.0, \"n\": 4674}, {\"threshold\": 0.088, \"p\": 4610, \"fpr\": 1.0, \"tpr\": 1.0, \"n\": 4674}, {\"threshold\": 0.089, \"p\": 4610, \"fpr\": 1.0, \"tpr\": 1.0, \"n\": 4674}, {\"threshold\": 0.09, \"p\": 4610, \"fpr\": 1.0, \"tpr\": 1.0, \"n\": 4674}, {\"threshold\": 0.091, \"p\": 4610, \"fpr\": 1.0, \"tpr\": 1.0, \"n\": 4674}, {\"threshold\": 0.092, \"p\": 4610, \"fpr\": 1.0, \"tpr\": 1.0, \"n\": 4674}, {\"threshold\": 0.093, \"p\": 4610, \"fpr\": 1.0, \"tpr\": 1.0, \"n\": 4674}, {\"threshold\": 0.094, \"p\": 4610, \"fpr\": 1.0, \"tpr\": 1.0, \"n\": 4674}, {\"threshold\": 0.095, \"p\": 4610, \"fpr\": 1.0, \"tpr\": 1.0, \"n\": 4674}, {\"threshold\": 0.096, \"p\": 4610, \"fpr\": 1.0, \"tpr\": 1.0, \"n\": 4674}, {\"threshold\": 0.097, \"p\": 4610, \"fpr\": 1.0, \"tpr\": 1.0, \"n\": 4674}, {\"threshold\": 0.098, \"p\": 4610, \"fpr\": 1.0, \"tpr\": 1.0, \"n\": 4674}, {\"threshold\": 0.099, \"p\": 4610, \"fpr\": 1.0, \"tpr\": 1.0, \"n\": 4674}, {\"threshold\": 0.1, \"p\": 4610, \"fpr\": 1.0, \"tpr\": 1.0, \"n\": 4674}, {\"threshold\": 0.101, \"p\": 4610, \"fpr\": 1.0, \"tpr\": 1.0, \"n\": 4674}, {\"threshold\": 0.102, \"p\": 4610, \"fpr\": 1.0, \"tpr\": 1.0, \"n\": 4674}, {\"threshold\": 0.103, \"p\": 4610, \"fpr\": 1.0, \"tpr\": 1.0, \"n\": 4674}, {\"threshold\": 0.104, \"p\": 4610, \"fpr\": 1.0, \"tpr\": 1.0, \"n\": 4674}, {\"threshold\": 0.105, \"p\": 4610, \"fpr\": 1.0, \"tpr\": 1.0, \"n\": 4674}, {\"threshold\": 0.106, \"p\": 4610, \"fpr\": 1.0, \"tpr\": 1.0, \"n\": 4674}, {\"threshold\": 0.107, \"p\": 4610, \"fpr\": 1.0, \"tpr\": 1.0, \"n\": 4674}, {\"threshold\": 0.108, \"p\": 4610, \"fpr\": 1.0, \"tpr\": 1.0, \"n\": 4674}, {\"threshold\": 0.109, \"p\": 4610, \"fpr\": 1.0, \"tpr\": 1.0, \"n\": 4674}, {\"threshold\": 0.11, \"p\": 4610, \"fpr\": 1.0, \"tpr\": 1.0, \"n\": 4674}, {\"threshold\": 0.111, \"p\": 4610, \"fpr\": 1.0, \"tpr\": 1.0, \"n\": 4674}, {\"threshold\": 0.112, \"p\": 4610, \"fpr\": 1.0, \"tpr\": 1.0, \"n\": 4674}, {\"threshold\": 0.113, \"p\": 4610, \"fpr\": 1.0, \"tpr\": 1.0, \"n\": 4674}, {\"threshold\": 0.114, \"p\": 4610, \"fpr\": 1.0, \"tpr\": 1.0, \"n\": 4674}, {\"threshold\": 0.115, \"p\": 4610, \"fpr\": 1.0, \"tpr\": 1.0, \"n\": 4674}, {\"threshold\": 0.116, \"p\": 4610, \"fpr\": 1.0, \"tpr\": 1.0, \"n\": 4674}, {\"threshold\": 0.117, \"p\": 4610, \"fpr\": 1.0, \"tpr\": 1.0, \"n\": 4674}, {\"threshold\": 0.118, \"p\": 4610, \"fpr\": 1.0, \"tpr\": 1.0, \"n\": 4674}, {\"threshold\": 0.119, \"p\": 4610, \"fpr\": 1.0, \"tpr\": 1.0, \"n\": 4674}, {\"threshold\": 0.12, \"p\": 4610, \"fpr\": 1.0, \"tpr\": 1.0, \"n\": 4674}, {\"threshold\": 0.121, \"p\": 4610, \"fpr\": 1.0, \"tpr\": 1.0, \"n\": 4674}, {\"threshold\": 0.122, \"p\": 4610, \"fpr\": 1.0, \"tpr\": 1.0, \"n\": 4674}, {\"threshold\": 0.123, \"p\": 4610, \"fpr\": 1.0, \"tpr\": 1.0, \"n\": 4674}, {\"threshold\": 0.124, \"p\": 4610, \"fpr\": 1.0, \"tpr\": 1.0, \"n\": 4674}, {\"threshold\": 0.125, \"p\": 4610, \"fpr\": 1.0, \"tpr\": 1.0, \"n\": 4674}, {\"threshold\": 0.126, \"p\": 4610, \"fpr\": 1.0, \"tpr\": 1.0, \"n\": 4674}, {\"threshold\": 0.127, \"p\": 4610, \"fpr\": 1.0, \"tpr\": 1.0, \"n\": 4674}, {\"threshold\": 0.128, \"p\": 4610, \"fpr\": 1.0, \"tpr\": 1.0, \"n\": 4674}, {\"threshold\": 0.129, \"p\": 4610, \"fpr\": 1.0, \"tpr\": 1.0, \"n\": 4674}, {\"threshold\": 0.13, \"p\": 4610, \"fpr\": 1.0, \"tpr\": 1.0, \"n\": 4674}, {\"threshold\": 0.131, \"p\": 4610, \"fpr\": 1.0, \"tpr\": 1.0, \"n\": 4674}, {\"threshold\": 0.132, \"p\": 4610, \"fpr\": 1.0, \"tpr\": 1.0, \"n\": 4674}, {\"threshold\": 0.133, \"p\": 4610, \"fpr\": 1.0, \"tpr\": 1.0, \"n\": 4674}, {\"threshold\": 0.134, \"p\": 4610, \"fpr\": 1.0, \"tpr\": 1.0, \"n\": 4674}, {\"threshold\": 0.135, \"p\": 4610, \"fpr\": 1.0, \"tpr\": 1.0, \"n\": 4674}, {\"threshold\": 0.136, \"p\": 4610, \"fpr\": 1.0, \"tpr\": 1.0, \"n\": 4674}, {\"threshold\": 0.137, \"p\": 4610, \"fpr\": 1.0, \"tpr\": 1.0, \"n\": 4674}, {\"threshold\": 0.138, \"p\": 4610, \"fpr\": 1.0, \"tpr\": 1.0, \"n\": 4674}, {\"threshold\": 0.139, \"p\": 4610, \"fpr\": 1.0, \"tpr\": 1.0, \"n\": 4674}, {\"threshold\": 0.14, \"p\": 4610, \"fpr\": 1.0, \"tpr\": 1.0, \"n\": 4674}, {\"threshold\": 0.141, \"p\": 4610, \"fpr\": 1.0, \"tpr\": 1.0, \"n\": 4674}, {\"threshold\": 0.142, \"p\": 4610, \"fpr\": 1.0, \"tpr\": 1.0, \"n\": 4674}, {\"threshold\": 0.143, \"p\": 4610, \"fpr\": 1.0, \"tpr\": 1.0, \"n\": 4674}, {\"threshold\": 0.144, \"p\": 4610, \"fpr\": 1.0, \"tpr\": 1.0, \"n\": 4674}, {\"threshold\": 0.145, \"p\": 4610, \"fpr\": 1.0, \"tpr\": 1.0, \"n\": 4674}, {\"threshold\": 0.146, \"p\": 4610, \"fpr\": 1.0, \"tpr\": 1.0, \"n\": 4674}, {\"threshold\": 0.147, \"p\": 4610, \"fpr\": 1.0, \"tpr\": 1.0, \"n\": 4674}, {\"threshold\": 0.148, \"p\": 4610, \"fpr\": 1.0, \"tpr\": 1.0, \"n\": 4674}, {\"threshold\": 0.149, \"p\": 4610, \"fpr\": 1.0, \"tpr\": 1.0, \"n\": 4674}, {\"threshold\": 0.15, \"p\": 4610, \"fpr\": 1.0, \"tpr\": 1.0, \"n\": 4674}, {\"threshold\": 0.151, \"p\": 4610, \"fpr\": 1.0, \"tpr\": 1.0, \"n\": 4674}, {\"threshold\": 0.152, \"p\": 4610, \"fpr\": 1.0, \"tpr\": 1.0, \"n\": 4674}, {\"threshold\": 0.153, \"p\": 4610, \"fpr\": 1.0, \"tpr\": 1.0, \"n\": 4674}, {\"threshold\": 0.154, \"p\": 4610, \"fpr\": 1.0, \"tpr\": 1.0, \"n\": 4674}, {\"threshold\": 0.155, \"p\": 4610, \"fpr\": 1.0, \"tpr\": 1.0, \"n\": 4674}, {\"threshold\": 0.156, \"p\": 4610, \"fpr\": 1.0, \"tpr\": 1.0, \"n\": 4674}, {\"threshold\": 0.157, \"p\": 4610, \"fpr\": 1.0, \"tpr\": 1.0, \"n\": 4674}, {\"threshold\": 0.158, \"p\": 4610, \"fpr\": 1.0, \"tpr\": 1.0, \"n\": 4674}, {\"threshold\": 0.159, \"p\": 4610, \"fpr\": 1.0, \"tpr\": 1.0, \"n\": 4674}, {\"threshold\": 0.16, \"p\": 4610, \"fpr\": 1.0, \"tpr\": 1.0, \"n\": 4674}, {\"threshold\": 0.161, \"p\": 4610, \"fpr\": 1.0, \"tpr\": 1.0, \"n\": 4674}, {\"threshold\": 0.162, \"p\": 4610, \"fpr\": 1.0, \"tpr\": 1.0, \"n\": 4674}, {\"threshold\": 0.163, \"p\": 4610, \"fpr\": 1.0, \"tpr\": 1.0, \"n\": 4674}, {\"threshold\": 0.164, \"p\": 4610, \"fpr\": 1.0, \"tpr\": 1.0, \"n\": 4674}, {\"threshold\": 0.165, \"p\": 4610, \"fpr\": 1.0, \"tpr\": 1.0, \"n\": 4674}, {\"threshold\": 0.166, \"p\": 4610, \"fpr\": 1.0, \"tpr\": 1.0, \"n\": 4674}, {\"threshold\": 0.167, \"p\": 4610, \"fpr\": 1.0, \"tpr\": 1.0, \"n\": 4674}, {\"threshold\": 0.168, \"p\": 4610, \"fpr\": 1.0, \"tpr\": 1.0, \"n\": 4674}, {\"threshold\": 0.169, \"p\": 4610, \"fpr\": 1.0, \"tpr\": 1.0, \"n\": 4674}, {\"threshold\": 0.17, \"p\": 4610, \"fpr\": 1.0, \"tpr\": 1.0, \"n\": 4674}, {\"threshold\": 0.171, \"p\": 4610, \"fpr\": 1.0, \"tpr\": 1.0, \"n\": 4674}, {\"threshold\": 0.172, \"p\": 4610, \"fpr\": 1.0, \"tpr\": 1.0, \"n\": 4674}, {\"threshold\": 0.173, \"p\": 4610, \"fpr\": 1.0, \"tpr\": 1.0, \"n\": 4674}, {\"threshold\": 0.174, \"p\": 4610, \"fpr\": 1.0, \"tpr\": 1.0, \"n\": 4674}, {\"threshold\": 0.175, \"p\": 4610, \"fpr\": 1.0, \"tpr\": 1.0, \"n\": 4674}, {\"threshold\": 0.176, \"p\": 4610, \"fpr\": 1.0, \"tpr\": 1.0, \"n\": 4674}, {\"threshold\": 0.177, \"p\": 4610, \"fpr\": 1.0, \"tpr\": 1.0, \"n\": 4674}, {\"threshold\": 0.178, \"p\": 4610, \"fpr\": 1.0, \"tpr\": 1.0, \"n\": 4674}, {\"threshold\": 0.179, \"p\": 4610, \"fpr\": 1.0, \"tpr\": 1.0, \"n\": 4674}, {\"threshold\": 0.18, \"p\": 4610, \"fpr\": 1.0, \"tpr\": 1.0, \"n\": 4674}, {\"threshold\": 0.181, \"p\": 4610, \"fpr\": 1.0, \"tpr\": 1.0, \"n\": 4674}, {\"threshold\": 0.182, \"p\": 4610, \"fpr\": 1.0, \"tpr\": 1.0, \"n\": 4674}, {\"threshold\": 0.183, \"p\": 4610, \"fpr\": 1.0, \"tpr\": 1.0, \"n\": 4674}, {\"threshold\": 0.184, \"p\": 4610, \"fpr\": 1.0, \"tpr\": 1.0, \"n\": 4674}, {\"threshold\": 0.185, \"p\": 4610, \"fpr\": 1.0, \"tpr\": 1.0, \"n\": 4674}, {\"threshold\": 0.186, \"p\": 4610, \"fpr\": 1.0, \"tpr\": 1.0, \"n\": 4674}, {\"threshold\": 0.187, \"p\": 4610, \"fpr\": 1.0, \"tpr\": 1.0, \"n\": 4674}, {\"threshold\": 0.188, \"p\": 4610, \"fpr\": 1.0, \"tpr\": 1.0, \"n\": 4674}, {\"threshold\": 0.189, \"p\": 4610, \"fpr\": 1.0, \"tpr\": 1.0, \"n\": 4674}, {\"threshold\": 0.19, \"p\": 4610, \"fpr\": 1.0, \"tpr\": 1.0, \"n\": 4674}, {\"threshold\": 0.191, \"p\": 4610, \"fpr\": 1.0, \"tpr\": 1.0, \"n\": 4674}, {\"threshold\": 0.192, \"p\": 4610, \"fpr\": 1.0, \"tpr\": 1.0, \"n\": 4674}, {\"threshold\": 0.193, \"p\": 4610, \"fpr\": 1.0, \"tpr\": 1.0, \"n\": 4674}, {\"threshold\": 0.194, \"p\": 4610, \"fpr\": 1.0, \"tpr\": 1.0, \"n\": 4674}, {\"threshold\": 0.195, \"p\": 4610, \"fpr\": 1.0, \"tpr\": 1.0, \"n\": 4674}, {\"threshold\": 0.196, \"p\": 4610, \"fpr\": 1.0, \"tpr\": 1.0, \"n\": 4674}, {\"threshold\": 0.197, \"p\": 4610, \"fpr\": 1.0, \"tpr\": 1.0, \"n\": 4674}, {\"threshold\": 0.198, \"p\": 4610, \"fpr\": 1.0, \"tpr\": 1.0, \"n\": 4674}, {\"threshold\": 0.199, \"p\": 4610, \"fpr\": 1.0, \"tpr\": 1.0, \"n\": 4674}, {\"threshold\": 0.2, \"p\": 4610, \"fpr\": 1.0, \"tpr\": 1.0, \"n\": 4674}, {\"threshold\": 0.201, \"p\": 4610, \"fpr\": 1.0, \"tpr\": 1.0, \"n\": 4674}, {\"threshold\": 0.202, \"p\": 4610, \"fpr\": 1.0, \"tpr\": 1.0, \"n\": 4674}, {\"threshold\": 0.203, \"p\": 4610, \"fpr\": 1.0, \"tpr\": 1.0, \"n\": 4674}, {\"threshold\": 0.204, \"p\": 4610, \"fpr\": 1.0, \"tpr\": 1.0, \"n\": 4674}, {\"threshold\": 0.205, \"p\": 4610, \"fpr\": 1.0, \"tpr\": 1.0, \"n\": 4674}, {\"threshold\": 0.206, \"p\": 4610, \"fpr\": 1.0, \"tpr\": 1.0, \"n\": 4674}, {\"threshold\": 0.207, \"p\": 4610, \"fpr\": 1.0, \"tpr\": 1.0, \"n\": 4674}, {\"threshold\": 0.208, \"p\": 4610, \"fpr\": 1.0, \"tpr\": 1.0, \"n\": 4674}, {\"threshold\": 0.209, \"p\": 4610, \"fpr\": 1.0, \"tpr\": 1.0, \"n\": 4674}, {\"threshold\": 0.21, \"p\": 4610, \"fpr\": 1.0, \"tpr\": 1.0, \"n\": 4674}, {\"threshold\": 0.211, \"p\": 4610, \"fpr\": 1.0, \"tpr\": 1.0, \"n\": 4674}, {\"threshold\": 0.212, \"p\": 4610, \"fpr\": 1.0, \"tpr\": 1.0, \"n\": 4674}, {\"threshold\": 0.213, \"p\": 4610, \"fpr\": 1.0, \"tpr\": 1.0, \"n\": 4674}, {\"threshold\": 0.214, \"p\": 4610, \"fpr\": 1.0, \"tpr\": 1.0, \"n\": 4674}, {\"threshold\": 0.215, \"p\": 4610, \"fpr\": 1.0, \"tpr\": 1.0, \"n\": 4674}, {\"threshold\": 0.216, \"p\": 4610, \"fpr\": 1.0, \"tpr\": 1.0, \"n\": 4674}, {\"threshold\": 0.217, \"p\": 4610, \"fpr\": 1.0, \"tpr\": 1.0, \"n\": 4674}, {\"threshold\": 0.218, \"p\": 4610, \"fpr\": 1.0, \"tpr\": 1.0, \"n\": 4674}, {\"threshold\": 0.219, \"p\": 4610, \"fpr\": 1.0, \"tpr\": 1.0, \"n\": 4674}, {\"threshold\": 0.22, \"p\": 4610, \"fpr\": 1.0, \"tpr\": 1.0, \"n\": 4674}, {\"threshold\": 0.221, \"p\": 4610, \"fpr\": 1.0, \"tpr\": 1.0, \"n\": 4674}, {\"threshold\": 0.222, \"p\": 4610, \"fpr\": 1.0, \"tpr\": 1.0, \"n\": 4674}, {\"threshold\": 0.223, \"p\": 4610, \"fpr\": 1.0, \"tpr\": 1.0, \"n\": 4674}, {\"threshold\": 0.224, \"p\": 4610, \"fpr\": 1.0, \"tpr\": 1.0, \"n\": 4674}, {\"threshold\": 0.225, \"p\": 4610, \"fpr\": 1.0, \"tpr\": 1.0, \"n\": 4674}, {\"threshold\": 0.226, \"p\": 4610, \"fpr\": 1.0, \"tpr\": 1.0, \"n\": 4674}, {\"threshold\": 0.227, \"p\": 4610, \"fpr\": 1.0, \"tpr\": 1.0, \"n\": 4674}, {\"threshold\": 0.228, \"p\": 4610, \"fpr\": 1.0, \"tpr\": 1.0, \"n\": 4674}, {\"threshold\": 0.229, \"p\": 4610, \"fpr\": 1.0, \"tpr\": 1.0, \"n\": 4674}, {\"threshold\": 0.23, \"p\": 4610, \"fpr\": 1.0, \"tpr\": 1.0, \"n\": 4674}, {\"threshold\": 0.231, \"p\": 4610, \"fpr\": 1.0, \"tpr\": 1.0, \"n\": 4674}, {\"threshold\": 0.232, \"p\": 4610, \"fpr\": 1.0, \"tpr\": 1.0, \"n\": 4674}, {\"threshold\": 0.233, \"p\": 4610, \"fpr\": 1.0, \"tpr\": 1.0, \"n\": 4674}, {\"threshold\": 0.234, \"p\": 4610, \"fpr\": 1.0, \"tpr\": 1.0, \"n\": 4674}, {\"threshold\": 0.235, \"p\": 4610, \"fpr\": 1.0, \"tpr\": 1.0, \"n\": 4674}, {\"threshold\": 0.236, \"p\": 4610, \"fpr\": 1.0, \"tpr\": 1.0, \"n\": 4674}, {\"threshold\": 0.237, \"p\": 4610, \"fpr\": 1.0, \"tpr\": 1.0, \"n\": 4674}, {\"threshold\": 0.238, \"p\": 4610, \"fpr\": 1.0, \"tpr\": 1.0, \"n\": 4674}, {\"threshold\": 0.239, \"p\": 4610, \"fpr\": 1.0, \"tpr\": 1.0, \"n\": 4674}, {\"threshold\": 0.24, \"p\": 4610, \"fpr\": 1.0, \"tpr\": 1.0, \"n\": 4674}, {\"threshold\": 0.241, \"p\": 4610, \"fpr\": 1.0, \"tpr\": 1.0, \"n\": 4674}, {\"threshold\": 0.242, \"p\": 4610, \"fpr\": 1.0, \"tpr\": 1.0, \"n\": 4674}, {\"threshold\": 0.243, \"p\": 4610, \"fpr\": 1.0, \"tpr\": 1.0, \"n\": 4674}, {\"threshold\": 0.244, \"p\": 4610, \"fpr\": 1.0, \"tpr\": 1.0, \"n\": 4674}, {\"threshold\": 0.245, \"p\": 4610, \"fpr\": 1.0, \"tpr\": 1.0, \"n\": 4674}, {\"threshold\": 0.246, \"p\": 4610, \"fpr\": 1.0, \"tpr\": 1.0, \"n\": 4674}, {\"threshold\": 0.247, \"p\": 4610, \"fpr\": 1.0, \"tpr\": 1.0, \"n\": 4674}, {\"threshold\": 0.248, \"p\": 4610, \"fpr\": 1.0, \"tpr\": 1.0, \"n\": 4674}, {\"threshold\": 0.249, \"p\": 4610, \"fpr\": 1.0, \"tpr\": 1.0, \"n\": 4674}, {\"threshold\": 0.25, \"p\": 4610, \"fpr\": 1.0, \"tpr\": 1.0, \"n\": 4674}, {\"threshold\": 0.251, \"p\": 4610, \"fpr\": 1.0, \"tpr\": 1.0, \"n\": 4674}, {\"threshold\": 0.252, \"p\": 4610, \"fpr\": 1.0, \"tpr\": 1.0, \"n\": 4674}, {\"threshold\": 0.253, \"p\": 4610, \"fpr\": 1.0, \"tpr\": 1.0, \"n\": 4674}, {\"threshold\": 0.254, \"p\": 4610, \"fpr\": 1.0, \"tpr\": 1.0, \"n\": 4674}, {\"threshold\": 0.255, \"p\": 4610, \"fpr\": 1.0, \"tpr\": 1.0, \"n\": 4674}, {\"threshold\": 0.256, \"p\": 4610, \"fpr\": 1.0, \"tpr\": 1.0, \"n\": 4674}, {\"threshold\": 0.257, \"p\": 4610, \"fpr\": 1.0, \"tpr\": 1.0, \"n\": 4674}, {\"threshold\": 0.258, \"p\": 4610, \"fpr\": 1.0, \"tpr\": 1.0, \"n\": 4674}, {\"threshold\": 0.259, \"p\": 4610, \"fpr\": 1.0, \"tpr\": 1.0, \"n\": 4674}, {\"threshold\": 0.26, \"p\": 4610, \"fpr\": 1.0, \"tpr\": 1.0, \"n\": 4674}, {\"threshold\": 0.261, \"p\": 4610, \"fpr\": 1.0, \"tpr\": 1.0, \"n\": 4674}, {\"threshold\": 0.262, \"p\": 4610, \"fpr\": 1.0, \"tpr\": 1.0, \"n\": 4674}, {\"threshold\": 0.263, \"p\": 4610, \"fpr\": 1.0, \"tpr\": 1.0, \"n\": 4674}, {\"threshold\": 0.264, \"p\": 4610, \"fpr\": 1.0, \"tpr\": 1.0, \"n\": 4674}, {\"threshold\": 0.265, \"p\": 4610, \"fpr\": 1.0, \"tpr\": 1.0, \"n\": 4674}, {\"threshold\": 0.266, \"p\": 4610, \"fpr\": 1.0, \"tpr\": 1.0, \"n\": 4674}, {\"threshold\": 0.267, \"p\": 4610, \"fpr\": 1.0, \"tpr\": 1.0, \"n\": 4674}, {\"threshold\": 0.268, \"p\": 4610, \"fpr\": 1.0, \"tpr\": 1.0, \"n\": 4674}, {\"threshold\": 0.269, \"p\": 4610, \"fpr\": 1.0, \"tpr\": 1.0, \"n\": 4674}, {\"threshold\": 0.27, \"p\": 4610, \"fpr\": 1.0, \"tpr\": 1.0, \"n\": 4674}, {\"threshold\": 0.271, \"p\": 4610, \"fpr\": 1.0, \"tpr\": 1.0, \"n\": 4674}, {\"threshold\": 0.272, \"p\": 4610, \"fpr\": 1.0, \"tpr\": 1.0, \"n\": 4674}, {\"threshold\": 0.273, \"p\": 4610, \"fpr\": 1.0, \"tpr\": 1.0, \"n\": 4674}, {\"threshold\": 0.274, \"p\": 4610, \"fpr\": 1.0, \"tpr\": 1.0, \"n\": 4674}, {\"threshold\": 0.275, \"p\": 4610, \"fpr\": 1.0, \"tpr\": 1.0, \"n\": 4674}, {\"threshold\": 0.276, \"p\": 4610, \"fpr\": 1.0, \"tpr\": 1.0, \"n\": 4674}, {\"threshold\": 0.277, \"p\": 4610, \"fpr\": 1.0, \"tpr\": 1.0, \"n\": 4674}, {\"threshold\": 0.278, \"p\": 4610, \"fpr\": 1.0, \"tpr\": 1.0, \"n\": 4674}, {\"threshold\": 0.279, \"p\": 4610, \"fpr\": 1.0, \"tpr\": 1.0, \"n\": 4674}, {\"threshold\": 0.28, \"p\": 4610, \"fpr\": 1.0, \"tpr\": 1.0, \"n\": 4674}, {\"threshold\": 0.281, \"p\": 4610, \"fpr\": 1.0, \"tpr\": 1.0, \"n\": 4674}, {\"threshold\": 0.282, \"p\": 4610, \"fpr\": 1.0, \"tpr\": 1.0, \"n\": 4674}, {\"threshold\": 0.283, \"p\": 4610, \"fpr\": 1.0, \"tpr\": 1.0, \"n\": 4674}, {\"threshold\": 0.284, \"p\": 4610, \"fpr\": 1.0, \"tpr\": 1.0, \"n\": 4674}, {\"threshold\": 0.285, \"p\": 4610, \"fpr\": 1.0, \"tpr\": 1.0, \"n\": 4674}, {\"threshold\": 0.286, \"p\": 4610, \"fpr\": 1.0, \"tpr\": 1.0, \"n\": 4674}, {\"threshold\": 0.287, \"p\": 4610, \"fpr\": 1.0, \"tpr\": 1.0, \"n\": 4674}, {\"threshold\": 0.288, \"p\": 4610, \"fpr\": 1.0, \"tpr\": 1.0, \"n\": 4674}, {\"threshold\": 0.289, \"p\": 4610, \"fpr\": 1.0, \"tpr\": 1.0, \"n\": 4674}, {\"threshold\": 0.29, \"p\": 4610, \"fpr\": 1.0, \"tpr\": 1.0, \"n\": 4674}, {\"threshold\": 0.291, \"p\": 4610, \"fpr\": 1.0, \"tpr\": 1.0, \"n\": 4674}, {\"threshold\": 0.292, \"p\": 4610, \"fpr\": 1.0, \"tpr\": 1.0, \"n\": 4674}, {\"threshold\": 0.293, \"p\": 4610, \"fpr\": 1.0, \"tpr\": 1.0, \"n\": 4674}, {\"threshold\": 0.294, \"p\": 4610, \"fpr\": 1.0, \"tpr\": 1.0, \"n\": 4674}, {\"threshold\": 0.295, \"p\": 4610, \"fpr\": 1.0, \"tpr\": 1.0, \"n\": 4674}, {\"threshold\": 0.296, \"p\": 4610, \"fpr\": 1.0, \"tpr\": 1.0, \"n\": 4674}, {\"threshold\": 0.297, \"p\": 4610, \"fpr\": 1.0, \"tpr\": 1.0, \"n\": 4674}, {\"threshold\": 0.298, \"p\": 4610, \"fpr\": 1.0, \"tpr\": 1.0, \"n\": 4674}, {\"threshold\": 0.299, \"p\": 4610, \"fpr\": 1.0, \"tpr\": 1.0, \"n\": 4674}, {\"threshold\": 0.3, \"p\": 4610, \"fpr\": 1.0, \"tpr\": 1.0, \"n\": 4674}, {\"threshold\": 0.301, \"p\": 4610, \"fpr\": 1.0, \"tpr\": 1.0, \"n\": 4674}, {\"threshold\": 0.302, \"p\": 4610, \"fpr\": 1.0, \"tpr\": 1.0, \"n\": 4674}, {\"threshold\": 0.303, \"p\": 4610, \"fpr\": 1.0, \"tpr\": 1.0, \"n\": 4674}, {\"threshold\": 0.304, \"p\": 4610, \"fpr\": 1.0, \"tpr\": 1.0, \"n\": 4674}, {\"threshold\": 0.305, \"p\": 4610, \"fpr\": 1.0, \"tpr\": 1.0, \"n\": 4674}, {\"threshold\": 0.306, \"p\": 4610, \"fpr\": 1.0, \"tpr\": 1.0, \"n\": 4674}, {\"threshold\": 0.307, \"p\": 4610, \"fpr\": 1.0, \"tpr\": 1.0, \"n\": 4674}, {\"threshold\": 0.308, \"p\": 4610, \"fpr\": 1.0, \"tpr\": 1.0, \"n\": 4674}, {\"threshold\": 0.309, \"p\": 4610, \"fpr\": 1.0, \"tpr\": 1.0, \"n\": 4674}, {\"threshold\": 0.31, \"p\": 4610, \"fpr\": 1.0, \"tpr\": 1.0, \"n\": 4674}, {\"threshold\": 0.311, \"p\": 4610, \"fpr\": 1.0, \"tpr\": 1.0, \"n\": 4674}, {\"threshold\": 0.312, \"p\": 4610, \"fpr\": 1.0, \"tpr\": 1.0, \"n\": 4674}, {\"threshold\": 0.313, \"p\": 4610, \"fpr\": 1.0, \"tpr\": 1.0, \"n\": 4674}, {\"threshold\": 0.314, \"p\": 4610, \"fpr\": 1.0, \"tpr\": 1.0, \"n\": 4674}, {\"threshold\": 0.315, \"p\": 4610, \"fpr\": 1.0, \"tpr\": 1.0, \"n\": 4674}, {\"threshold\": 0.316, \"p\": 4610, \"fpr\": 1.0, \"tpr\": 1.0, \"n\": 4674}, {\"threshold\": 0.317, \"p\": 4610, \"fpr\": 1.0, \"tpr\": 1.0, \"n\": 4674}, {\"threshold\": 0.318, \"p\": 4610, \"fpr\": 1.0, \"tpr\": 1.0, \"n\": 4674}, {\"threshold\": 0.319, \"p\": 4610, \"fpr\": 1.0, \"tpr\": 1.0, \"n\": 4674}, {\"threshold\": 0.32, \"p\": 4610, \"fpr\": 1.0, \"tpr\": 1.0, \"n\": 4674}, {\"threshold\": 0.321, \"p\": 4610, \"fpr\": 1.0, \"tpr\": 1.0, \"n\": 4674}, {\"threshold\": 0.322, \"p\": 4610, \"fpr\": 1.0, \"tpr\": 1.0, \"n\": 4674}, {\"threshold\": 0.323, \"p\": 4610, \"fpr\": 1.0, \"tpr\": 1.0, \"n\": 4674}, {\"threshold\": 0.324, \"p\": 4610, \"fpr\": 1.0, \"tpr\": 1.0, \"n\": 4674}, {\"threshold\": 0.325, \"p\": 4610, \"fpr\": 1.0, \"tpr\": 1.0, \"n\": 4674}, {\"threshold\": 0.326, \"p\": 4610, \"fpr\": 1.0, \"tpr\": 1.0, \"n\": 4674}, {\"threshold\": 0.327, \"p\": 4610, \"fpr\": 1.0, \"tpr\": 1.0, \"n\": 4674}, {\"threshold\": 0.328, \"p\": 4610, \"fpr\": 1.0, \"tpr\": 1.0, \"n\": 4674}, {\"threshold\": 0.329, \"p\": 4610, \"fpr\": 1.0, \"tpr\": 1.0, \"n\": 4674}, {\"threshold\": 0.33, \"p\": 4610, \"fpr\": 1.0, \"tpr\": 1.0, \"n\": 4674}, {\"threshold\": 0.331, \"p\": 4610, \"fpr\": 1.0, \"tpr\": 1.0, \"n\": 4674}, {\"threshold\": 0.332, \"p\": 4610, \"fpr\": 1.0, \"tpr\": 1.0, \"n\": 4674}, {\"threshold\": 0.333, \"p\": 4610, \"fpr\": 1.0, \"tpr\": 1.0, \"n\": 4674}, {\"threshold\": 0.334, \"p\": 4610, \"fpr\": 1.0, \"tpr\": 1.0, \"n\": 4674}, {\"threshold\": 0.335, \"p\": 4610, \"fpr\": 1.0, \"tpr\": 1.0, \"n\": 4674}, {\"threshold\": 0.336, \"p\": 4610, \"fpr\": 1.0, \"tpr\": 1.0, \"n\": 4674}, {\"threshold\": 0.337, \"p\": 4610, \"fpr\": 1.0, \"tpr\": 1.0, \"n\": 4674}, {\"threshold\": 0.338, \"p\": 4610, \"fpr\": 1.0, \"tpr\": 1.0, \"n\": 4674}, {\"threshold\": 0.339, \"p\": 4610, \"fpr\": 1.0, \"tpr\": 1.0, \"n\": 4674}, {\"threshold\": 0.34, \"p\": 4610, \"fpr\": 1.0, \"tpr\": 1.0, \"n\": 4674}, {\"threshold\": 0.341, \"p\": 4610, \"fpr\": 1.0, \"tpr\": 1.0, \"n\": 4674}, {\"threshold\": 0.342, \"p\": 4610, \"fpr\": 1.0, \"tpr\": 1.0, \"n\": 4674}, {\"threshold\": 0.343, \"p\": 4610, \"fpr\": 1.0, \"tpr\": 1.0, \"n\": 4674}, {\"threshold\": 0.344, \"p\": 4610, \"fpr\": 1.0, \"tpr\": 1.0, \"n\": 4674}, {\"threshold\": 0.345, \"p\": 4610, \"fpr\": 1.0, \"tpr\": 1.0, \"n\": 4674}, {\"threshold\": 0.346, \"p\": 4610, \"fpr\": 1.0, \"tpr\": 1.0, \"n\": 4674}, {\"threshold\": 0.347, \"p\": 4610, \"fpr\": 1.0, \"tpr\": 1.0, \"n\": 4674}, {\"threshold\": 0.348, \"p\": 4610, \"fpr\": 1.0, \"tpr\": 1.0, \"n\": 4674}, {\"threshold\": 0.349, \"p\": 4610, \"fpr\": 1.0, \"tpr\": 1.0, \"n\": 4674}, {\"threshold\": 0.35, \"p\": 4610, \"fpr\": 1.0, \"tpr\": 1.0, \"n\": 4674}, {\"threshold\": 0.351, \"p\": 4610, \"fpr\": 1.0, \"tpr\": 1.0, \"n\": 4674}, {\"threshold\": 0.352, \"p\": 4610, \"fpr\": 1.0, \"tpr\": 1.0, \"n\": 4674}, {\"threshold\": 0.353, \"p\": 4610, \"fpr\": 1.0, \"tpr\": 1.0, \"n\": 4674}, {\"threshold\": 0.354, \"p\": 4610, \"fpr\": 1.0, \"tpr\": 1.0, \"n\": 4674}, {\"threshold\": 0.355, \"p\": 4610, \"fpr\": 1.0, \"tpr\": 1.0, \"n\": 4674}, {\"threshold\": 0.356, \"p\": 4610, \"fpr\": 1.0, \"tpr\": 1.0, \"n\": 4674}, {\"threshold\": 0.357, \"p\": 4610, \"fpr\": 1.0, \"tpr\": 1.0, \"n\": 4674}, {\"threshold\": 0.358, \"p\": 4610, \"fpr\": 1.0, \"tpr\": 1.0, \"n\": 4674}, {\"threshold\": 0.359, \"p\": 4610, \"fpr\": 1.0, \"tpr\": 1.0, \"n\": 4674}, {\"threshold\": 0.36, \"p\": 4610, \"fpr\": 1.0, \"tpr\": 1.0, \"n\": 4674}, {\"threshold\": 0.361, \"p\": 4610, \"fpr\": 1.0, \"tpr\": 1.0, \"n\": 4674}, {\"threshold\": 0.362, \"p\": 4610, \"fpr\": 1.0, \"tpr\": 1.0, \"n\": 4674}, {\"threshold\": 0.363, \"p\": 4610, \"fpr\": 1.0, \"tpr\": 1.0, \"n\": 4674}, {\"threshold\": 0.364, \"p\": 4610, \"fpr\": 1.0, \"tpr\": 1.0, \"n\": 4674}, {\"threshold\": 0.365, \"p\": 4610, \"fpr\": 1.0, \"tpr\": 1.0, \"n\": 4674}, {\"threshold\": 0.366, \"p\": 4610, \"fpr\": 1.0, \"tpr\": 1.0, \"n\": 4674}, {\"threshold\": 0.367, \"p\": 4610, \"fpr\": 1.0, \"tpr\": 1.0, \"n\": 4674}, {\"threshold\": 0.368, \"p\": 4610, \"fpr\": 1.0, \"tpr\": 1.0, \"n\": 4674}, {\"threshold\": 0.369, \"p\": 4610, \"fpr\": 1.0, \"tpr\": 1.0, \"n\": 4674}, {\"threshold\": 0.37, \"p\": 4610, \"fpr\": 1.0, \"tpr\": 1.0, \"n\": 4674}, {\"threshold\": 0.371, \"p\": 4610, \"fpr\": 1.0, \"tpr\": 1.0, \"n\": 4674}, {\"threshold\": 0.372, \"p\": 4610, \"fpr\": 0.9809584937954643, \"tpr\": 0.9984815618221258, \"n\": 4674}, {\"threshold\": 0.373, \"p\": 4610, \"fpr\": 0.9809584937954643, \"tpr\": 0.9984815618221258, \"n\": 4674}, {\"threshold\": 0.374, \"p\": 4610, \"fpr\": 0.9809584937954643, \"tpr\": 0.9984815618221258, \"n\": 4674}, {\"threshold\": 0.375, \"p\": 4610, \"fpr\": 0.9809584937954643, \"tpr\": 0.9984815618221258, \"n\": 4674}, {\"threshold\": 0.376, \"p\": 4610, \"fpr\": 0.9809584937954643, \"tpr\": 0.9984815618221258, \"n\": 4674}, {\"threshold\": 0.377, \"p\": 4610, \"fpr\": 0.9809584937954643, \"tpr\": 0.9984815618221258, \"n\": 4674}, {\"threshold\": 0.378, \"p\": 4610, \"fpr\": 0.9809584937954643, \"tpr\": 0.9984815618221258, \"n\": 4674}, {\"threshold\": 0.379, \"p\": 4610, \"fpr\": 0.9809584937954643, \"tpr\": 0.9984815618221258, \"n\": 4674}, {\"threshold\": 0.38, \"p\": 4610, \"fpr\": 0.9809584937954643, \"tpr\": 0.9984815618221258, \"n\": 4674}, {\"threshold\": 0.381, \"p\": 4610, \"fpr\": 0.9809584937954643, \"tpr\": 0.9984815618221258, \"n\": 4674}, {\"threshold\": 0.382, \"p\": 4610, \"fpr\": 0.9809584937954643, \"tpr\": 0.9984815618221258, \"n\": 4674}, {\"threshold\": 0.383, \"p\": 4610, \"fpr\": 0.9809584937954643, \"tpr\": 0.9984815618221258, \"n\": 4674}, {\"threshold\": 0.384, \"p\": 4610, \"fpr\": 0.9809584937954643, \"tpr\": 0.9984815618221258, \"n\": 4674}, {\"threshold\": 0.385, \"p\": 4610, \"fpr\": 0.9809584937954643, \"tpr\": 0.9984815618221258, \"n\": 4674}, {\"threshold\": 0.386, \"p\": 4610, \"fpr\": 0.9809584937954643, \"tpr\": 0.9984815618221258, \"n\": 4674}, {\"threshold\": 0.387, \"p\": 4610, \"fpr\": 0.9809584937954643, \"tpr\": 0.9984815618221258, \"n\": 4674}, {\"threshold\": 0.388, \"p\": 4610, \"fpr\": 0.9809584937954643, \"tpr\": 0.9984815618221258, \"n\": 4674}, {\"threshold\": 0.389, \"p\": 4610, \"fpr\": 0.9809584937954643, \"tpr\": 0.9984815618221258, \"n\": 4674}, {\"threshold\": 0.39, \"p\": 4610, \"fpr\": 0.9809584937954643, \"tpr\": 0.9984815618221258, \"n\": 4674}, {\"threshold\": 0.391, \"p\": 4610, \"fpr\": 0.9809584937954643, \"tpr\": 0.9984815618221258, \"n\": 4674}, {\"threshold\": 0.392, \"p\": 4610, \"fpr\": 0.9807445442875481, \"tpr\": 0.9984815618221258, \"n\": 4674}, {\"threshold\": 0.393, \"p\": 4610, \"fpr\": 0.9582798459563543, \"tpr\": 0.9943600867678959, \"n\": 4674}, {\"threshold\": 0.394, \"p\": 4610, \"fpr\": 0.9582798459563543, \"tpr\": 0.9943600867678959, \"n\": 4674}, {\"threshold\": 0.395, \"p\": 4610, \"fpr\": 0.9582798459563543, \"tpr\": 0.9943600867678959, \"n\": 4674}, {\"threshold\": 0.396, \"p\": 4610, \"fpr\": 0.9514334617030381, \"tpr\": 0.9932754880694143, \"n\": 4674}, {\"threshold\": 0.397, \"p\": 4610, \"fpr\": 0.9514334617030381, \"tpr\": 0.9932754880694143, \"n\": 4674}, {\"threshold\": 0.398, \"p\": 4610, \"fpr\": 0.9514334617030381, \"tpr\": 0.9932754880694143, \"n\": 4674}, {\"threshold\": 0.399, \"p\": 4610, \"fpr\": 0.9405220367993153, \"tpr\": 0.989587852494577, \"n\": 4674}, {\"threshold\": 0.4, \"p\": 4610, \"fpr\": 0.9405220367993153, \"tpr\": 0.989587852494577, \"n\": 4674}, {\"threshold\": 0.401, \"p\": 4610, \"fpr\": 0.9405220367993153, \"tpr\": 0.989587852494577, \"n\": 4674}, {\"threshold\": 0.402, \"p\": 4610, \"fpr\": 0.9405220367993153, \"tpr\": 0.989587852494577, \"n\": 4674}, {\"threshold\": 0.403, \"p\": 4610, \"fpr\": 0.9405220367993153, \"tpr\": 0.989587852494577, \"n\": 4674}, {\"threshold\": 0.404, \"p\": 4610, \"fpr\": 0.9405220367993153, \"tpr\": 0.989587852494577, \"n\": 4674}, {\"threshold\": 0.405, \"p\": 4610, \"fpr\": 0.9405220367993153, \"tpr\": 0.989587852494577, \"n\": 4674}, {\"threshold\": 0.406, \"p\": 4610, \"fpr\": 0.9403080872913993, \"tpr\": 0.989587852494577, \"n\": 4674}, {\"threshold\": 0.407, \"p\": 4610, \"fpr\": 0.9403080872913993, \"tpr\": 0.989587852494577, \"n\": 4674}, {\"threshold\": 0.408, \"p\": 4610, \"fpr\": 0.9403080872913993, \"tpr\": 0.989587852494577, \"n\": 4674}, {\"threshold\": 0.409, \"p\": 4610, \"fpr\": 0.9403080872913993, \"tpr\": 0.989587852494577, \"n\": 4674}, {\"threshold\": 0.41, \"p\": 4610, \"fpr\": 0.9403080872913993, \"tpr\": 0.989587852494577, \"n\": 4674}, {\"threshold\": 0.411, \"p\": 4610, \"fpr\": 0.939880188275567, \"tpr\": 0.989587852494577, \"n\": 4674}, {\"threshold\": 0.412, \"p\": 4610, \"fpr\": 0.9302524604193411, \"tpr\": 0.9880694143167028, \"n\": 4674}, {\"threshold\": 0.413, \"p\": 4610, \"fpr\": 0.9291827128797604, \"tpr\": 0.9878524945770065, \"n\": 4674}, {\"threshold\": 0.414, \"p\": 4610, \"fpr\": 0.9291827128797604, \"tpr\": 0.9878524945770065, \"n\": 4674}, {\"threshold\": 0.415, \"p\": 4610, \"fpr\": 0.9291827128797604, \"tpr\": 0.9878524945770065, \"n\": 4674}, {\"threshold\": 0.416, \"p\": 4610, \"fpr\": 0.9291827128797604, \"tpr\": 0.9878524945770065, \"n\": 4674}, {\"threshold\": 0.417, \"p\": 4610, \"fpr\": 0.9291827128797604, \"tpr\": 0.9878524945770065, \"n\": 4674}, {\"threshold\": 0.418, \"p\": 4610, \"fpr\": 0.9291827128797604, \"tpr\": 0.9878524945770065, \"n\": 4674}, {\"threshold\": 0.419, \"p\": 4610, \"fpr\": 0.9291827128797604, \"tpr\": 0.9878524945770065, \"n\": 4674}, {\"threshold\": 0.42, \"p\": 4610, \"fpr\": 0.9291827128797604, \"tpr\": 0.9878524945770065, \"n\": 4674}, {\"threshold\": 0.421, \"p\": 4610, \"fpr\": 0.9291827128797604, \"tpr\": 0.9878524945770065, \"n\": 4674}, {\"threshold\": 0.422, \"p\": 4610, \"fpr\": 0.9291827128797604, \"tpr\": 0.9878524945770065, \"n\": 4674}, {\"threshold\": 0.423, \"p\": 4610, \"fpr\": 0.9291827128797604, \"tpr\": 0.9878524945770065, \"n\": 4674}, {\"threshold\": 0.424, \"p\": 4610, \"fpr\": 0.9291827128797604, \"tpr\": 0.9878524945770065, \"n\": 4674}, {\"threshold\": 0.425, \"p\": 4610, \"fpr\": 0.9229781771501926, \"tpr\": 0.9863340563991323, \"n\": 4674}, {\"threshold\": 0.426, \"p\": 4610, \"fpr\": 0.9229781771501926, \"tpr\": 0.9863340563991323, \"n\": 4674}, {\"threshold\": 0.427, \"p\": 4610, \"fpr\": 0.9229781771501926, \"tpr\": 0.9863340563991323, \"n\": 4674}, {\"threshold\": 0.428, \"p\": 4610, \"fpr\": 0.9229781771501926, \"tpr\": 0.9863340563991323, \"n\": 4674}, {\"threshold\": 0.429, \"p\": 4610, \"fpr\": 0.9229781771501926, \"tpr\": 0.9863340563991323, \"n\": 4674}, {\"threshold\": 0.43, \"p\": 4610, \"fpr\": 0.9229781771501926, \"tpr\": 0.9863340563991323, \"n\": 4674}, {\"threshold\": 0.431, \"p\": 4610, \"fpr\": 0.9229781771501926, \"tpr\": 0.9863340563991323, \"n\": 4674}, {\"threshold\": 0.432, \"p\": 4610, \"fpr\": 0.8316217372700043, \"tpr\": 0.9481561822125814, \"n\": 4674}, {\"threshold\": 0.433, \"p\": 4610, \"fpr\": 0.8316217372700043, \"tpr\": 0.9481561822125814, \"n\": 4674}, {\"threshold\": 0.434, \"p\": 4610, \"fpr\": 0.8316217372700043, \"tpr\": 0.9481561822125814, \"n\": 4674}, {\"threshold\": 0.435, \"p\": 4610, \"fpr\": 0.8316217372700043, \"tpr\": 0.9481561822125814, \"n\": 4674}, {\"threshold\": 0.436, \"p\": 4610, \"fpr\": 0.8316217372700043, \"tpr\": 0.9481561822125814, \"n\": 4674}, {\"threshold\": 0.437, \"p\": 4610, \"fpr\": 0.8316217372700043, \"tpr\": 0.9481561822125814, \"n\": 4674}, {\"threshold\": 0.438, \"p\": 4610, \"fpr\": 0.8316217372700043, \"tpr\": 0.9481561822125814, \"n\": 4674}, {\"threshold\": 0.439, \"p\": 4610, \"fpr\": 0.8316217372700043, \"tpr\": 0.9481561822125814, \"n\": 4674}, {\"threshold\": 0.44, \"p\": 4610, \"fpr\": 0.8316217372700043, \"tpr\": 0.9481561822125814, \"n\": 4674}, {\"threshold\": 0.441, \"p\": 4610, \"fpr\": 0.8316217372700043, \"tpr\": 0.9481561822125814, \"n\": 4674}, {\"threshold\": 0.442, \"p\": 4610, \"fpr\": 0.8258451005562687, \"tpr\": 0.9457700650759219, \"n\": 4674}, {\"threshold\": 0.443, \"p\": 4610, \"fpr\": 0.8258451005562687, \"tpr\": 0.9457700650759219, \"n\": 4674}, {\"threshold\": 0.444, \"p\": 4610, \"fpr\": 0.8258451005562687, \"tpr\": 0.9457700650759219, \"n\": 4674}, {\"threshold\": 0.445, \"p\": 4610, \"fpr\": 0.8258451005562687, \"tpr\": 0.9457700650759219, \"n\": 4674}, {\"threshold\": 0.446, \"p\": 4610, \"fpr\": 0.8258451005562687, \"tpr\": 0.9457700650759219, \"n\": 4674}, {\"threshold\": 0.447, \"p\": 4610, \"fpr\": 0.8258451005562687, \"tpr\": 0.9457700650759219, \"n\": 4674}, {\"threshold\": 0.448, \"p\": 4610, \"fpr\": 0.8258451005562687, \"tpr\": 0.9457700650759219, \"n\": 4674}, {\"threshold\": 0.449, \"p\": 4610, \"fpr\": 0.8258451005562687, \"tpr\": 0.9457700650759219, \"n\": 4674}, {\"threshold\": 0.45, \"p\": 4610, \"fpr\": 0.8258451005562687, \"tpr\": 0.9457700650759219, \"n\": 4674}, {\"threshold\": 0.451, \"p\": 4610, \"fpr\": 0.8258451005562687, \"tpr\": 0.9457700650759219, \"n\": 4674}, {\"threshold\": 0.452, \"p\": 4610, \"fpr\": 0.8258451005562687, \"tpr\": 0.9457700650759219, \"n\": 4674}, {\"threshold\": 0.453, \"p\": 4610, \"fpr\": 0.8258451005562687, \"tpr\": 0.9457700650759219, \"n\": 4674}, {\"threshold\": 0.454, \"p\": 4610, \"fpr\": 0.8232777064612752, \"tpr\": 0.9446854663774403, \"n\": 4674}, {\"threshold\": 0.455, \"p\": 4610, \"fpr\": 0.7270004278990159, \"tpr\": 0.8865509761388286, \"n\": 4674}, {\"threshold\": 0.456, \"p\": 4610, \"fpr\": 0.6174582798459564, \"tpr\": 0.8325379609544469, \"n\": 4674}, {\"threshold\": 0.457, \"p\": 4610, \"fpr\": 0.5870774497218656, \"tpr\": 0.8149674620390456, \"n\": 4674}, {\"threshold\": 0.458, \"p\": 4610, \"fpr\": 0.5870774497218656, \"tpr\": 0.8149674620390456, \"n\": 4674}, {\"threshold\": 0.459, \"p\": 4610, \"fpr\": 0.5870774497218656, \"tpr\": 0.8149674620390456, \"n\": 4674}, {\"threshold\": 0.46, \"p\": 4610, \"fpr\": 0.5870774497218656, \"tpr\": 0.8149674620390456, \"n\": 4674}, {\"threshold\": 0.461, \"p\": 4610, \"fpr\": 0.5870774497218656, \"tpr\": 0.8149674620390456, \"n\": 4674}, {\"threshold\": 0.462, \"p\": 4610, \"fpr\": 0.5870774497218656, \"tpr\": 0.8149674620390456, \"n\": 4674}, {\"threshold\": 0.463, \"p\": 4610, \"fpr\": 0.5870774497218656, \"tpr\": 0.8149674620390456, \"n\": 4674}, {\"threshold\": 0.464, \"p\": 4610, \"fpr\": 0.5870774497218656, \"tpr\": 0.8149674620390456, \"n\": 4674}, {\"threshold\": 0.465, \"p\": 4610, \"fpr\": 0.5870774497218656, \"tpr\": 0.8149674620390456, \"n\": 4674}, {\"threshold\": 0.466, \"p\": 4610, \"fpr\": 0.5866495507060334, \"tpr\": 0.8149674620390456, \"n\": 4674}, {\"threshold\": 0.467, \"p\": 4610, \"fpr\": 0.5866495507060334, \"tpr\": 0.8149674620390456, \"n\": 4674}, {\"threshold\": 0.468, \"p\": 4610, \"fpr\": 0.5866495507060334, \"tpr\": 0.8149674620390456, \"n\": 4674}, {\"threshold\": 0.469, \"p\": 4610, \"fpr\": 0.5866495507060334, \"tpr\": 0.8149674620390456, \"n\": 4674}, {\"threshold\": 0.47, \"p\": 4610, \"fpr\": 0.5866495507060334, \"tpr\": 0.8149674620390456, \"n\": 4674}, {\"threshold\": 0.471, \"p\": 4610, \"fpr\": 0.5866495507060334, \"tpr\": 0.8149674620390456, \"n\": 4674}, {\"threshold\": 0.472, \"p\": 4610, \"fpr\": 0.5866495507060334, \"tpr\": 0.8149674620390456, \"n\": 4674}, {\"threshold\": 0.473, \"p\": 4610, \"fpr\": 0.5866495507060334, \"tpr\": 0.8149674620390456, \"n\": 4674}, {\"threshold\": 0.474, \"p\": 4610, \"fpr\": 0.5866495507060334, \"tpr\": 0.8149674620390456, \"n\": 4674}, {\"threshold\": 0.475, \"p\": 4610, \"fpr\": 0.5866495507060334, \"tpr\": 0.8149674620390456, \"n\": 4674}, {\"threshold\": 0.476, \"p\": 4610, \"fpr\": 0.5866495507060334, \"tpr\": 0.8149674620390456, \"n\": 4674}, {\"threshold\": 0.477, \"p\": 4610, \"fpr\": 0.5770218228498074, \"tpr\": 0.803470715835141, \"n\": 4674}, {\"threshold\": 0.478, \"p\": 4610, \"fpr\": 0.5735986307231493, \"tpr\": 0.8002169197396963, \"n\": 4674}, {\"threshold\": 0.479, \"p\": 4610, \"fpr\": 0.5109114249037228, \"tpr\": 0.7553145336225596, \"n\": 4674}, {\"threshold\": 0.48, \"p\": 4610, \"fpr\": 0.5109114249037228, \"tpr\": 0.7553145336225596, \"n\": 4674}, {\"threshold\": 0.481, \"p\": 4610, \"fpr\": 0.5109114249037228, \"tpr\": 0.7553145336225596, \"n\": 4674}, {\"threshold\": 0.482, \"p\": 4610, \"fpr\": 0.5109114249037228, \"tpr\": 0.7553145336225596, \"n\": 4674}, {\"threshold\": 0.483, \"p\": 4610, \"fpr\": 0.5109114249037228, \"tpr\": 0.7553145336225596, \"n\": 4674}, {\"threshold\": 0.484, \"p\": 4610, \"fpr\": 0.5109114249037228, \"tpr\": 0.7553145336225596, \"n\": 4674}, {\"threshold\": 0.485, \"p\": 4610, \"fpr\": 0.5109114249037228, \"tpr\": 0.7553145336225596, \"n\": 4674}, {\"threshold\": 0.486, \"p\": 4610, \"fpr\": 0.5109114249037228, \"tpr\": 0.7553145336225596, \"n\": 4674}, {\"threshold\": 0.487, \"p\": 4610, \"fpr\": 0.5109114249037228, \"tpr\": 0.7553145336225596, \"n\": 4674}, {\"threshold\": 0.488, \"p\": 4610, \"fpr\": 0.46662387676508343, \"tpr\": 0.7197396963123645, \"n\": 4674}, {\"threshold\": 0.489, \"p\": 4610, \"fpr\": 0.46662387676508343, \"tpr\": 0.7197396963123645, \"n\": 4674}, {\"threshold\": 0.49, \"p\": 4610, \"fpr\": 0.3600770218228498, \"tpr\": 0.6342733188720173, \"n\": 4674}, {\"threshold\": 0.491, \"p\": 4610, \"fpr\": 0.35579803166452717, \"tpr\": 0.6290672451193059, \"n\": 4674}, {\"threshold\": 0.492, \"p\": 4610, \"fpr\": 0.35579803166452717, \"tpr\": 0.6290672451193059, \"n\": 4674}, {\"threshold\": 0.493, \"p\": 4610, \"fpr\": 0.35579803166452717, \"tpr\": 0.6290672451193059, \"n\": 4674}, {\"threshold\": 0.494, \"p\": 4610, \"fpr\": 0.35430038510911427, \"tpr\": 0.627765726681128, \"n\": 4674}, {\"threshold\": 0.495, \"p\": 4610, \"fpr\": 0.35430038510911427, \"tpr\": 0.627765726681128, \"n\": 4674}, {\"threshold\": 0.496, \"p\": 4610, \"fpr\": 0.35430038510911427, \"tpr\": 0.627765726681128, \"n\": 4674}, {\"threshold\": 0.497, \"p\": 4610, \"fpr\": 0.35430038510911427, \"tpr\": 0.627765726681128, \"n\": 4674}, {\"threshold\": 0.498, \"p\": 4610, \"fpr\": 0.35430038510911427, \"tpr\": 0.627765726681128, \"n\": 4674}, {\"threshold\": 0.499, \"p\": 4610, \"fpr\": 0.35430038510911427, \"tpr\": 0.627765726681128, \"n\": 4674}, {\"threshold\": 0.5, \"p\": 4610, \"fpr\": 0.35430038510911427, \"tpr\": 0.627765726681128, \"n\": 4674}, {\"threshold\": 0.501, \"p\": 4610, \"fpr\": 0.3540864356011981, \"tpr\": 0.627765726681128, \"n\": 4674}, {\"threshold\": 0.502, \"p\": 4610, \"fpr\": 0.3540864356011981, \"tpr\": 0.627765726681128, \"n\": 4674}, {\"threshold\": 0.503, \"p\": 4610, \"fpr\": 0.3540864356011981, \"tpr\": 0.627765726681128, \"n\": 4674}, {\"threshold\": 0.504, \"p\": 4610, \"fpr\": 0.3540864356011981, \"tpr\": 0.627765726681128, \"n\": 4674}, {\"threshold\": 0.505, \"p\": 4610, \"fpr\": 0.3540864356011981, \"tpr\": 0.627765726681128, \"n\": 4674}, {\"threshold\": 0.506, \"p\": 4610, \"fpr\": 0.33868207103123665, \"tpr\": 0.6127982646420824, \"n\": 4674}, {\"threshold\": 0.507, \"p\": 4610, \"fpr\": 0.3371844244758237, \"tpr\": 0.6119305856832972, \"n\": 4674}, {\"threshold\": 0.508, \"p\": 4610, \"fpr\": 0.3371844244758237, \"tpr\": 0.6119305856832972, \"n\": 4674}, {\"threshold\": 0.509, \"p\": 4610, \"fpr\": 0.3371844244758237, \"tpr\": 0.6119305856832972, \"n\": 4674}, {\"threshold\": 0.51, \"p\": 4610, \"fpr\": 0.3371844244758237, \"tpr\": 0.6119305856832972, \"n\": 4674}, {\"threshold\": 0.511, \"p\": 4610, \"fpr\": 0.3371844244758237, \"tpr\": 0.6119305856832972, \"n\": 4674}, {\"threshold\": 0.512, \"p\": 4610, \"fpr\": 0.3371844244758237, \"tpr\": 0.6119305856832972, \"n\": 4674}, {\"threshold\": 0.513, \"p\": 4610, \"fpr\": 0.3371844244758237, \"tpr\": 0.6119305856832972, \"n\": 4674}, {\"threshold\": 0.514, \"p\": 4610, \"fpr\": 0.3371844244758237, \"tpr\": 0.6119305856832972, \"n\": 4674}, {\"threshold\": 0.515, \"p\": 4610, \"fpr\": 0.3371844244758237, \"tpr\": 0.6119305856832972, \"n\": 4674}, {\"threshold\": 0.516, \"p\": 4610, \"fpr\": 0.3371844244758237, \"tpr\": 0.6119305856832972, \"n\": 4674}, {\"threshold\": 0.517, \"p\": 4610, \"fpr\": 0.22614462986735132, \"tpr\": 0.4780911062906725, \"n\": 4674}, {\"threshold\": 0.518, \"p\": 4610, \"fpr\": 0.22614462986735132, \"tpr\": 0.4780911062906725, \"n\": 4674}, {\"threshold\": 0.519, \"p\": 4610, \"fpr\": 0.22614462986735132, \"tpr\": 0.4780911062906725, \"n\": 4674}, {\"threshold\": 0.52, \"p\": 4610, \"fpr\": 0.22614462986735132, \"tpr\": 0.4780911062906725, \"n\": 4674}, {\"threshold\": 0.521, \"p\": 4610, \"fpr\": 0.22614462986735132, \"tpr\": 0.4780911062906725, \"n\": 4674}, {\"threshold\": 0.522, \"p\": 4610, \"fpr\": 0.1514762516046213, \"tpr\": 0.3776572668112798, \"n\": 4674}, {\"threshold\": 0.523, \"p\": 4610, \"fpr\": 0.1514762516046213, \"tpr\": 0.3776572668112798, \"n\": 4674}, {\"threshold\": 0.524, \"p\": 4610, \"fpr\": 0.1514762516046213, \"tpr\": 0.3776572668112798, \"n\": 4674}, {\"threshold\": 0.525, \"p\": 4610, \"fpr\": 0.1514762516046213, \"tpr\": 0.3776572668112798, \"n\": 4674}, {\"threshold\": 0.526, \"p\": 4610, \"fpr\": 0.1514762516046213, \"tpr\": 0.3776572668112798, \"n\": 4674}, {\"threshold\": 0.527, \"p\": 4610, \"fpr\": 0.1514762516046213, \"tpr\": 0.3776572668112798, \"n\": 4674}, {\"threshold\": 0.528, \"p\": 4610, \"fpr\": 0.1514762516046213, \"tpr\": 0.3776572668112798, \"n\": 4674}, {\"threshold\": 0.529, \"p\": 4610, \"fpr\": 0.1514762516046213, \"tpr\": 0.3776572668112798, \"n\": 4674}, {\"threshold\": 0.53, \"p\": 4610, \"fpr\": 0.15104835258878904, \"tpr\": 0.3776572668112798, \"n\": 4674}, {\"threshold\": 0.531, \"p\": 4610, \"fpr\": 0.15104835258878904, \"tpr\": 0.3776572668112798, \"n\": 4674}, {\"threshold\": 0.532, \"p\": 4610, \"fpr\": 0.15104835258878904, \"tpr\": 0.3776572668112798, \"n\": 4674}, {\"threshold\": 0.533, \"p\": 4610, \"fpr\": 0.15104835258878904, \"tpr\": 0.3776572668112798, \"n\": 4674}, {\"threshold\": 0.534, \"p\": 4610, \"fpr\": 0.15104835258878904, \"tpr\": 0.3776572668112798, \"n\": 4674}, {\"threshold\": 0.535, \"p\": 4610, \"fpr\": 0.15104835258878904, \"tpr\": 0.3776572668112798, \"n\": 4674}, {\"threshold\": 0.536, \"p\": 4610, \"fpr\": 0.1433461703038083, \"tpr\": 0.3594360086767896, \"n\": 4674}, {\"threshold\": 0.537, \"p\": 4610, \"fpr\": 0.1433461703038083, \"tpr\": 0.3594360086767896, \"n\": 4674}, {\"threshold\": 0.538, \"p\": 4610, \"fpr\": 0.1433461703038083, \"tpr\": 0.3594360086767896, \"n\": 4674}, {\"threshold\": 0.539, \"p\": 4610, \"fpr\": 0.1433461703038083, \"tpr\": 0.3594360086767896, \"n\": 4674}, {\"threshold\": 0.54, \"p\": 4610, \"fpr\": 0.1433461703038083, \"tpr\": 0.3594360086767896, \"n\": 4674}, {\"threshold\": 0.541, \"p\": 4610, \"fpr\": 0.1433461703038083, \"tpr\": 0.3594360086767896, \"n\": 4674}, {\"threshold\": 0.542, \"p\": 4610, \"fpr\": 0.1433461703038083, \"tpr\": 0.3594360086767896, \"n\": 4674}, {\"threshold\": 0.543, \"p\": 4610, \"fpr\": 0.1433461703038083, \"tpr\": 0.3594360086767896, \"n\": 4674}, {\"threshold\": 0.544, \"p\": 4610, \"fpr\": 0.1433461703038083, \"tpr\": 0.3594360086767896, \"n\": 4674}, {\"threshold\": 0.545, \"p\": 4610, \"fpr\": 0.1433461703038083, \"tpr\": 0.3594360086767896, \"n\": 4674}, {\"threshold\": 0.546, \"p\": 4610, \"fpr\": 0.1433461703038083, \"tpr\": 0.3594360086767896, \"n\": 4674}, {\"threshold\": 0.547, \"p\": 4610, \"fpr\": 0.1386392811296534, \"tpr\": 0.3431670281995662, \"n\": 4674}, {\"threshold\": 0.548, \"p\": 4610, \"fpr\": 0.0464270432178006, \"tpr\": 0.17136659436008678, \"n\": 4674}, {\"threshold\": 0.549, \"p\": 4610, \"fpr\": 0.0464270432178006, \"tpr\": 0.17136659436008678, \"n\": 4674}, {\"threshold\": 0.55, \"p\": 4610, \"fpr\": 0.0464270432178006, \"tpr\": 0.17136659436008678, \"n\": 4674}, {\"threshold\": 0.551, \"p\": 4610, \"fpr\": 0.0464270432178006, \"tpr\": 0.17136659436008678, \"n\": 4674}, {\"threshold\": 0.552, \"p\": 4610, \"fpr\": 0.0464270432178006, \"tpr\": 0.17136659436008678, \"n\": 4674}, {\"threshold\": 0.553, \"p\": 4610, \"fpr\": 0.0464270432178006, \"tpr\": 0.17136659436008678, \"n\": 4674}, {\"threshold\": 0.554, \"p\": 4610, \"fpr\": 0.0464270432178006, \"tpr\": 0.17136659436008678, \"n\": 4674}, {\"threshold\": 0.555, \"p\": 4610, \"fpr\": 0.0464270432178006, \"tpr\": 0.17136659436008678, \"n\": 4674}, {\"threshold\": 0.556, \"p\": 4610, \"fpr\": 0.0464270432178006, \"tpr\": 0.17136659436008678, \"n\": 4674}, {\"threshold\": 0.557, \"p\": 4610, \"fpr\": 0.0464270432178006, \"tpr\": 0.17136659436008678, \"n\": 4674}, {\"threshold\": 0.558, \"p\": 4610, \"fpr\": 0.0464270432178006, \"tpr\": 0.17136659436008678, \"n\": 4674}, {\"threshold\": 0.559, \"p\": 4610, \"fpr\": 0.0464270432178006, \"tpr\": 0.17136659436008678, \"n\": 4674}, {\"threshold\": 0.56, \"p\": 4610, \"fpr\": 0.044501497646555414, \"tpr\": 0.16941431670281995, \"n\": 4674}, {\"threshold\": 0.561, \"p\": 4610, \"fpr\": 0.044501497646555414, \"tpr\": 0.16941431670281995, \"n\": 4674}, {\"threshold\": 0.562, \"p\": 4610, \"fpr\": 0.044501497646555414, \"tpr\": 0.16941431670281995, \"n\": 4674}, {\"threshold\": 0.563, \"p\": 4610, \"fpr\": 0.04000855798031665, \"tpr\": 0.15986984815618221, \"n\": 4674}, {\"threshold\": 0.564, \"p\": 4610, \"fpr\": 0.03979460847240052, \"tpr\": 0.15921908893709327, \"n\": 4674}, {\"threshold\": 0.565, \"p\": 4610, \"fpr\": 0.03979460847240052, \"tpr\": 0.15921908893709327, \"n\": 4674}, {\"threshold\": 0.566, \"p\": 4610, \"fpr\": 0.03979460847240052, \"tpr\": 0.15921908893709327, \"n\": 4674}, {\"threshold\": 0.567, \"p\": 4610, \"fpr\": 0.03979460847240052, \"tpr\": 0.15921908893709327, \"n\": 4674}, {\"threshold\": 0.568, \"p\": 4610, \"fpr\": 0.03979460847240052, \"tpr\": 0.15921908893709327, \"n\": 4674}, {\"threshold\": 0.569, \"p\": 4610, \"fpr\": 0.03979460847240052, \"tpr\": 0.15921908893709327, \"n\": 4674}, {\"threshold\": 0.57, \"p\": 4610, \"fpr\": 0.03979460847240052, \"tpr\": 0.15921908893709327, \"n\": 4674}, {\"threshold\": 0.571, \"p\": 4610, \"fpr\": 0.03979460847240052, \"tpr\": 0.15921908893709327, \"n\": 4674}, {\"threshold\": 0.572, \"p\": 4610, \"fpr\": 0.03979460847240052, \"tpr\": 0.15921908893709327, \"n\": 4674}, {\"threshold\": 0.573, \"p\": 4610, \"fpr\": 0.03979460847240052, \"tpr\": 0.15921908893709327, \"n\": 4674}, {\"threshold\": 0.574, \"p\": 4610, \"fpr\": 0.03979460847240052, \"tpr\": 0.15921908893709327, \"n\": 4674}, {\"threshold\": 0.575, \"p\": 4610, \"fpr\": 0.03979460847240052, \"tpr\": 0.15921908893709327, \"n\": 4674}, {\"threshold\": 0.576, \"p\": 4610, \"fpr\": 0.03979460847240052, \"tpr\": 0.15921908893709327, \"n\": 4674}, {\"threshold\": 0.577, \"p\": 4610, \"fpr\": 0.03979460847240052, \"tpr\": 0.15921908893709327, \"n\": 4674}, {\"threshold\": 0.578, \"p\": 4610, \"fpr\": 0.03979460847240052, \"tpr\": 0.15921908893709327, \"n\": 4674}, {\"threshold\": 0.579, \"p\": 4610, \"fpr\": 0.02610183996576808, \"tpr\": 0.11301518438177874, \"n\": 4674}, {\"threshold\": 0.58, \"p\": 4610, \"fpr\": 0.02610183996576808, \"tpr\": 0.11301518438177874, \"n\": 4674}, {\"threshold\": 0.581, \"p\": 4610, \"fpr\": 0.02610183996576808, \"tpr\": 0.11301518438177874, \"n\": 4674}, {\"threshold\": 0.582, \"p\": 4610, \"fpr\": 0.02610183996576808, \"tpr\": 0.11301518438177874, \"n\": 4674}, {\"threshold\": 0.583, \"p\": 4610, \"fpr\": 0.02610183996576808, \"tpr\": 0.11301518438177874, \"n\": 4674}, {\"threshold\": 0.584, \"p\": 4610, \"fpr\": 0.02610183996576808, \"tpr\": 0.11301518438177874, \"n\": 4674}, {\"threshold\": 0.585, \"p\": 4610, \"fpr\": 0.02610183996576808, \"tpr\": 0.11301518438177874, \"n\": 4674}, {\"threshold\": 0.586, \"p\": 4610, \"fpr\": 0.02610183996576808, \"tpr\": 0.11301518438177874, \"n\": 4674}, {\"threshold\": 0.587, \"p\": 4610, \"fpr\": 0.010269576379974325, \"tpr\": 0.07136659436008677, \"n\": 4674}, {\"threshold\": 0.588, \"p\": 4610, \"fpr\": 0.010269576379974325, \"tpr\": 0.06919739696312364, \"n\": 4674}, {\"threshold\": 0.589, \"p\": 4610, \"fpr\": 0.010269576379974325, \"tpr\": 0.06919739696312364, \"n\": 4674}, {\"threshold\": 0.59, \"p\": 4610, \"fpr\": 0.010055626872058195, \"tpr\": 0.06876355748373102, \"n\": 4674}, {\"threshold\": 0.591, \"p\": 4610, \"fpr\": 0.010055626872058195, \"tpr\": 0.06876355748373102, \"n\": 4674}, {\"threshold\": 0.592, \"p\": 4610, \"fpr\": 0.010055626872058195, \"tpr\": 0.06876355748373102, \"n\": 4674}, {\"threshold\": 0.593, \"p\": 4610, \"fpr\": 0.010055626872058195, \"tpr\": 0.06876355748373102, \"n\": 4674}, {\"threshold\": 0.594, \"p\": 4610, \"fpr\": 0.010055626872058195, \"tpr\": 0.06876355748373102, \"n\": 4674}, {\"threshold\": 0.595, \"p\": 4610, \"fpr\": 0.010055626872058195, \"tpr\": 0.06876355748373102, \"n\": 4674}, {\"threshold\": 0.596, \"p\": 4610, \"fpr\": 0.010055626872058195, \"tpr\": 0.06876355748373102, \"n\": 4674}, {\"threshold\": 0.597, \"p\": 4610, \"fpr\": 0.010055626872058195, \"tpr\": 0.06876355748373102, \"n\": 4674}, {\"threshold\": 0.598, \"p\": 4610, \"fpr\": 0.010055626872058195, \"tpr\": 0.06876355748373102, \"n\": 4674}, {\"threshold\": 0.599, \"p\": 4610, \"fpr\": 0.010055626872058195, \"tpr\": 0.06876355748373102, \"n\": 4674}, {\"threshold\": 0.6, \"p\": 4610, \"fpr\": 0.010055626872058195, \"tpr\": 0.06876355748373102, \"n\": 4674}, {\"threshold\": 0.601, \"p\": 4610, \"fpr\": 0.010055626872058195, \"tpr\": 0.06876355748373102, \"n\": 4674}, {\"threshold\": 0.602, \"p\": 4610, \"fpr\": 0.010055626872058195, \"tpr\": 0.06876355748373102, \"n\": 4674}, {\"threshold\": 0.603, \"p\": 4610, \"fpr\": 0.010055626872058195, \"tpr\": 0.06876355748373102, \"n\": 4674}, {\"threshold\": 0.604, \"p\": 4610, \"fpr\": 0.010055626872058195, \"tpr\": 0.06876355748373102, \"n\": 4674}, {\"threshold\": 0.605, \"p\": 4610, \"fpr\": 0.010055626872058195, \"tpr\": 0.06876355748373102, \"n\": 4674}, {\"threshold\": 0.606, \"p\": 4610, \"fpr\": 0.010055626872058195, \"tpr\": 0.06876355748373102, \"n\": 4674}, {\"threshold\": 0.607, \"p\": 4610, \"fpr\": 0.010055626872058195, \"tpr\": 0.06876355748373102, \"n\": 4674}, {\"threshold\": 0.608, \"p\": 4610, \"fpr\": 0.010055626872058195, \"tpr\": 0.06876355748373102, \"n\": 4674}, {\"threshold\": 0.609, \"p\": 4610, \"fpr\": 0.0, \"tpr\": 0.0, \"n\": 4674}, {\"threshold\": 0.61, \"p\": 4610, \"fpr\": 0.0, \"tpr\": 0.0, \"n\": 4674}, {\"threshold\": 0.611, \"p\": 4610, \"fpr\": 0.0, \"tpr\": 0.0, \"n\": 4674}, {\"threshold\": 0.612, \"p\": 4610, \"fpr\": 0.0, \"tpr\": 0.0, \"n\": 4674}, {\"threshold\": 0.613, \"p\": 4610, \"fpr\": 0.0, \"tpr\": 0.0, \"n\": 4674}, {\"threshold\": 0.614, \"p\": 4610, \"fpr\": 0.0, \"tpr\": 0.0, \"n\": 4674}, {\"threshold\": 0.615, \"p\": 4610, \"fpr\": 0.0, \"tpr\": 0.0, \"n\": 4674}, {\"threshold\": 0.616, \"p\": 4610, \"fpr\": 0.0, \"tpr\": 0.0, \"n\": 4674}, {\"threshold\": 0.617, \"p\": 4610, \"fpr\": 0.0, \"tpr\": 0.0, \"n\": 4674}, {\"threshold\": 0.618, \"p\": 4610, \"fpr\": 0.0, \"tpr\": 0.0, \"n\": 4674}, {\"threshold\": 0.619, \"p\": 4610, \"fpr\": 0.0, \"tpr\": 0.0, \"n\": 4674}, {\"threshold\": 0.62, \"p\": 4610, \"fpr\": 0.0, \"tpr\": 0.0, \"n\": 4674}, {\"threshold\": 0.621, \"p\": 4610, \"fpr\": 0.0, \"tpr\": 0.0, \"n\": 4674}, {\"threshold\": 0.622, \"p\": 4610, \"fpr\": 0.0, \"tpr\": 0.0, \"n\": 4674}, {\"threshold\": 0.623, \"p\": 4610, \"fpr\": 0.0, \"tpr\": 0.0, \"n\": 4674}, {\"threshold\": 0.624, \"p\": 4610, \"fpr\": 0.0, \"tpr\": 0.0, \"n\": 4674}, {\"threshold\": 0.625, \"p\": 4610, \"fpr\": 0.0, \"tpr\": 0.0, \"n\": 4674}, {\"threshold\": 0.626, \"p\": 4610, \"fpr\": 0.0, \"tpr\": 0.0, \"n\": 4674}, {\"threshold\": 0.627, \"p\": 4610, \"fpr\": 0.0, \"tpr\": 0.0, \"n\": 4674}, {\"threshold\": 0.628, \"p\": 4610, \"fpr\": 0.0, \"tpr\": 0.0, \"n\": 4674}, {\"threshold\": 0.629, \"p\": 4610, \"fpr\": 0.0, \"tpr\": 0.0, \"n\": 4674}, {\"threshold\": 0.63, \"p\": 4610, \"fpr\": 0.0, \"tpr\": 0.0, \"n\": 4674}, {\"threshold\": 0.631, \"p\": 4610, \"fpr\": 0.0, \"tpr\": 0.0, \"n\": 4674}, {\"threshold\": 0.632, \"p\": 4610, \"fpr\": 0.0, \"tpr\": 0.0, \"n\": 4674}, {\"threshold\": 0.633, \"p\": 4610, \"fpr\": 0.0, \"tpr\": 0.0, \"n\": 4674}, {\"threshold\": 0.634, \"p\": 4610, \"fpr\": 0.0, \"tpr\": 0.0, \"n\": 4674}, {\"threshold\": 0.635, \"p\": 4610, \"fpr\": 0.0, \"tpr\": 0.0, \"n\": 4674}, {\"threshold\": 0.636, \"p\": 4610, \"fpr\": 0.0, \"tpr\": 0.0, \"n\": 4674}, {\"threshold\": 0.637, \"p\": 4610, \"fpr\": 0.0, \"tpr\": 0.0, \"n\": 4674}, {\"threshold\": 0.638, \"p\": 4610, \"fpr\": 0.0, \"tpr\": 0.0, \"n\": 4674}, {\"threshold\": 0.639, \"p\": 4610, \"fpr\": 0.0, \"tpr\": 0.0, \"n\": 4674}, {\"threshold\": 0.64, \"p\": 4610, \"fpr\": 0.0, \"tpr\": 0.0, \"n\": 4674}, {\"threshold\": 0.641, \"p\": 4610, \"fpr\": 0.0, \"tpr\": 0.0, \"n\": 4674}, {\"threshold\": 0.642, \"p\": 4610, \"fpr\": 0.0, \"tpr\": 0.0, \"n\": 4674}, {\"threshold\": 0.643, \"p\": 4610, \"fpr\": 0.0, \"tpr\": 0.0, \"n\": 4674}, {\"threshold\": 0.644, \"p\": 4610, \"fpr\": 0.0, \"tpr\": 0.0, \"n\": 4674}, {\"threshold\": 0.645, \"p\": 4610, \"fpr\": 0.0, \"tpr\": 0.0, \"n\": 4674}, {\"threshold\": 0.646, \"p\": 4610, \"fpr\": 0.0, \"tpr\": 0.0, \"n\": 4674}, {\"threshold\": 0.647, \"p\": 4610, \"fpr\": 0.0, \"tpr\": 0.0, \"n\": 4674}, {\"threshold\": 0.648, \"p\": 4610, \"fpr\": 0.0, \"tpr\": 0.0, \"n\": 4674}, {\"threshold\": 0.649, \"p\": 4610, \"fpr\": 0.0, \"tpr\": 0.0, \"n\": 4674}, {\"threshold\": 0.65, \"p\": 4610, \"fpr\": 0.0, \"tpr\": 0.0, \"n\": 4674}, {\"threshold\": 0.651, \"p\": 4610, \"fpr\": 0.0, \"tpr\": 0.0, \"n\": 4674}, {\"threshold\": 0.652, \"p\": 4610, \"fpr\": 0.0, \"tpr\": 0.0, \"n\": 4674}, {\"threshold\": 0.653, \"p\": 4610, \"fpr\": 0.0, \"tpr\": 0.0, \"n\": 4674}, {\"threshold\": 0.654, \"p\": 4610, \"fpr\": 0.0, \"tpr\": 0.0, \"n\": 4674}, {\"threshold\": 0.655, \"p\": 4610, \"fpr\": 0.0, \"tpr\": 0.0, \"n\": 4674}, {\"threshold\": 0.656, \"p\": 4610, \"fpr\": 0.0, \"tpr\": 0.0, \"n\": 4674}, {\"threshold\": 0.657, \"p\": 4610, \"fpr\": 0.0, \"tpr\": 0.0, \"n\": 4674}, {\"threshold\": 0.658, \"p\": 4610, \"fpr\": 0.0, \"tpr\": 0.0, \"n\": 4674}, {\"threshold\": 0.659, \"p\": 4610, \"fpr\": 0.0, \"tpr\": 0.0, \"n\": 4674}, {\"threshold\": 0.66, \"p\": 4610, \"fpr\": 0.0, \"tpr\": 0.0, \"n\": 4674}, {\"threshold\": 0.661, \"p\": 4610, \"fpr\": 0.0, \"tpr\": 0.0, \"n\": 4674}, {\"threshold\": 0.662, \"p\": 4610, \"fpr\": 0.0, \"tpr\": 0.0, \"n\": 4674}, {\"threshold\": 0.663, \"p\": 4610, \"fpr\": 0.0, \"tpr\": 0.0, \"n\": 4674}, {\"threshold\": 0.664, \"p\": 4610, \"fpr\": 0.0, \"tpr\": 0.0, \"n\": 4674}, {\"threshold\": 0.665, \"p\": 4610, \"fpr\": 0.0, \"tpr\": 0.0, \"n\": 4674}, {\"threshold\": 0.666, \"p\": 4610, \"fpr\": 0.0, \"tpr\": 0.0, \"n\": 4674}, {\"threshold\": 0.667, \"p\": 4610, \"fpr\": 0.0, \"tpr\": 0.0, \"n\": 4674}, {\"threshold\": 0.668, \"p\": 4610, \"fpr\": 0.0, \"tpr\": 0.0, \"n\": 4674}, {\"threshold\": 0.669, \"p\": 4610, \"fpr\": 0.0, \"tpr\": 0.0, \"n\": 4674}, {\"threshold\": 0.67, \"p\": 4610, \"fpr\": 0.0, \"tpr\": 0.0, \"n\": 4674}, {\"threshold\": 0.671, \"p\": 4610, \"fpr\": 0.0, \"tpr\": 0.0, \"n\": 4674}, {\"threshold\": 0.672, \"p\": 4610, \"fpr\": 0.0, \"tpr\": 0.0, \"n\": 4674}, {\"threshold\": 0.673, \"p\": 4610, \"fpr\": 0.0, \"tpr\": 0.0, \"n\": 4674}, {\"threshold\": 0.674, \"p\": 4610, \"fpr\": 0.0, \"tpr\": 0.0, \"n\": 4674}, {\"threshold\": 0.675, \"p\": 4610, \"fpr\": 0.0, \"tpr\": 0.0, \"n\": 4674}, {\"threshold\": 0.676, \"p\": 4610, \"fpr\": 0.0, \"tpr\": 0.0, \"n\": 4674}, {\"threshold\": 0.677, \"p\": 4610, \"fpr\": 0.0, \"tpr\": 0.0, \"n\": 4674}, {\"threshold\": 0.678, \"p\": 4610, \"fpr\": 0.0, \"tpr\": 0.0, \"n\": 4674}, {\"threshold\": 0.679, \"p\": 4610, \"fpr\": 0.0, \"tpr\": 0.0, \"n\": 4674}, {\"threshold\": 0.68, \"p\": 4610, \"fpr\": 0.0, \"tpr\": 0.0, \"n\": 4674}, {\"threshold\": 0.681, \"p\": 4610, \"fpr\": 0.0, \"tpr\": 0.0, \"n\": 4674}, {\"threshold\": 0.682, \"p\": 4610, \"fpr\": 0.0, \"tpr\": 0.0, \"n\": 4674}, {\"threshold\": 0.683, \"p\": 4610, \"fpr\": 0.0, \"tpr\": 0.0, \"n\": 4674}, {\"threshold\": 0.684, \"p\": 4610, \"fpr\": 0.0, \"tpr\": 0.0, \"n\": 4674}, {\"threshold\": 0.685, \"p\": 4610, \"fpr\": 0.0, \"tpr\": 0.0, \"n\": 4674}, {\"threshold\": 0.686, \"p\": 4610, \"fpr\": 0.0, \"tpr\": 0.0, \"n\": 4674}, {\"threshold\": 0.687, \"p\": 4610, \"fpr\": 0.0, \"tpr\": 0.0, \"n\": 4674}, {\"threshold\": 0.688, \"p\": 4610, \"fpr\": 0.0, \"tpr\": 0.0, \"n\": 4674}, {\"threshold\": 0.689, \"p\": 4610, \"fpr\": 0.0, \"tpr\": 0.0, \"n\": 4674}, {\"threshold\": 0.69, \"p\": 4610, \"fpr\": 0.0, \"tpr\": 0.0, \"n\": 4674}, {\"threshold\": 0.691, \"p\": 4610, \"fpr\": 0.0, \"tpr\": 0.0, \"n\": 4674}, {\"threshold\": 0.692, \"p\": 4610, \"fpr\": 0.0, \"tpr\": 0.0, \"n\": 4674}, {\"threshold\": 0.693, \"p\": 4610, \"fpr\": 0.0, \"tpr\": 0.0, \"n\": 4674}, {\"threshold\": 0.694, \"p\": 4610, \"fpr\": 0.0, \"tpr\": 0.0, \"n\": 4674}, {\"threshold\": 0.695, \"p\": 4610, \"fpr\": 0.0, \"tpr\": 0.0, \"n\": 4674}, {\"threshold\": 0.696, \"p\": 4610, \"fpr\": 0.0, \"tpr\": 0.0, \"n\": 4674}, {\"threshold\": 0.697, \"p\": 4610, \"fpr\": 0.0, \"tpr\": 0.0, \"n\": 4674}, {\"threshold\": 0.698, \"p\": 4610, \"fpr\": 0.0, \"tpr\": 0.0, \"n\": 4674}, {\"threshold\": 0.699, \"p\": 4610, \"fpr\": 0.0, \"tpr\": 0.0, \"n\": 4674}, {\"threshold\": 0.7, \"p\": 4610, \"fpr\": 0.0, \"tpr\": 0.0, \"n\": 4674}, {\"threshold\": 0.701, \"p\": 4610, \"fpr\": 0.0, \"tpr\": 0.0, \"n\": 4674}, {\"threshold\": 0.702, \"p\": 4610, \"fpr\": 0.0, \"tpr\": 0.0, \"n\": 4674}, {\"threshold\": 0.703, \"p\": 4610, \"fpr\": 0.0, \"tpr\": 0.0, \"n\": 4674}, {\"threshold\": 0.704, \"p\": 4610, \"fpr\": 0.0, \"tpr\": 0.0, \"n\": 4674}, {\"threshold\": 0.705, \"p\": 4610, \"fpr\": 0.0, \"tpr\": 0.0, \"n\": 4674}, {\"threshold\": 0.706, \"p\": 4610, \"fpr\": 0.0, \"tpr\": 0.0, \"n\": 4674}, {\"threshold\": 0.707, \"p\": 4610, \"fpr\": 0.0, \"tpr\": 0.0, \"n\": 4674}, {\"threshold\": 0.708, \"p\": 4610, \"fpr\": 0.0, \"tpr\": 0.0, \"n\": 4674}, {\"threshold\": 0.709, \"p\": 4610, \"fpr\": 0.0, \"tpr\": 0.0, \"n\": 4674}, {\"threshold\": 0.71, \"p\": 4610, \"fpr\": 0.0, \"tpr\": 0.0, \"n\": 4674}, {\"threshold\": 0.711, \"p\": 4610, \"fpr\": 0.0, \"tpr\": 0.0, \"n\": 4674}, {\"threshold\": 0.712, \"p\": 4610, \"fpr\": 0.0, \"tpr\": 0.0, \"n\": 4674}, {\"threshold\": 0.713, \"p\": 4610, \"fpr\": 0.0, \"tpr\": 0.0, \"n\": 4674}, {\"threshold\": 0.714, \"p\": 4610, \"fpr\": 0.0, \"tpr\": 0.0, \"n\": 4674}, {\"threshold\": 0.715, \"p\": 4610, \"fpr\": 0.0, \"tpr\": 0.0, \"n\": 4674}, {\"threshold\": 0.716, \"p\": 4610, \"fpr\": 0.0, \"tpr\": 0.0, \"n\": 4674}, {\"threshold\": 0.717, \"p\": 4610, \"fpr\": 0.0, \"tpr\": 0.0, \"n\": 4674}, {\"threshold\": 0.718, \"p\": 4610, \"fpr\": 0.0, \"tpr\": 0.0, \"n\": 4674}, {\"threshold\": 0.719, \"p\": 4610, \"fpr\": 0.0, \"tpr\": 0.0, \"n\": 4674}, {\"threshold\": 0.72, \"p\": 4610, \"fpr\": 0.0, \"tpr\": 0.0, \"n\": 4674}, {\"threshold\": 0.721, \"p\": 4610, \"fpr\": 0.0, \"tpr\": 0.0, \"n\": 4674}, {\"threshold\": 0.722, \"p\": 4610, \"fpr\": 0.0, \"tpr\": 0.0, \"n\": 4674}, {\"threshold\": 0.723, \"p\": 4610, \"fpr\": 0.0, \"tpr\": 0.0, \"n\": 4674}, {\"threshold\": 0.724, \"p\": 4610, \"fpr\": 0.0, \"tpr\": 0.0, \"n\": 4674}, {\"threshold\": 0.725, \"p\": 4610, \"fpr\": 0.0, \"tpr\": 0.0, \"n\": 4674}, {\"threshold\": 0.726, \"p\": 4610, \"fpr\": 0.0, \"tpr\": 0.0, \"n\": 4674}, {\"threshold\": 0.727, \"p\": 4610, \"fpr\": 0.0, \"tpr\": 0.0, \"n\": 4674}, {\"threshold\": 0.728, \"p\": 4610, \"fpr\": 0.0, \"tpr\": 0.0, \"n\": 4674}, {\"threshold\": 0.729, \"p\": 4610, \"fpr\": 0.0, \"tpr\": 0.0, \"n\": 4674}, {\"threshold\": 0.73, \"p\": 4610, \"fpr\": 0.0, \"tpr\": 0.0, \"n\": 4674}, {\"threshold\": 0.731, \"p\": 4610, \"fpr\": 0.0, \"tpr\": 0.0, \"n\": 4674}, {\"threshold\": 0.732, \"p\": 4610, \"fpr\": 0.0, \"tpr\": 0.0, \"n\": 4674}, {\"threshold\": 0.733, \"p\": 4610, \"fpr\": 0.0, \"tpr\": 0.0, \"n\": 4674}, {\"threshold\": 0.734, \"p\": 4610, \"fpr\": 0.0, \"tpr\": 0.0, \"n\": 4674}, {\"threshold\": 0.735, \"p\": 4610, \"fpr\": 0.0, \"tpr\": 0.0, \"n\": 4674}, {\"threshold\": 0.736, \"p\": 4610, \"fpr\": 0.0, \"tpr\": 0.0, \"n\": 4674}, {\"threshold\": 0.737, \"p\": 4610, \"fpr\": 0.0, \"tpr\": 0.0, \"n\": 4674}, {\"threshold\": 0.738, \"p\": 4610, \"fpr\": 0.0, \"tpr\": 0.0, \"n\": 4674}, {\"threshold\": 0.739, \"p\": 4610, \"fpr\": 0.0, \"tpr\": 0.0, \"n\": 4674}, {\"threshold\": 0.74, \"p\": 4610, \"fpr\": 0.0, \"tpr\": 0.0, \"n\": 4674}, {\"threshold\": 0.741, \"p\": 4610, \"fpr\": 0.0, \"tpr\": 0.0, \"n\": 4674}, {\"threshold\": 0.742, \"p\": 4610, \"fpr\": 0.0, \"tpr\": 0.0, \"n\": 4674}, {\"threshold\": 0.743, \"p\": 4610, \"fpr\": 0.0, \"tpr\": 0.0, \"n\": 4674}, {\"threshold\": 0.744, \"p\": 4610, \"fpr\": 0.0, \"tpr\": 0.0, \"n\": 4674}, {\"threshold\": 0.745, \"p\": 4610, \"fpr\": 0.0, \"tpr\": 0.0, \"n\": 4674}, {\"threshold\": 0.746, \"p\": 4610, \"fpr\": 0.0, \"tpr\": 0.0, \"n\": 4674}, {\"threshold\": 0.747, \"p\": 4610, \"fpr\": 0.0, \"tpr\": 0.0, \"n\": 4674}, {\"threshold\": 0.748, \"p\": 4610, \"fpr\": 0.0, \"tpr\": 0.0, \"n\": 4674}, {\"threshold\": 0.749, \"p\": 4610, \"fpr\": 0.0, \"tpr\": 0.0, \"n\": 4674}, {\"threshold\": 0.75, \"p\": 4610, \"fpr\": 0.0, \"tpr\": 0.0, \"n\": 4674}, {\"threshold\": 0.751, \"p\": 4610, \"fpr\": 0.0, \"tpr\": 0.0, \"n\": 4674}, {\"threshold\": 0.752, \"p\": 4610, \"fpr\": 0.0, \"tpr\": 0.0, \"n\": 4674}, {\"threshold\": 0.753, \"p\": 4610, \"fpr\": 0.0, \"tpr\": 0.0, \"n\": 4674}, {\"threshold\": 0.754, \"p\": 4610, \"fpr\": 0.0, \"tpr\": 0.0, \"n\": 4674}, {\"threshold\": 0.755, \"p\": 4610, \"fpr\": 0.0, \"tpr\": 0.0, \"n\": 4674}, {\"threshold\": 0.756, \"p\": 4610, \"fpr\": 0.0, \"tpr\": 0.0, \"n\": 4674}, {\"threshold\": 0.757, \"p\": 4610, \"fpr\": 0.0, \"tpr\": 0.0, \"n\": 4674}, {\"threshold\": 0.758, \"p\": 4610, \"fpr\": 0.0, \"tpr\": 0.0, \"n\": 4674}, {\"threshold\": 0.759, \"p\": 4610, \"fpr\": 0.0, \"tpr\": 0.0, \"n\": 4674}, {\"threshold\": 0.76, \"p\": 4610, \"fpr\": 0.0, \"tpr\": 0.0, \"n\": 4674}, {\"threshold\": 0.761, \"p\": 4610, \"fpr\": 0.0, \"tpr\": 0.0, \"n\": 4674}, {\"threshold\": 0.762, \"p\": 4610, \"fpr\": 0.0, \"tpr\": 0.0, \"n\": 4674}, {\"threshold\": 0.763, \"p\": 4610, \"fpr\": 0.0, \"tpr\": 0.0, \"n\": 4674}, {\"threshold\": 0.764, \"p\": 4610, \"fpr\": 0.0, \"tpr\": 0.0, \"n\": 4674}, {\"threshold\": 0.765, \"p\": 4610, \"fpr\": 0.0, \"tpr\": 0.0, \"n\": 4674}, {\"threshold\": 0.766, \"p\": 4610, \"fpr\": 0.0, \"tpr\": 0.0, \"n\": 4674}, {\"threshold\": 0.767, \"p\": 4610, \"fpr\": 0.0, \"tpr\": 0.0, \"n\": 4674}, {\"threshold\": 0.768, \"p\": 4610, \"fpr\": 0.0, \"tpr\": 0.0, \"n\": 4674}, {\"threshold\": 0.769, \"p\": 4610, \"fpr\": 0.0, \"tpr\": 0.0, \"n\": 4674}, {\"threshold\": 0.77, \"p\": 4610, \"fpr\": 0.0, \"tpr\": 0.0, \"n\": 4674}, {\"threshold\": 0.771, \"p\": 4610, \"fpr\": 0.0, \"tpr\": 0.0, \"n\": 4674}, {\"threshold\": 0.772, \"p\": 4610, \"fpr\": 0.0, \"tpr\": 0.0, \"n\": 4674}, {\"threshold\": 0.773, \"p\": 4610, \"fpr\": 0.0, \"tpr\": 0.0, \"n\": 4674}, {\"threshold\": 0.774, \"p\": 4610, \"fpr\": 0.0, \"tpr\": 0.0, \"n\": 4674}, {\"threshold\": 0.775, \"p\": 4610, \"fpr\": 0.0, \"tpr\": 0.0, \"n\": 4674}, {\"threshold\": 0.776, \"p\": 4610, \"fpr\": 0.0, \"tpr\": 0.0, \"n\": 4674}, {\"threshold\": 0.777, \"p\": 4610, \"fpr\": 0.0, \"tpr\": 0.0, \"n\": 4674}, {\"threshold\": 0.778, \"p\": 4610, \"fpr\": 0.0, \"tpr\": 0.0, \"n\": 4674}, {\"threshold\": 0.779, \"p\": 4610, \"fpr\": 0.0, \"tpr\": 0.0, \"n\": 4674}, {\"threshold\": 0.78, \"p\": 4610, \"fpr\": 0.0, \"tpr\": 0.0, \"n\": 4674}, {\"threshold\": 0.781, \"p\": 4610, \"fpr\": 0.0, \"tpr\": 0.0, \"n\": 4674}, {\"threshold\": 0.782, \"p\": 4610, \"fpr\": 0.0, \"tpr\": 0.0, \"n\": 4674}, {\"threshold\": 0.783, \"p\": 4610, \"fpr\": 0.0, \"tpr\": 0.0, \"n\": 4674}, {\"threshold\": 0.784, \"p\": 4610, \"fpr\": 0.0, \"tpr\": 0.0, \"n\": 4674}, {\"threshold\": 0.785, \"p\": 4610, \"fpr\": 0.0, \"tpr\": 0.0, \"n\": 4674}, {\"threshold\": 0.786, \"p\": 4610, \"fpr\": 0.0, \"tpr\": 0.0, \"n\": 4674}, {\"threshold\": 0.787, \"p\": 4610, \"fpr\": 0.0, \"tpr\": 0.0, \"n\": 4674}, {\"threshold\": 0.788, \"p\": 4610, \"fpr\": 0.0, \"tpr\": 0.0, \"n\": 4674}, {\"threshold\": 0.789, \"p\": 4610, \"fpr\": 0.0, \"tpr\": 0.0, \"n\": 4674}, {\"threshold\": 0.79, \"p\": 4610, \"fpr\": 0.0, \"tpr\": 0.0, \"n\": 4674}, {\"threshold\": 0.791, \"p\": 4610, \"fpr\": 0.0, \"tpr\": 0.0, \"n\": 4674}, {\"threshold\": 0.792, \"p\": 4610, \"fpr\": 0.0, \"tpr\": 0.0, \"n\": 4674}, {\"threshold\": 0.793, \"p\": 4610, \"fpr\": 0.0, \"tpr\": 0.0, \"n\": 4674}, {\"threshold\": 0.794, \"p\": 4610, \"fpr\": 0.0, \"tpr\": 0.0, \"n\": 4674}, {\"threshold\": 0.795, \"p\": 4610, \"fpr\": 0.0, \"tpr\": 0.0, \"n\": 4674}, {\"threshold\": 0.796, \"p\": 4610, \"fpr\": 0.0, \"tpr\": 0.0, \"n\": 4674}, {\"threshold\": 0.797, \"p\": 4610, \"fpr\": 0.0, \"tpr\": 0.0, \"n\": 4674}, {\"threshold\": 0.798, \"p\": 4610, \"fpr\": 0.0, \"tpr\": 0.0, \"n\": 4674}, {\"threshold\": 0.799, \"p\": 4610, \"fpr\": 0.0, \"tpr\": 0.0, \"n\": 4674}, {\"threshold\": 0.8, \"p\": 4610, \"fpr\": 0.0, \"tpr\": 0.0, \"n\": 4674}, {\"threshold\": 0.801, \"p\": 4610, \"fpr\": 0.0, \"tpr\": 0.0, \"n\": 4674}, {\"threshold\": 0.802, \"p\": 4610, \"fpr\": 0.0, \"tpr\": 0.0, \"n\": 4674}, {\"threshold\": 0.803, \"p\": 4610, \"fpr\": 0.0, \"tpr\": 0.0, \"n\": 4674}, {\"threshold\": 0.804, \"p\": 4610, \"fpr\": 0.0, \"tpr\": 0.0, \"n\": 4674}, {\"threshold\": 0.805, \"p\": 4610, \"fpr\": 0.0, \"tpr\": 0.0, \"n\": 4674}, {\"threshold\": 0.806, \"p\": 4610, \"fpr\": 0.0, \"tpr\": 0.0, \"n\": 4674}, {\"threshold\": 0.807, \"p\": 4610, \"fpr\": 0.0, \"tpr\": 0.0, \"n\": 4674}, {\"threshold\": 0.808, \"p\": 4610, \"fpr\": 0.0, \"tpr\": 0.0, \"n\": 4674}, {\"threshold\": 0.809, \"p\": 4610, \"fpr\": 0.0, \"tpr\": 0.0, \"n\": 4674}, {\"threshold\": 0.81, \"p\": 4610, \"fpr\": 0.0, \"tpr\": 0.0, \"n\": 4674}, {\"threshold\": 0.811, \"p\": 4610, \"fpr\": 0.0, \"tpr\": 0.0, \"n\": 4674}, {\"threshold\": 0.812, \"p\": 4610, \"fpr\": 0.0, \"tpr\": 0.0, \"n\": 4674}, {\"threshold\": 0.813, \"p\": 4610, \"fpr\": 0.0, \"tpr\": 0.0, \"n\": 4674}, {\"threshold\": 0.814, \"p\": 4610, \"fpr\": 0.0, \"tpr\": 0.0, \"n\": 4674}, {\"threshold\": 0.815, \"p\": 4610, \"fpr\": 0.0, \"tpr\": 0.0, \"n\": 4674}, {\"threshold\": 0.816, \"p\": 4610, \"fpr\": 0.0, \"tpr\": 0.0, \"n\": 4674}, {\"threshold\": 0.817, \"p\": 4610, \"fpr\": 0.0, \"tpr\": 0.0, \"n\": 4674}, {\"threshold\": 0.818, \"p\": 4610, \"fpr\": 0.0, \"tpr\": 0.0, \"n\": 4674}, {\"threshold\": 0.819, \"p\": 4610, \"fpr\": 0.0, \"tpr\": 0.0, \"n\": 4674}, {\"threshold\": 0.82, \"p\": 4610, \"fpr\": 0.0, \"tpr\": 0.0, \"n\": 4674}, {\"threshold\": 0.821, \"p\": 4610, \"fpr\": 0.0, \"tpr\": 0.0, \"n\": 4674}, {\"threshold\": 0.822, \"p\": 4610, \"fpr\": 0.0, \"tpr\": 0.0, \"n\": 4674}, {\"threshold\": 0.823, \"p\": 4610, \"fpr\": 0.0, \"tpr\": 0.0, \"n\": 4674}, {\"threshold\": 0.824, \"p\": 4610, \"fpr\": 0.0, \"tpr\": 0.0, \"n\": 4674}, {\"threshold\": 0.825, \"p\": 4610, \"fpr\": 0.0, \"tpr\": 0.0, \"n\": 4674}, {\"threshold\": 0.826, \"p\": 4610, \"fpr\": 0.0, \"tpr\": 0.0, \"n\": 4674}, {\"threshold\": 0.827, \"p\": 4610, \"fpr\": 0.0, \"tpr\": 0.0, \"n\": 4674}, {\"threshold\": 0.828, \"p\": 4610, \"fpr\": 0.0, \"tpr\": 0.0, \"n\": 4674}, {\"threshold\": 0.829, \"p\": 4610, \"fpr\": 0.0, \"tpr\": 0.0, \"n\": 4674}, {\"threshold\": 0.83, \"p\": 4610, \"fpr\": 0.0, \"tpr\": 0.0, \"n\": 4674}, {\"threshold\": 0.831, \"p\": 4610, \"fpr\": 0.0, \"tpr\": 0.0, \"n\": 4674}, {\"threshold\": 0.832, \"p\": 4610, \"fpr\": 0.0, \"tpr\": 0.0, \"n\": 4674}, {\"threshold\": 0.833, \"p\": 4610, \"fpr\": 0.0, \"tpr\": 0.0, \"n\": 4674}, {\"threshold\": 0.834, \"p\": 4610, \"fpr\": 0.0, \"tpr\": 0.0, \"n\": 4674}, {\"threshold\": 0.835, \"p\": 4610, \"fpr\": 0.0, \"tpr\": 0.0, \"n\": 4674}, {\"threshold\": 0.836, \"p\": 4610, \"fpr\": 0.0, \"tpr\": 0.0, \"n\": 4674}, {\"threshold\": 0.837, \"p\": 4610, \"fpr\": 0.0, \"tpr\": 0.0, \"n\": 4674}, {\"threshold\": 0.838, \"p\": 4610, \"fpr\": 0.0, \"tpr\": 0.0, \"n\": 4674}, {\"threshold\": 0.839, \"p\": 4610, \"fpr\": 0.0, \"tpr\": 0.0, \"n\": 4674}, {\"threshold\": 0.84, \"p\": 4610, \"fpr\": 0.0, \"tpr\": 0.0, \"n\": 4674}, {\"threshold\": 0.841, \"p\": 4610, \"fpr\": 0.0, \"tpr\": 0.0, \"n\": 4674}, {\"threshold\": 0.842, \"p\": 4610, \"fpr\": 0.0, \"tpr\": 0.0, \"n\": 4674}, {\"threshold\": 0.843, \"p\": 4610, \"fpr\": 0.0, \"tpr\": 0.0, \"n\": 4674}, {\"threshold\": 0.844, \"p\": 4610, \"fpr\": 0.0, \"tpr\": 0.0, \"n\": 4674}, {\"threshold\": 0.845, \"p\": 4610, \"fpr\": 0.0, \"tpr\": 0.0, \"n\": 4674}, {\"threshold\": 0.846, \"p\": 4610, \"fpr\": 0.0, \"tpr\": 0.0, \"n\": 4674}, {\"threshold\": 0.847, \"p\": 4610, \"fpr\": 0.0, \"tpr\": 0.0, \"n\": 4674}, {\"threshold\": 0.848, \"p\": 4610, \"fpr\": 0.0, \"tpr\": 0.0, \"n\": 4674}, {\"threshold\": 0.849, \"p\": 4610, \"fpr\": 0.0, \"tpr\": 0.0, \"n\": 4674}, {\"threshold\": 0.85, \"p\": 4610, \"fpr\": 0.0, \"tpr\": 0.0, \"n\": 4674}, {\"threshold\": 0.851, \"p\": 4610, \"fpr\": 0.0, \"tpr\": 0.0, \"n\": 4674}, {\"threshold\": 0.852, \"p\": 4610, \"fpr\": 0.0, \"tpr\": 0.0, \"n\": 4674}, {\"threshold\": 0.853, \"p\": 4610, \"fpr\": 0.0, \"tpr\": 0.0, \"n\": 4674}, {\"threshold\": 0.854, \"p\": 4610, \"fpr\": 0.0, \"tpr\": 0.0, \"n\": 4674}, {\"threshold\": 0.855, \"p\": 4610, \"fpr\": 0.0, \"tpr\": 0.0, \"n\": 4674}, {\"threshold\": 0.856, \"p\": 4610, \"fpr\": 0.0, \"tpr\": 0.0, \"n\": 4674}, {\"threshold\": 0.857, \"p\": 4610, \"fpr\": 0.0, \"tpr\": 0.0, \"n\": 4674}, {\"threshold\": 0.858, \"p\": 4610, \"fpr\": 0.0, \"tpr\": 0.0, \"n\": 4674}, {\"threshold\": 0.859, \"p\": 4610, \"fpr\": 0.0, \"tpr\": 0.0, \"n\": 4674}, {\"threshold\": 0.86, \"p\": 4610, \"fpr\": 0.0, \"tpr\": 0.0, \"n\": 4674}, {\"threshold\": 0.861, \"p\": 4610, \"fpr\": 0.0, \"tpr\": 0.0, \"n\": 4674}, {\"threshold\": 0.862, \"p\": 4610, \"fpr\": 0.0, \"tpr\": 0.0, \"n\": 4674}, {\"threshold\": 0.863, \"p\": 4610, \"fpr\": 0.0, \"tpr\": 0.0, \"n\": 4674}, {\"threshold\": 0.864, \"p\": 4610, \"fpr\": 0.0, \"tpr\": 0.0, \"n\": 4674}, {\"threshold\": 0.865, \"p\": 4610, \"fpr\": 0.0, \"tpr\": 0.0, \"n\": 4674}, {\"threshold\": 0.866, \"p\": 4610, \"fpr\": 0.0, \"tpr\": 0.0, \"n\": 4674}, {\"threshold\": 0.867, \"p\": 4610, \"fpr\": 0.0, \"tpr\": 0.0, \"n\": 4674}, {\"threshold\": 0.868, \"p\": 4610, \"fpr\": 0.0, \"tpr\": 0.0, \"n\": 4674}, {\"threshold\": 0.869, \"p\": 4610, \"fpr\": 0.0, \"tpr\": 0.0, \"n\": 4674}, {\"threshold\": 0.87, \"p\": 4610, \"fpr\": 0.0, \"tpr\": 0.0, \"n\": 4674}, {\"threshold\": 0.871, \"p\": 4610, \"fpr\": 0.0, \"tpr\": 0.0, \"n\": 4674}, {\"threshold\": 0.872, \"p\": 4610, \"fpr\": 0.0, \"tpr\": 0.0, \"n\": 4674}, {\"threshold\": 0.873, \"p\": 4610, \"fpr\": 0.0, \"tpr\": 0.0, \"n\": 4674}, {\"threshold\": 0.874, \"p\": 4610, \"fpr\": 0.0, \"tpr\": 0.0, \"n\": 4674}, {\"threshold\": 0.875, \"p\": 4610, \"fpr\": 0.0, \"tpr\": 0.0, \"n\": 4674}, {\"threshold\": 0.876, \"p\": 4610, \"fpr\": 0.0, \"tpr\": 0.0, \"n\": 4674}, {\"threshold\": 0.877, \"p\": 4610, \"fpr\": 0.0, \"tpr\": 0.0, \"n\": 4674}, {\"threshold\": 0.878, \"p\": 4610, \"fpr\": 0.0, \"tpr\": 0.0, \"n\": 4674}, {\"threshold\": 0.879, \"p\": 4610, \"fpr\": 0.0, \"tpr\": 0.0, \"n\": 4674}, {\"threshold\": 0.88, \"p\": 4610, \"fpr\": 0.0, \"tpr\": 0.0, \"n\": 4674}, {\"threshold\": 0.881, \"p\": 4610, \"fpr\": 0.0, \"tpr\": 0.0, \"n\": 4674}, {\"threshold\": 0.882, \"p\": 4610, \"fpr\": 0.0, \"tpr\": 0.0, \"n\": 4674}, {\"threshold\": 0.883, \"p\": 4610, \"fpr\": 0.0, \"tpr\": 0.0, \"n\": 4674}, {\"threshold\": 0.884, \"p\": 4610, \"fpr\": 0.0, \"tpr\": 0.0, \"n\": 4674}, {\"threshold\": 0.885, \"p\": 4610, \"fpr\": 0.0, \"tpr\": 0.0, \"n\": 4674}, {\"threshold\": 0.886, \"p\": 4610, \"fpr\": 0.0, \"tpr\": 0.0, \"n\": 4674}, {\"threshold\": 0.887, \"p\": 4610, \"fpr\": 0.0, \"tpr\": 0.0, \"n\": 4674}, {\"threshold\": 0.888, \"p\": 4610, \"fpr\": 0.0, \"tpr\": 0.0, \"n\": 4674}, {\"threshold\": 0.889, \"p\": 4610, \"fpr\": 0.0, \"tpr\": 0.0, \"n\": 4674}, {\"threshold\": 0.89, \"p\": 4610, \"fpr\": 0.0, \"tpr\": 0.0, \"n\": 4674}, {\"threshold\": 0.891, \"p\": 4610, \"fpr\": 0.0, \"tpr\": 0.0, \"n\": 4674}, {\"threshold\": 0.892, \"p\": 4610, \"fpr\": 0.0, \"tpr\": 0.0, \"n\": 4674}, {\"threshold\": 0.893, \"p\": 4610, \"fpr\": 0.0, \"tpr\": 0.0, \"n\": 4674}, {\"threshold\": 0.894, \"p\": 4610, \"fpr\": 0.0, \"tpr\": 0.0, \"n\": 4674}, {\"threshold\": 0.895, \"p\": 4610, \"fpr\": 0.0, \"tpr\": 0.0, \"n\": 4674}, {\"threshold\": 0.896, \"p\": 4610, \"fpr\": 0.0, \"tpr\": 0.0, \"n\": 4674}, {\"threshold\": 0.897, \"p\": 4610, \"fpr\": 0.0, \"tpr\": 0.0, \"n\": 4674}, {\"threshold\": 0.898, \"p\": 4610, \"fpr\": 0.0, \"tpr\": 0.0, \"n\": 4674}, {\"threshold\": 0.899, \"p\": 4610, \"fpr\": 0.0, \"tpr\": 0.0, \"n\": 4674}, {\"threshold\": 0.9, \"p\": 4610, \"fpr\": 0.0, \"tpr\": 0.0, \"n\": 4674}, {\"threshold\": 0.901, \"p\": 4610, \"fpr\": 0.0, \"tpr\": 0.0, \"n\": 4674}, {\"threshold\": 0.902, \"p\": 4610, \"fpr\": 0.0, \"tpr\": 0.0, \"n\": 4674}, {\"threshold\": 0.903, \"p\": 4610, \"fpr\": 0.0, \"tpr\": 0.0, \"n\": 4674}, {\"threshold\": 0.904, \"p\": 4610, \"fpr\": 0.0, \"tpr\": 0.0, \"n\": 4674}, {\"threshold\": 0.905, \"p\": 4610, \"fpr\": 0.0, \"tpr\": 0.0, \"n\": 4674}, {\"threshold\": 0.906, \"p\": 4610, \"fpr\": 0.0, \"tpr\": 0.0, \"n\": 4674}, {\"threshold\": 0.907, \"p\": 4610, \"fpr\": 0.0, \"tpr\": 0.0, \"n\": 4674}, {\"threshold\": 0.908, \"p\": 4610, \"fpr\": 0.0, \"tpr\": 0.0, \"n\": 4674}, {\"threshold\": 0.909, \"p\": 4610, \"fpr\": 0.0, \"tpr\": 0.0, \"n\": 4674}, {\"threshold\": 0.91, \"p\": 4610, \"fpr\": 0.0, \"tpr\": 0.0, \"n\": 4674}, {\"threshold\": 0.911, \"p\": 4610, \"fpr\": 0.0, \"tpr\": 0.0, \"n\": 4674}, {\"threshold\": 0.912, \"p\": 4610, \"fpr\": 0.0, \"tpr\": 0.0, \"n\": 4674}, {\"threshold\": 0.913, \"p\": 4610, \"fpr\": 0.0, \"tpr\": 0.0, \"n\": 4674}, {\"threshold\": 0.914, \"p\": 4610, \"fpr\": 0.0, \"tpr\": 0.0, \"n\": 4674}, {\"threshold\": 0.915, \"p\": 4610, \"fpr\": 0.0, \"tpr\": 0.0, \"n\": 4674}, {\"threshold\": 0.916, \"p\": 4610, \"fpr\": 0.0, \"tpr\": 0.0, \"n\": 4674}, {\"threshold\": 0.917, \"p\": 4610, \"fpr\": 0.0, \"tpr\": 0.0, \"n\": 4674}, {\"threshold\": 0.918, \"p\": 4610, \"fpr\": 0.0, \"tpr\": 0.0, \"n\": 4674}, {\"threshold\": 0.919, \"p\": 4610, \"fpr\": 0.0, \"tpr\": 0.0, \"n\": 4674}, {\"threshold\": 0.92, \"p\": 4610, \"fpr\": 0.0, \"tpr\": 0.0, \"n\": 4674}, {\"threshold\": 0.921, \"p\": 4610, \"fpr\": 0.0, \"tpr\": 0.0, \"n\": 4674}, {\"threshold\": 0.922, \"p\": 4610, \"fpr\": 0.0, \"tpr\": 0.0, \"n\": 4674}, {\"threshold\": 0.923, \"p\": 4610, \"fpr\": 0.0, \"tpr\": 0.0, \"n\": 4674}, {\"threshold\": 0.924, \"p\": 4610, \"fpr\": 0.0, \"tpr\": 0.0, \"n\": 4674}, {\"threshold\": 0.925, \"p\": 4610, \"fpr\": 0.0, \"tpr\": 0.0, \"n\": 4674}, {\"threshold\": 0.926, \"p\": 4610, \"fpr\": 0.0, \"tpr\": 0.0, \"n\": 4674}, {\"threshold\": 0.927, \"p\": 4610, \"fpr\": 0.0, \"tpr\": 0.0, \"n\": 4674}, {\"threshold\": 0.928, \"p\": 4610, \"fpr\": 0.0, \"tpr\": 0.0, \"n\": 4674}, {\"threshold\": 0.929, \"p\": 4610, \"fpr\": 0.0, \"tpr\": 0.0, \"n\": 4674}, {\"threshold\": 0.93, \"p\": 4610, \"fpr\": 0.0, \"tpr\": 0.0, \"n\": 4674}, {\"threshold\": 0.931, \"p\": 4610, \"fpr\": 0.0, \"tpr\": 0.0, \"n\": 4674}, {\"threshold\": 0.932, \"p\": 4610, \"fpr\": 0.0, \"tpr\": 0.0, \"n\": 4674}, {\"threshold\": 0.933, \"p\": 4610, \"fpr\": 0.0, \"tpr\": 0.0, \"n\": 4674}, {\"threshold\": 0.934, \"p\": 4610, \"fpr\": 0.0, \"tpr\": 0.0, \"n\": 4674}, {\"threshold\": 0.935, \"p\": 4610, \"fpr\": 0.0, \"tpr\": 0.0, \"n\": 4674}, {\"threshold\": 0.936, \"p\": 4610, \"fpr\": 0.0, \"tpr\": 0.0, \"n\": 4674}, {\"threshold\": 0.937, \"p\": 4610, \"fpr\": 0.0, \"tpr\": 0.0, \"n\": 4674}, {\"threshold\": 0.938, \"p\": 4610, \"fpr\": 0.0, \"tpr\": 0.0, \"n\": 4674}, {\"threshold\": 0.939, \"p\": 4610, \"fpr\": 0.0, \"tpr\": 0.0, \"n\": 4674}, {\"threshold\": 0.94, \"p\": 4610, \"fpr\": 0.0, \"tpr\": 0.0, \"n\": 4674}, {\"threshold\": 0.941, \"p\": 4610, \"fpr\": 0.0, \"tpr\": 0.0, \"n\": 4674}, {\"threshold\": 0.942, \"p\": 4610, \"fpr\": 0.0, \"tpr\": 0.0, \"n\": 4674}, {\"threshold\": 0.943, \"p\": 4610, \"fpr\": 0.0, \"tpr\": 0.0, \"n\": 4674}, {\"threshold\": 0.944, \"p\": 4610, \"fpr\": 0.0, \"tpr\": 0.0, \"n\": 4674}, {\"threshold\": 0.945, \"p\": 4610, \"fpr\": 0.0, \"tpr\": 0.0, \"n\": 4674}, {\"threshold\": 0.946, \"p\": 4610, \"fpr\": 0.0, \"tpr\": 0.0, \"n\": 4674}, {\"threshold\": 0.947, \"p\": 4610, \"fpr\": 0.0, \"tpr\": 0.0, \"n\": 4674}, {\"threshold\": 0.948, \"p\": 4610, \"fpr\": 0.0, \"tpr\": 0.0, \"n\": 4674}, {\"threshold\": 0.949, \"p\": 4610, \"fpr\": 0.0, \"tpr\": 0.0, \"n\": 4674}, {\"threshold\": 0.95, \"p\": 4610, \"fpr\": 0.0, \"tpr\": 0.0, \"n\": 4674}, {\"threshold\": 0.951, \"p\": 4610, \"fpr\": 0.0, \"tpr\": 0.0, \"n\": 4674}, {\"threshold\": 0.952, \"p\": 4610, \"fpr\": 0.0, \"tpr\": 0.0, \"n\": 4674}, {\"threshold\": 0.953, \"p\": 4610, \"fpr\": 0.0, \"tpr\": 0.0, \"n\": 4674}, {\"threshold\": 0.954, \"p\": 4610, \"fpr\": 0.0, \"tpr\": 0.0, \"n\": 4674}, {\"threshold\": 0.955, \"p\": 4610, \"fpr\": 0.0, \"tpr\": 0.0, \"n\": 4674}, {\"threshold\": 0.956, \"p\": 4610, \"fpr\": 0.0, \"tpr\": 0.0, \"n\": 4674}, {\"threshold\": 0.957, \"p\": 4610, \"fpr\": 0.0, \"tpr\": 0.0, \"n\": 4674}, {\"threshold\": 0.958, \"p\": 4610, \"fpr\": 0.0, \"tpr\": 0.0, \"n\": 4674}, {\"threshold\": 0.959, \"p\": 4610, \"fpr\": 0.0, \"tpr\": 0.0, \"n\": 4674}, {\"threshold\": 0.96, \"p\": 4610, \"fpr\": 0.0, \"tpr\": 0.0, \"n\": 4674}, {\"threshold\": 0.961, \"p\": 4610, \"fpr\": 0.0, \"tpr\": 0.0, \"n\": 4674}, {\"threshold\": 0.962, \"p\": 4610, \"fpr\": 0.0, \"tpr\": 0.0, \"n\": 4674}, {\"threshold\": 0.963, \"p\": 4610, \"fpr\": 0.0, \"tpr\": 0.0, \"n\": 4674}, {\"threshold\": 0.964, \"p\": 4610, \"fpr\": 0.0, \"tpr\": 0.0, \"n\": 4674}, {\"threshold\": 0.965, \"p\": 4610, \"fpr\": 0.0, \"tpr\": 0.0, \"n\": 4674}, {\"threshold\": 0.966, \"p\": 4610, \"fpr\": 0.0, \"tpr\": 0.0, \"n\": 4674}, {\"threshold\": 0.967, \"p\": 4610, \"fpr\": 0.0, \"tpr\": 0.0, \"n\": 4674}, {\"threshold\": 0.968, \"p\": 4610, \"fpr\": 0.0, \"tpr\": 0.0, \"n\": 4674}, {\"threshold\": 0.969, \"p\": 4610, \"fpr\": 0.0, \"tpr\": 0.0, \"n\": 4674}, {\"threshold\": 0.97, \"p\": 4610, \"fpr\": 0.0, \"tpr\": 0.0, \"n\": 4674}, {\"threshold\": 0.971, \"p\": 4610, \"fpr\": 0.0, \"tpr\": 0.0, \"n\": 4674}, {\"threshold\": 0.972, \"p\": 4610, \"fpr\": 0.0, \"tpr\": 0.0, \"n\": 4674}, {\"threshold\": 0.973, \"p\": 4610, \"fpr\": 0.0, \"tpr\": 0.0, \"n\": 4674}, {\"threshold\": 0.974, \"p\": 4610, \"fpr\": 0.0, \"tpr\": 0.0, \"n\": 4674}, {\"threshold\": 0.975, \"p\": 4610, \"fpr\": 0.0, \"tpr\": 0.0, \"n\": 4674}, {\"threshold\": 0.976, \"p\": 4610, \"fpr\": 0.0, \"tpr\": 0.0, \"n\": 4674}, {\"threshold\": 0.977, \"p\": 4610, \"fpr\": 0.0, \"tpr\": 0.0, \"n\": 4674}, {\"threshold\": 0.978, \"p\": 4610, \"fpr\": 0.0, \"tpr\": 0.0, \"n\": 4674}, {\"threshold\": 0.979, \"p\": 4610, \"fpr\": 0.0, \"tpr\": 0.0, \"n\": 4674}, {\"threshold\": 0.98, \"p\": 4610, \"fpr\": 0.0, \"tpr\": 0.0, \"n\": 4674}, {\"threshold\": 0.981, \"p\": 4610, \"fpr\": 0.0, \"tpr\": 0.0, \"n\": 4674}, {\"threshold\": 0.982, \"p\": 4610, \"fpr\": 0.0, \"tpr\": 0.0, \"n\": 4674}, {\"threshold\": 0.983, \"p\": 4610, \"fpr\": 0.0, \"tpr\": 0.0, \"n\": 4674}, {\"threshold\": 0.984, \"p\": 4610, \"fpr\": 0.0, \"tpr\": 0.0, \"n\": 4674}, {\"threshold\": 0.985, \"p\": 4610, \"fpr\": 0.0, \"tpr\": 0.0, \"n\": 4674}, {\"threshold\": 0.986, \"p\": 4610, \"fpr\": 0.0, \"tpr\": 0.0, \"n\": 4674}, {\"threshold\": 0.987, \"p\": 4610, \"fpr\": 0.0, \"tpr\": 0.0, \"n\": 4674}, {\"threshold\": 0.988, \"p\": 4610, \"fpr\": 0.0, \"tpr\": 0.0, \"n\": 4674}, {\"threshold\": 0.989, \"p\": 4610, \"fpr\": 0.0, \"tpr\": 0.0, \"n\": 4674}, {\"threshold\": 0.99, \"p\": 4610, \"fpr\": 0.0, \"tpr\": 0.0, \"n\": 4674}, {\"threshold\": 0.991, \"p\": 4610, \"fpr\": 0.0, \"tpr\": 0.0, \"n\": 4674}, {\"threshold\": 0.992, \"p\": 4610, \"fpr\": 0.0, \"tpr\": 0.0, \"n\": 4674}, {\"threshold\": 0.993, \"p\": 4610, \"fpr\": 0.0, \"tpr\": 0.0, \"n\": 4674}, {\"threshold\": 0.994, \"p\": 4610, \"fpr\": 0.0, \"tpr\": 0.0, \"n\": 4674}, {\"threshold\": 0.995, \"p\": 4610, \"fpr\": 0.0, \"tpr\": 0.0, \"n\": 4674}, {\"threshold\": 0.996, \"p\": 4610, \"fpr\": 0.0, \"tpr\": 0.0, \"n\": 4674}, {\"threshold\": 0.997, \"p\": 4610, \"fpr\": 0.0, \"tpr\": 0.0, \"n\": 4674}, {\"threshold\": 0.998, \"p\": 4610, \"fpr\": 0.0, \"tpr\": 0.0, \"n\": 4674}, {\"threshold\": 0.999, \"p\": 4610, \"fpr\": 0.0, \"tpr\": 0.0, \"n\": 4674}, {\"threshold\": 1.0, \"p\": 4610, \"fpr\": 0.0, \"tpr\": 0.0, \"n\": 4674}], \"confusion_matrix\": [{\"count\": 1656, \"target_label\": -1, \"predicted_label\": 1}, {\"count\": 3018, \"target_label\": -1, \"predicted_label\": -1}, {\"count\": 1716, \"target_label\": 1, \"predicted_label\": -1}, {\"count\": 2894, \"target_label\": 1, \"predicted_label\": 1}], \"accuracy\": 0.6367944851357173}]], \"type\": \"Model\"}, \"ipython\": true, \"view_params\": {\"model_type\": \"regression\", \"view\": \"Evaluation\"}, \"model_type\": \"regression\", \"attributes\": {\"section_titles\": [\"Schema\", \"Settings\"], \"sections\": [[[\"Number of examples\", 37224], [\"Number of feature columns\", 12], [\"Number of unpacked features\", 12], [\"Number of classes\", 2]], [[\"Number of trees\", 1], [\"Max tree depth\", 6], [\"Training time (sec)\", 0.1299], [\"Training accuracy\", 0.6406], [\"Validation accuracy\", null], [\"Training log_loss\", 0.6633], [\"Validation log_loss\", null]]]}, \"evaluations\": [[\"validation_data\", {\"f1_score\": 0.631877729257642, \"auc\": 0.684473995156666, \"recall\": 0.627765726681128, \"precision\": 0.636043956043956, \"log_loss\": 0.6646541662301187, \"roc_curve\": [{\"threshold\": 0.0, \"p\": 4610, \"fpr\": 1.0, \"tpr\": 1.0, \"n\": 4674}, {\"threshold\": 0.001, \"p\": 4610, \"fpr\": 1.0, \"tpr\": 1.0, \"n\": 4674}, {\"threshold\": 0.002, \"p\": 4610, \"fpr\": 1.0, \"tpr\": 1.0, \"n\": 4674}, {\"threshold\": 0.003, \"p\": 4610, \"fpr\": 1.0, \"tpr\": 1.0, \"n\": 4674}, {\"threshold\": 0.004, \"p\": 4610, \"fpr\": 1.0, \"tpr\": 1.0, \"n\": 4674}, {\"threshold\": 0.005, \"p\": 4610, \"fpr\": 1.0, \"tpr\": 1.0, \"n\": 4674}, {\"threshold\": 0.006, \"p\": 4610, \"fpr\": 1.0, \"tpr\": 1.0, \"n\": 4674}, {\"threshold\": 0.007, \"p\": 4610, \"fpr\": 1.0, \"tpr\": 1.0, \"n\": 4674}, {\"threshold\": 0.008, \"p\": 4610, \"fpr\": 1.0, \"tpr\": 1.0, \"n\": 4674}, {\"threshold\": 0.009, \"p\": 4610, \"fpr\": 1.0, \"tpr\": 1.0, \"n\": 4674}, {\"threshold\": 0.01, \"p\": 4610, \"fpr\": 1.0, \"tpr\": 1.0, \"n\": 4674}, {\"threshold\": 0.011, \"p\": 4610, \"fpr\": 1.0, \"tpr\": 1.0, \"n\": 4674}, {\"threshold\": 0.012, \"p\": 4610, \"fpr\": 1.0, \"tpr\": 1.0, \"n\": 4674}, {\"threshold\": 0.013, \"p\": 4610, \"fpr\": 1.0, \"tpr\": 1.0, \"n\": 4674}, {\"threshold\": 0.014, \"p\": 4610, \"fpr\": 1.0, \"tpr\": 1.0, \"n\": 4674}, {\"threshold\": 0.015, \"p\": 4610, \"fpr\": 1.0, \"tpr\": 1.0, \"n\": 4674}, {\"threshold\": 0.016, \"p\": 4610, \"fpr\": 1.0, \"tpr\": 1.0, \"n\": 4674}, {\"threshold\": 0.017, \"p\": 4610, \"fpr\": 1.0, \"tpr\": 1.0, \"n\": 4674}, {\"threshold\": 0.018, \"p\": 4610, \"fpr\": 1.0, \"tpr\": 1.0, \"n\": 4674}, {\"threshold\": 0.019, \"p\": 4610, \"fpr\": 1.0, \"tpr\": 1.0, \"n\": 4674}, {\"threshold\": 0.02, \"p\": 4610, \"fpr\": 1.0, \"tpr\": 1.0, \"n\": 4674}, {\"threshold\": 0.021, \"p\": 4610, \"fpr\": 1.0, \"tpr\": 1.0, \"n\": 4674}, {\"threshold\": 0.022, \"p\": 4610, \"fpr\": 1.0, \"tpr\": 1.0, \"n\": 4674}, {\"threshold\": 0.023, \"p\": 4610, \"fpr\": 1.0, \"tpr\": 1.0, \"n\": 4674}, {\"threshold\": 0.024, \"p\": 4610, \"fpr\": 1.0, \"tpr\": 1.0, \"n\": 4674}, {\"threshold\": 0.025, \"p\": 4610, \"fpr\": 1.0, \"tpr\": 1.0, \"n\": 4674}, {\"threshold\": 0.026, \"p\": 4610, \"fpr\": 1.0, \"tpr\": 1.0, \"n\": 4674}, {\"threshold\": 0.027, \"p\": 4610, \"fpr\": 1.0, \"tpr\": 1.0, \"n\": 4674}, {\"threshold\": 0.028, \"p\": 4610, \"fpr\": 1.0, \"tpr\": 1.0, \"n\": 4674}, {\"threshold\": 0.029, \"p\": 4610, \"fpr\": 1.0, \"tpr\": 1.0, \"n\": 4674}, {\"threshold\": 0.03, \"p\": 4610, \"fpr\": 1.0, \"tpr\": 1.0, \"n\": 4674}, {\"threshold\": 0.031, \"p\": 4610, \"fpr\": 1.0, \"tpr\": 1.0, \"n\": 4674}, {\"threshold\": 0.032, \"p\": 4610, \"fpr\": 1.0, \"tpr\": 1.0, \"n\": 4674}, {\"threshold\": 0.033, \"p\": 4610, \"fpr\": 1.0, \"tpr\": 1.0, \"n\": 4674}, {\"threshold\": 0.034, \"p\": 4610, \"fpr\": 1.0, \"tpr\": 1.0, \"n\": 4674}, {\"threshold\": 0.035, \"p\": 4610, \"fpr\": 1.0, \"tpr\": 1.0, \"n\": 4674}, {\"threshold\": 0.036, \"p\": 4610, \"fpr\": 1.0, \"tpr\": 1.0, \"n\": 4674}, {\"threshold\": 0.037, \"p\": 4610, \"fpr\": 1.0, \"tpr\": 1.0, \"n\": 4674}, {\"threshold\": 0.038, \"p\": 4610, \"fpr\": 1.0, \"tpr\": 1.0, \"n\": 4674}, {\"threshold\": 0.039, \"p\": 4610, \"fpr\": 1.0, \"tpr\": 1.0, \"n\": 4674}, {\"threshold\": 0.04, \"p\": 4610, \"fpr\": 1.0, \"tpr\": 1.0, \"n\": 4674}, {\"threshold\": 0.041, \"p\": 4610, \"fpr\": 1.0, \"tpr\": 1.0, \"n\": 4674}, {\"threshold\": 0.042, \"p\": 4610, \"fpr\": 1.0, \"tpr\": 1.0, \"n\": 4674}, {\"threshold\": 0.043, \"p\": 4610, \"fpr\": 1.0, \"tpr\": 1.0, \"n\": 4674}, {\"threshold\": 0.044, \"p\": 4610, \"fpr\": 1.0, \"tpr\": 1.0, \"n\": 4674}, {\"threshold\": 0.045, \"p\": 4610, \"fpr\": 1.0, \"tpr\": 1.0, \"n\": 4674}, {\"threshold\": 0.046, \"p\": 4610, \"fpr\": 1.0, \"tpr\": 1.0, \"n\": 4674}, {\"threshold\": 0.047, \"p\": 4610, \"fpr\": 1.0, \"tpr\": 1.0, \"n\": 4674}, {\"threshold\": 0.048, \"p\": 4610, \"fpr\": 1.0, \"tpr\": 1.0, \"n\": 4674}, {\"threshold\": 0.049, \"p\": 4610, \"fpr\": 1.0, \"tpr\": 1.0, \"n\": 4674}, {\"threshold\": 0.05, \"p\": 4610, \"fpr\": 1.0, \"tpr\": 1.0, \"n\": 4674}, {\"threshold\": 0.051, \"p\": 4610, \"fpr\": 1.0, \"tpr\": 1.0, \"n\": 4674}, {\"threshold\": 0.052, \"p\": 4610, \"fpr\": 1.0, \"tpr\": 1.0, \"n\": 4674}, {\"threshold\": 0.053, \"p\": 4610, \"fpr\": 1.0, \"tpr\": 1.0, \"n\": 4674}, {\"threshold\": 0.054, \"p\": 4610, \"fpr\": 1.0, \"tpr\": 1.0, \"n\": 4674}, {\"threshold\": 0.055, \"p\": 4610, \"fpr\": 1.0, \"tpr\": 1.0, \"n\": 4674}, {\"threshold\": 0.056, \"p\": 4610, \"fpr\": 1.0, \"tpr\": 1.0, \"n\": 4674}, {\"threshold\": 0.057, \"p\": 4610, \"fpr\": 1.0, \"tpr\": 1.0, \"n\": 4674}, {\"threshold\": 0.058, \"p\": 4610, \"fpr\": 1.0, \"tpr\": 1.0, \"n\": 4674}, {\"threshold\": 0.059, \"p\": 4610, \"fpr\": 1.0, \"tpr\": 1.0, \"n\": 4674}, {\"threshold\": 0.06, \"p\": 4610, \"fpr\": 1.0, \"tpr\": 1.0, \"n\": 4674}, {\"threshold\": 0.061, \"p\": 4610, \"fpr\": 1.0, \"tpr\": 1.0, \"n\": 4674}, {\"threshold\": 0.062, \"p\": 4610, \"fpr\": 1.0, \"tpr\": 1.0, \"n\": 4674}, {\"threshold\": 0.063, \"p\": 4610, \"fpr\": 1.0, \"tpr\": 1.0, \"n\": 4674}, {\"threshold\": 0.064, \"p\": 4610, \"fpr\": 1.0, \"tpr\": 1.0, \"n\": 4674}, {\"threshold\": 0.065, \"p\": 4610, \"fpr\": 1.0, \"tpr\": 1.0, \"n\": 4674}, {\"threshold\": 0.066, \"p\": 4610, \"fpr\": 1.0, \"tpr\": 1.0, \"n\": 4674}, {\"threshold\": 0.067, \"p\": 4610, \"fpr\": 1.0, \"tpr\": 1.0, \"n\": 4674}, {\"threshold\": 0.068, \"p\": 4610, \"fpr\": 1.0, \"tpr\": 1.0, \"n\": 4674}, {\"threshold\": 0.069, \"p\": 4610, \"fpr\": 1.0, \"tpr\": 1.0, \"n\": 4674}, {\"threshold\": 0.07, \"p\": 4610, \"fpr\": 1.0, \"tpr\": 1.0, \"n\": 4674}, {\"threshold\": 0.071, \"p\": 4610, \"fpr\": 1.0, \"tpr\": 1.0, \"n\": 4674}, {\"threshold\": 0.072, \"p\": 4610, \"fpr\": 1.0, \"tpr\": 1.0, \"n\": 4674}, {\"threshold\": 0.073, \"p\": 4610, \"fpr\": 1.0, \"tpr\": 1.0, \"n\": 4674}, {\"threshold\": 0.074, \"p\": 4610, \"fpr\": 1.0, \"tpr\": 1.0, \"n\": 4674}, {\"threshold\": 0.075, \"p\": 4610, \"fpr\": 1.0, \"tpr\": 1.0, \"n\": 4674}, {\"threshold\": 0.076, \"p\": 4610, \"fpr\": 1.0, \"tpr\": 1.0, \"n\": 4674}, {\"threshold\": 0.077, \"p\": 4610, \"fpr\": 1.0, \"tpr\": 1.0, \"n\": 4674}, {\"threshold\": 0.078, \"p\": 4610, \"fpr\": 1.0, \"tpr\": 1.0, \"n\": 4674}, {\"threshold\": 0.079, \"p\": 4610, \"fpr\": 1.0, \"tpr\": 1.0, \"n\": 4674}, {\"threshold\": 0.08, \"p\": 4610, \"fpr\": 1.0, \"tpr\": 1.0, \"n\": 4674}, {\"threshold\": 0.081, \"p\": 4610, \"fpr\": 1.0, \"tpr\": 1.0, \"n\": 4674}, {\"threshold\": 0.082, \"p\": 4610, \"fpr\": 1.0, \"tpr\": 1.0, \"n\": 4674}, {\"threshold\": 0.083, \"p\": 4610, \"fpr\": 1.0, \"tpr\": 1.0, \"n\": 4674}, {\"threshold\": 0.084, \"p\": 4610, \"fpr\": 1.0, \"tpr\": 1.0, \"n\": 4674}, {\"threshold\": 0.085, \"p\": 4610, \"fpr\": 1.0, \"tpr\": 1.0, \"n\": 4674}, {\"threshold\": 0.086, \"p\": 4610, \"fpr\": 1.0, \"tpr\": 1.0, \"n\": 4674}, {\"threshold\": 0.087, \"p\": 4610, \"fpr\": 1.0, \"tpr\": 1.0, \"n\": 4674}, {\"threshold\": 0.088, \"p\": 4610, \"fpr\": 1.0, \"tpr\": 1.0, \"n\": 4674}, {\"threshold\": 0.089, \"p\": 4610, \"fpr\": 1.0, \"tpr\": 1.0, \"n\": 4674}, {\"threshold\": 0.09, \"p\": 4610, \"fpr\": 1.0, \"tpr\": 1.0, \"n\": 4674}, {\"threshold\": 0.091, \"p\": 4610, \"fpr\": 1.0, \"tpr\": 1.0, \"n\": 4674}, {\"threshold\": 0.092, \"p\": 4610, \"fpr\": 1.0, \"tpr\": 1.0, \"n\": 4674}, {\"threshold\": 0.093, \"p\": 4610, \"fpr\": 1.0, \"tpr\": 1.0, \"n\": 4674}, {\"threshold\": 0.094, \"p\": 4610, \"fpr\": 1.0, \"tpr\": 1.0, \"n\": 4674}, {\"threshold\": 0.095, \"p\": 4610, \"fpr\": 1.0, \"tpr\": 1.0, \"n\": 4674}, {\"threshold\": 0.096, \"p\": 4610, \"fpr\": 1.0, \"tpr\": 1.0, \"n\": 4674}, {\"threshold\": 0.097, \"p\": 4610, \"fpr\": 1.0, \"tpr\": 1.0, \"n\": 4674}, {\"threshold\": 0.098, \"p\": 4610, \"fpr\": 1.0, \"tpr\": 1.0, \"n\": 4674}, {\"threshold\": 0.099, \"p\": 4610, \"fpr\": 1.0, \"tpr\": 1.0, \"n\": 4674}, {\"threshold\": 0.1, \"p\": 4610, \"fpr\": 1.0, \"tpr\": 1.0, \"n\": 4674}, {\"threshold\": 0.101, \"p\": 4610, \"fpr\": 1.0, \"tpr\": 1.0, \"n\": 4674}, {\"threshold\": 0.102, \"p\": 4610, \"fpr\": 1.0, \"tpr\": 1.0, \"n\": 4674}, {\"threshold\": 0.103, \"p\": 4610, \"fpr\": 1.0, \"tpr\": 1.0, \"n\": 4674}, {\"threshold\": 0.104, \"p\": 4610, \"fpr\": 1.0, \"tpr\": 1.0, \"n\": 4674}, {\"threshold\": 0.105, \"p\": 4610, \"fpr\": 1.0, \"tpr\": 1.0, \"n\": 4674}, {\"threshold\": 0.106, \"p\": 4610, \"fpr\": 1.0, \"tpr\": 1.0, \"n\": 4674}, {\"threshold\": 0.107, \"p\": 4610, \"fpr\": 1.0, \"tpr\": 1.0, \"n\": 4674}, {\"threshold\": 0.108, \"p\": 4610, \"fpr\": 1.0, \"tpr\": 1.0, \"n\": 4674}, {\"threshold\": 0.109, \"p\": 4610, \"fpr\": 1.0, \"tpr\": 1.0, \"n\": 4674}, {\"threshold\": 0.11, \"p\": 4610, \"fpr\": 1.0, \"tpr\": 1.0, \"n\": 4674}, {\"threshold\": 0.111, \"p\": 4610, \"fpr\": 1.0, \"tpr\": 1.0, \"n\": 4674}, {\"threshold\": 0.112, \"p\": 4610, \"fpr\": 1.0, \"tpr\": 1.0, \"n\": 4674}, {\"threshold\": 0.113, \"p\": 4610, \"fpr\": 1.0, \"tpr\": 1.0, \"n\": 4674}, {\"threshold\": 0.114, \"p\": 4610, \"fpr\": 1.0, \"tpr\": 1.0, \"n\": 4674}, {\"threshold\": 0.115, \"p\": 4610, \"fpr\": 1.0, \"tpr\": 1.0, \"n\": 4674}, {\"threshold\": 0.116, \"p\": 4610, \"fpr\": 1.0, \"tpr\": 1.0, \"n\": 4674}, {\"threshold\": 0.117, \"p\": 4610, \"fpr\": 1.0, \"tpr\": 1.0, \"n\": 4674}, {\"threshold\": 0.118, \"p\": 4610, \"fpr\": 1.0, \"tpr\": 1.0, \"n\": 4674}, {\"threshold\": 0.119, \"p\": 4610, \"fpr\": 1.0, \"tpr\": 1.0, \"n\": 4674}, {\"threshold\": 0.12, \"p\": 4610, \"fpr\": 1.0, \"tpr\": 1.0, \"n\": 4674}, {\"threshold\": 0.121, \"p\": 4610, \"fpr\": 1.0, \"tpr\": 1.0, \"n\": 4674}, {\"threshold\": 0.122, \"p\": 4610, \"fpr\": 1.0, \"tpr\": 1.0, \"n\": 4674}, {\"threshold\": 0.123, \"p\": 4610, \"fpr\": 1.0, \"tpr\": 1.0, \"n\": 4674}, {\"threshold\": 0.124, \"p\": 4610, \"fpr\": 1.0, \"tpr\": 1.0, \"n\": 4674}, {\"threshold\": 0.125, \"p\": 4610, \"fpr\": 1.0, \"tpr\": 1.0, \"n\": 4674}, {\"threshold\": 0.126, \"p\": 4610, \"fpr\": 1.0, \"tpr\": 1.0, \"n\": 4674}, {\"threshold\": 0.127, \"p\": 4610, \"fpr\": 1.0, \"tpr\": 1.0, \"n\": 4674}, {\"threshold\": 0.128, \"p\": 4610, \"fpr\": 1.0, \"tpr\": 1.0, \"n\": 4674}, {\"threshold\": 0.129, \"p\": 4610, \"fpr\": 1.0, \"tpr\": 1.0, \"n\": 4674}, {\"threshold\": 0.13, \"p\": 4610, \"fpr\": 1.0, \"tpr\": 1.0, \"n\": 4674}, {\"threshold\": 0.131, \"p\": 4610, \"fpr\": 1.0, \"tpr\": 1.0, \"n\": 4674}, {\"threshold\": 0.132, \"p\": 4610, \"fpr\": 1.0, \"tpr\": 1.0, \"n\": 4674}, {\"threshold\": 0.133, \"p\": 4610, \"fpr\": 1.0, \"tpr\": 1.0, \"n\": 4674}, {\"threshold\": 0.134, \"p\": 4610, \"fpr\": 1.0, \"tpr\": 1.0, \"n\": 4674}, {\"threshold\": 0.135, \"p\": 4610, \"fpr\": 1.0, \"tpr\": 1.0, \"n\": 4674}, {\"threshold\": 0.136, \"p\": 4610, \"fpr\": 1.0, \"tpr\": 1.0, \"n\": 4674}, {\"threshold\": 0.137, \"p\": 4610, \"fpr\": 1.0, \"tpr\": 1.0, \"n\": 4674}, {\"threshold\": 0.138, \"p\": 4610, \"fpr\": 1.0, \"tpr\": 1.0, \"n\": 4674}, {\"threshold\": 0.139, \"p\": 4610, \"fpr\": 1.0, \"tpr\": 1.0, \"n\": 4674}, {\"threshold\": 0.14, \"p\": 4610, \"fpr\": 1.0, \"tpr\": 1.0, \"n\": 4674}, {\"threshold\": 0.141, \"p\": 4610, \"fpr\": 1.0, \"tpr\": 1.0, \"n\": 4674}, {\"threshold\": 0.142, \"p\": 4610, \"fpr\": 1.0, \"tpr\": 1.0, \"n\": 4674}, {\"threshold\": 0.143, \"p\": 4610, \"fpr\": 1.0, \"tpr\": 1.0, \"n\": 4674}, {\"threshold\": 0.144, \"p\": 4610, \"fpr\": 1.0, \"tpr\": 1.0, \"n\": 4674}, {\"threshold\": 0.145, \"p\": 4610, \"fpr\": 1.0, \"tpr\": 1.0, \"n\": 4674}, {\"threshold\": 0.146, \"p\": 4610, \"fpr\": 1.0, \"tpr\": 1.0, \"n\": 4674}, {\"threshold\": 0.147, \"p\": 4610, \"fpr\": 1.0, \"tpr\": 1.0, \"n\": 4674}, {\"threshold\": 0.148, \"p\": 4610, \"fpr\": 1.0, \"tpr\": 1.0, \"n\": 4674}, {\"threshold\": 0.149, \"p\": 4610, \"fpr\": 1.0, \"tpr\": 1.0, \"n\": 4674}, {\"threshold\": 0.15, \"p\": 4610, \"fpr\": 1.0, \"tpr\": 1.0, \"n\": 4674}, {\"threshold\": 0.151, \"p\": 4610, \"fpr\": 1.0, \"tpr\": 1.0, \"n\": 4674}, {\"threshold\": 0.152, \"p\": 4610, \"fpr\": 1.0, \"tpr\": 1.0, \"n\": 4674}, {\"threshold\": 0.153, \"p\": 4610, \"fpr\": 1.0, \"tpr\": 1.0, \"n\": 4674}, {\"threshold\": 0.154, \"p\": 4610, \"fpr\": 1.0, \"tpr\": 1.0, \"n\": 4674}, {\"threshold\": 0.155, \"p\": 4610, \"fpr\": 1.0, \"tpr\": 1.0, \"n\": 4674}, {\"threshold\": 0.156, \"p\": 4610, \"fpr\": 1.0, \"tpr\": 1.0, \"n\": 4674}, {\"threshold\": 0.157, \"p\": 4610, \"fpr\": 1.0, \"tpr\": 1.0, \"n\": 4674}, {\"threshold\": 0.158, \"p\": 4610, \"fpr\": 1.0, \"tpr\": 1.0, \"n\": 4674}, {\"threshold\": 0.159, \"p\": 4610, \"fpr\": 1.0, \"tpr\": 1.0, \"n\": 4674}, {\"threshold\": 0.16, \"p\": 4610, \"fpr\": 1.0, \"tpr\": 1.0, \"n\": 4674}, {\"threshold\": 0.161, \"p\": 4610, \"fpr\": 1.0, \"tpr\": 1.0, \"n\": 4674}, {\"threshold\": 0.162, \"p\": 4610, \"fpr\": 1.0, \"tpr\": 1.0, \"n\": 4674}, {\"threshold\": 0.163, \"p\": 4610, \"fpr\": 1.0, \"tpr\": 1.0, \"n\": 4674}, {\"threshold\": 0.164, \"p\": 4610, \"fpr\": 1.0, \"tpr\": 1.0, \"n\": 4674}, {\"threshold\": 0.165, \"p\": 4610, \"fpr\": 1.0, \"tpr\": 1.0, \"n\": 4674}, {\"threshold\": 0.166, \"p\": 4610, \"fpr\": 1.0, \"tpr\": 1.0, \"n\": 4674}, {\"threshold\": 0.167, \"p\": 4610, \"fpr\": 1.0, \"tpr\": 1.0, \"n\": 4674}, {\"threshold\": 0.168, \"p\": 4610, \"fpr\": 1.0, \"tpr\": 1.0, \"n\": 4674}, {\"threshold\": 0.169, \"p\": 4610, \"fpr\": 1.0, \"tpr\": 1.0, \"n\": 4674}, {\"threshold\": 0.17, \"p\": 4610, \"fpr\": 1.0, \"tpr\": 1.0, \"n\": 4674}, {\"threshold\": 0.171, \"p\": 4610, \"fpr\": 1.0, \"tpr\": 1.0, \"n\": 4674}, {\"threshold\": 0.172, \"p\": 4610, \"fpr\": 1.0, \"tpr\": 1.0, \"n\": 4674}, {\"threshold\": 0.173, \"p\": 4610, \"fpr\": 1.0, \"tpr\": 1.0, \"n\": 4674}, {\"threshold\": 0.174, \"p\": 4610, \"fpr\": 1.0, \"tpr\": 1.0, \"n\": 4674}, {\"threshold\": 0.175, \"p\": 4610, \"fpr\": 1.0, \"tpr\": 1.0, \"n\": 4674}, {\"threshold\": 0.176, \"p\": 4610, \"fpr\": 1.0, \"tpr\": 1.0, \"n\": 4674}, {\"threshold\": 0.177, \"p\": 4610, \"fpr\": 1.0, \"tpr\": 1.0, \"n\": 4674}, {\"threshold\": 0.178, \"p\": 4610, \"fpr\": 1.0, \"tpr\": 1.0, \"n\": 4674}, {\"threshold\": 0.179, \"p\": 4610, \"fpr\": 1.0, \"tpr\": 1.0, \"n\": 4674}, {\"threshold\": 0.18, \"p\": 4610, \"fpr\": 1.0, \"tpr\": 1.0, \"n\": 4674}, {\"threshold\": 0.181, \"p\": 4610, \"fpr\": 1.0, \"tpr\": 1.0, \"n\": 4674}, {\"threshold\": 0.182, \"p\": 4610, \"fpr\": 1.0, \"tpr\": 1.0, \"n\": 4674}, {\"threshold\": 0.183, \"p\": 4610, \"fpr\": 1.0, \"tpr\": 1.0, \"n\": 4674}, {\"threshold\": 0.184, \"p\": 4610, \"fpr\": 1.0, \"tpr\": 1.0, \"n\": 4674}, {\"threshold\": 0.185, \"p\": 4610, \"fpr\": 1.0, \"tpr\": 1.0, \"n\": 4674}, {\"threshold\": 0.186, \"p\": 4610, \"fpr\": 1.0, \"tpr\": 1.0, \"n\": 4674}, {\"threshold\": 0.187, \"p\": 4610, \"fpr\": 1.0, \"tpr\": 1.0, \"n\": 4674}, {\"threshold\": 0.188, \"p\": 4610, \"fpr\": 1.0, \"tpr\": 1.0, \"n\": 4674}, {\"threshold\": 0.189, \"p\": 4610, \"fpr\": 1.0, \"tpr\": 1.0, \"n\": 4674}, {\"threshold\": 0.19, \"p\": 4610, \"fpr\": 1.0, \"tpr\": 1.0, \"n\": 4674}, {\"threshold\": 0.191, \"p\": 4610, \"fpr\": 1.0, \"tpr\": 1.0, \"n\": 4674}, {\"threshold\": 0.192, \"p\": 4610, \"fpr\": 1.0, \"tpr\": 1.0, \"n\": 4674}, {\"threshold\": 0.193, \"p\": 4610, \"fpr\": 1.0, \"tpr\": 1.0, \"n\": 4674}, {\"threshold\": 0.194, \"p\": 4610, \"fpr\": 1.0, \"tpr\": 1.0, \"n\": 4674}, {\"threshold\": 0.195, \"p\": 4610, \"fpr\": 1.0, \"tpr\": 1.0, \"n\": 4674}, {\"threshold\": 0.196, \"p\": 4610, \"fpr\": 1.0, \"tpr\": 1.0, \"n\": 4674}, {\"threshold\": 0.197, \"p\": 4610, \"fpr\": 1.0, \"tpr\": 1.0, \"n\": 4674}, {\"threshold\": 0.198, \"p\": 4610, \"fpr\": 1.0, \"tpr\": 1.0, \"n\": 4674}, {\"threshold\": 0.199, \"p\": 4610, \"fpr\": 1.0, \"tpr\": 1.0, \"n\": 4674}, {\"threshold\": 0.2, \"p\": 4610, \"fpr\": 1.0, \"tpr\": 1.0, \"n\": 4674}, {\"threshold\": 0.201, \"p\": 4610, \"fpr\": 1.0, \"tpr\": 1.0, \"n\": 4674}, {\"threshold\": 0.202, \"p\": 4610, \"fpr\": 1.0, \"tpr\": 1.0, \"n\": 4674}, {\"threshold\": 0.203, \"p\": 4610, \"fpr\": 1.0, \"tpr\": 1.0, \"n\": 4674}, {\"threshold\": 0.204, \"p\": 4610, \"fpr\": 1.0, \"tpr\": 1.0, \"n\": 4674}, {\"threshold\": 0.205, \"p\": 4610, \"fpr\": 1.0, \"tpr\": 1.0, \"n\": 4674}, {\"threshold\": 0.206, \"p\": 4610, \"fpr\": 1.0, \"tpr\": 1.0, \"n\": 4674}, {\"threshold\": 0.207, \"p\": 4610, \"fpr\": 1.0, \"tpr\": 1.0, \"n\": 4674}, {\"threshold\": 0.208, \"p\": 4610, \"fpr\": 1.0, \"tpr\": 1.0, \"n\": 4674}, {\"threshold\": 0.209, \"p\": 4610, \"fpr\": 1.0, \"tpr\": 1.0, \"n\": 4674}, {\"threshold\": 0.21, \"p\": 4610, \"fpr\": 1.0, \"tpr\": 1.0, \"n\": 4674}, {\"threshold\": 0.211, \"p\": 4610, \"fpr\": 1.0, \"tpr\": 1.0, \"n\": 4674}, {\"threshold\": 0.212, \"p\": 4610, \"fpr\": 1.0, \"tpr\": 1.0, \"n\": 4674}, {\"threshold\": 0.213, \"p\": 4610, \"fpr\": 1.0, \"tpr\": 1.0, \"n\": 4674}, {\"threshold\": 0.214, \"p\": 4610, \"fpr\": 1.0, \"tpr\": 1.0, \"n\": 4674}, {\"threshold\": 0.215, \"p\": 4610, \"fpr\": 1.0, \"tpr\": 1.0, \"n\": 4674}, {\"threshold\": 0.216, \"p\": 4610, \"fpr\": 1.0, \"tpr\": 1.0, \"n\": 4674}, {\"threshold\": 0.217, \"p\": 4610, \"fpr\": 1.0, \"tpr\": 1.0, \"n\": 4674}, {\"threshold\": 0.218, \"p\": 4610, \"fpr\": 1.0, \"tpr\": 1.0, \"n\": 4674}, {\"threshold\": 0.219, \"p\": 4610, \"fpr\": 1.0, \"tpr\": 1.0, \"n\": 4674}, {\"threshold\": 0.22, \"p\": 4610, \"fpr\": 1.0, \"tpr\": 1.0, \"n\": 4674}, {\"threshold\": 0.221, \"p\": 4610, \"fpr\": 1.0, \"tpr\": 1.0, \"n\": 4674}, {\"threshold\": 0.222, \"p\": 4610, \"fpr\": 1.0, \"tpr\": 1.0, \"n\": 4674}, {\"threshold\": 0.223, \"p\": 4610, \"fpr\": 1.0, \"tpr\": 1.0, \"n\": 4674}, {\"threshold\": 0.224, \"p\": 4610, \"fpr\": 1.0, \"tpr\": 1.0, \"n\": 4674}, {\"threshold\": 0.225, \"p\": 4610, \"fpr\": 1.0, \"tpr\": 1.0, \"n\": 4674}, {\"threshold\": 0.226, \"p\": 4610, \"fpr\": 1.0, \"tpr\": 1.0, \"n\": 4674}, {\"threshold\": 0.227, \"p\": 4610, \"fpr\": 1.0, \"tpr\": 1.0, \"n\": 4674}, {\"threshold\": 0.228, \"p\": 4610, \"fpr\": 1.0, \"tpr\": 1.0, \"n\": 4674}, {\"threshold\": 0.229, \"p\": 4610, \"fpr\": 1.0, \"tpr\": 1.0, \"n\": 4674}, {\"threshold\": 0.23, \"p\": 4610, \"fpr\": 1.0, \"tpr\": 1.0, \"n\": 4674}, {\"threshold\": 0.231, \"p\": 4610, \"fpr\": 1.0, \"tpr\": 1.0, \"n\": 4674}, {\"threshold\": 0.232, \"p\": 4610, \"fpr\": 1.0, \"tpr\": 1.0, \"n\": 4674}, {\"threshold\": 0.233, \"p\": 4610, \"fpr\": 1.0, \"tpr\": 1.0, \"n\": 4674}, {\"threshold\": 0.234, \"p\": 4610, \"fpr\": 1.0, \"tpr\": 1.0, \"n\": 4674}, {\"threshold\": 0.235, \"p\": 4610, \"fpr\": 1.0, \"tpr\": 1.0, \"n\": 4674}, {\"threshold\": 0.236, \"p\": 4610, \"fpr\": 1.0, \"tpr\": 1.0, \"n\": 4674}, {\"threshold\": 0.237, \"p\": 4610, \"fpr\": 1.0, \"tpr\": 1.0, \"n\": 4674}, {\"threshold\": 0.238, \"p\": 4610, \"fpr\": 1.0, \"tpr\": 1.0, \"n\": 4674}, {\"threshold\": 0.239, \"p\": 4610, \"fpr\": 1.0, \"tpr\": 1.0, \"n\": 4674}, {\"threshold\": 0.24, \"p\": 4610, \"fpr\": 1.0, \"tpr\": 1.0, \"n\": 4674}, {\"threshold\": 0.241, \"p\": 4610, \"fpr\": 1.0, \"tpr\": 1.0, \"n\": 4674}, {\"threshold\": 0.242, \"p\": 4610, \"fpr\": 1.0, \"tpr\": 1.0, \"n\": 4674}, {\"threshold\": 0.243, \"p\": 4610, \"fpr\": 1.0, \"tpr\": 1.0, \"n\": 4674}, {\"threshold\": 0.244, \"p\": 4610, \"fpr\": 1.0, \"tpr\": 1.0, \"n\": 4674}, {\"threshold\": 0.245, \"p\": 4610, \"fpr\": 1.0, \"tpr\": 1.0, \"n\": 4674}, {\"threshold\": 0.246, \"p\": 4610, \"fpr\": 1.0, \"tpr\": 1.0, \"n\": 4674}, {\"threshold\": 0.247, \"p\": 4610, \"fpr\": 1.0, \"tpr\": 1.0, \"n\": 4674}, {\"threshold\": 0.248, \"p\": 4610, \"fpr\": 1.0, \"tpr\": 1.0, \"n\": 4674}, {\"threshold\": 0.249, \"p\": 4610, \"fpr\": 1.0, \"tpr\": 1.0, \"n\": 4674}, {\"threshold\": 0.25, \"p\": 4610, \"fpr\": 1.0, \"tpr\": 1.0, \"n\": 4674}, {\"threshold\": 0.251, \"p\": 4610, \"fpr\": 1.0, \"tpr\": 1.0, \"n\": 4674}, {\"threshold\": 0.252, \"p\": 4610, \"fpr\": 1.0, \"tpr\": 1.0, \"n\": 4674}, {\"threshold\": 0.253, \"p\": 4610, \"fpr\": 1.0, \"tpr\": 1.0, \"n\": 4674}, {\"threshold\": 0.254, \"p\": 4610, \"fpr\": 1.0, \"tpr\": 1.0, \"n\": 4674}, {\"threshold\": 0.255, \"p\": 4610, \"fpr\": 1.0, \"tpr\": 1.0, \"n\": 4674}, {\"threshold\": 0.256, \"p\": 4610, \"fpr\": 1.0, \"tpr\": 1.0, \"n\": 4674}, {\"threshold\": 0.257, \"p\": 4610, \"fpr\": 1.0, \"tpr\": 1.0, \"n\": 4674}, {\"threshold\": 0.258, \"p\": 4610, \"fpr\": 1.0, \"tpr\": 1.0, \"n\": 4674}, {\"threshold\": 0.259, \"p\": 4610, \"fpr\": 1.0, \"tpr\": 1.0, \"n\": 4674}, {\"threshold\": 0.26, \"p\": 4610, \"fpr\": 1.0, \"tpr\": 1.0, \"n\": 4674}, {\"threshold\": 0.261, \"p\": 4610, \"fpr\": 1.0, \"tpr\": 1.0, \"n\": 4674}, {\"threshold\": 0.262, \"p\": 4610, \"fpr\": 1.0, \"tpr\": 1.0, \"n\": 4674}, {\"threshold\": 0.263, \"p\": 4610, \"fpr\": 1.0, \"tpr\": 1.0, \"n\": 4674}, {\"threshold\": 0.264, \"p\": 4610, \"fpr\": 1.0, \"tpr\": 1.0, \"n\": 4674}, {\"threshold\": 0.265, \"p\": 4610, \"fpr\": 1.0, \"tpr\": 1.0, \"n\": 4674}, {\"threshold\": 0.266, \"p\": 4610, \"fpr\": 1.0, \"tpr\": 1.0, \"n\": 4674}, {\"threshold\": 0.267, \"p\": 4610, \"fpr\": 1.0, \"tpr\": 1.0, \"n\": 4674}, {\"threshold\": 0.268, \"p\": 4610, \"fpr\": 1.0, \"tpr\": 1.0, \"n\": 4674}, {\"threshold\": 0.269, \"p\": 4610, \"fpr\": 1.0, \"tpr\": 1.0, \"n\": 4674}, {\"threshold\": 0.27, \"p\": 4610, \"fpr\": 1.0, \"tpr\": 1.0, \"n\": 4674}, {\"threshold\": 0.271, \"p\": 4610, \"fpr\": 1.0, \"tpr\": 1.0, \"n\": 4674}, {\"threshold\": 0.272, \"p\": 4610, \"fpr\": 1.0, \"tpr\": 1.0, \"n\": 4674}, {\"threshold\": 0.273, \"p\": 4610, \"fpr\": 1.0, \"tpr\": 1.0, \"n\": 4674}, {\"threshold\": 0.274, \"p\": 4610, \"fpr\": 1.0, \"tpr\": 1.0, \"n\": 4674}, {\"threshold\": 0.275, \"p\": 4610, \"fpr\": 1.0, \"tpr\": 1.0, \"n\": 4674}, {\"threshold\": 0.276, \"p\": 4610, \"fpr\": 1.0, \"tpr\": 1.0, \"n\": 4674}, {\"threshold\": 0.277, \"p\": 4610, \"fpr\": 1.0, \"tpr\": 1.0, \"n\": 4674}, {\"threshold\": 0.278, \"p\": 4610, \"fpr\": 1.0, \"tpr\": 1.0, \"n\": 4674}, {\"threshold\": 0.279, \"p\": 4610, \"fpr\": 1.0, \"tpr\": 1.0, \"n\": 4674}, {\"threshold\": 0.28, \"p\": 4610, \"fpr\": 1.0, \"tpr\": 1.0, \"n\": 4674}, {\"threshold\": 0.281, \"p\": 4610, \"fpr\": 1.0, \"tpr\": 1.0, \"n\": 4674}, {\"threshold\": 0.282, \"p\": 4610, \"fpr\": 1.0, \"tpr\": 1.0, \"n\": 4674}, {\"threshold\": 0.283, \"p\": 4610, \"fpr\": 1.0, \"tpr\": 1.0, \"n\": 4674}, {\"threshold\": 0.284, \"p\": 4610, \"fpr\": 1.0, \"tpr\": 1.0, \"n\": 4674}, {\"threshold\": 0.285, \"p\": 4610, \"fpr\": 1.0, \"tpr\": 1.0, \"n\": 4674}, {\"threshold\": 0.286, \"p\": 4610, \"fpr\": 1.0, \"tpr\": 1.0, \"n\": 4674}, {\"threshold\": 0.287, \"p\": 4610, \"fpr\": 1.0, \"tpr\": 1.0, \"n\": 4674}, {\"threshold\": 0.288, \"p\": 4610, \"fpr\": 1.0, \"tpr\": 1.0, \"n\": 4674}, {\"threshold\": 0.289, \"p\": 4610, \"fpr\": 1.0, \"tpr\": 1.0, \"n\": 4674}, {\"threshold\": 0.29, \"p\": 4610, \"fpr\": 1.0, \"tpr\": 1.0, \"n\": 4674}, {\"threshold\": 0.291, \"p\": 4610, \"fpr\": 1.0, \"tpr\": 1.0, \"n\": 4674}, {\"threshold\": 0.292, \"p\": 4610, \"fpr\": 1.0, \"tpr\": 1.0, \"n\": 4674}, {\"threshold\": 0.293, \"p\": 4610, \"fpr\": 1.0, \"tpr\": 1.0, \"n\": 4674}, {\"threshold\": 0.294, \"p\": 4610, \"fpr\": 1.0, \"tpr\": 1.0, \"n\": 4674}, {\"threshold\": 0.295, \"p\": 4610, \"fpr\": 1.0, \"tpr\": 1.0, \"n\": 4674}, {\"threshold\": 0.296, \"p\": 4610, \"fpr\": 1.0, \"tpr\": 1.0, \"n\": 4674}, {\"threshold\": 0.297, \"p\": 4610, \"fpr\": 1.0, \"tpr\": 1.0, \"n\": 4674}, {\"threshold\": 0.298, \"p\": 4610, \"fpr\": 1.0, \"tpr\": 1.0, \"n\": 4674}, {\"threshold\": 0.299, \"p\": 4610, \"fpr\": 1.0, \"tpr\": 1.0, \"n\": 4674}, {\"threshold\": 0.3, \"p\": 4610, \"fpr\": 1.0, \"tpr\": 1.0, \"n\": 4674}, {\"threshold\": 0.301, \"p\": 4610, \"fpr\": 1.0, \"tpr\": 1.0, \"n\": 4674}, {\"threshold\": 0.302, \"p\": 4610, \"fpr\": 1.0, \"tpr\": 1.0, \"n\": 4674}, {\"threshold\": 0.303, \"p\": 4610, \"fpr\": 1.0, \"tpr\": 1.0, \"n\": 4674}, {\"threshold\": 0.304, \"p\": 4610, \"fpr\": 1.0, \"tpr\": 1.0, \"n\": 4674}, {\"threshold\": 0.305, \"p\": 4610, \"fpr\": 1.0, \"tpr\": 1.0, \"n\": 4674}, {\"threshold\": 0.306, \"p\": 4610, \"fpr\": 1.0, \"tpr\": 1.0, \"n\": 4674}, {\"threshold\": 0.307, \"p\": 4610, \"fpr\": 1.0, \"tpr\": 1.0, \"n\": 4674}, {\"threshold\": 0.308, \"p\": 4610, \"fpr\": 1.0, \"tpr\": 1.0, \"n\": 4674}, {\"threshold\": 0.309, \"p\": 4610, \"fpr\": 1.0, \"tpr\": 1.0, \"n\": 4674}, {\"threshold\": 0.31, \"p\": 4610, \"fpr\": 1.0, \"tpr\": 1.0, \"n\": 4674}, {\"threshold\": 0.311, \"p\": 4610, \"fpr\": 1.0, \"tpr\": 1.0, \"n\": 4674}, {\"threshold\": 0.312, \"p\": 4610, \"fpr\": 1.0, \"tpr\": 1.0, \"n\": 4674}, {\"threshold\": 0.313, \"p\": 4610, \"fpr\": 1.0, \"tpr\": 1.0, \"n\": 4674}, {\"threshold\": 0.314, \"p\": 4610, \"fpr\": 1.0, \"tpr\": 1.0, \"n\": 4674}, {\"threshold\": 0.315, \"p\": 4610, \"fpr\": 1.0, \"tpr\": 1.0, \"n\": 4674}, {\"threshold\": 0.316, \"p\": 4610, \"fpr\": 1.0, \"tpr\": 1.0, \"n\": 4674}, {\"threshold\": 0.317, \"p\": 4610, \"fpr\": 1.0, \"tpr\": 1.0, \"n\": 4674}, {\"threshold\": 0.318, \"p\": 4610, \"fpr\": 1.0, \"tpr\": 1.0, \"n\": 4674}, {\"threshold\": 0.319, \"p\": 4610, \"fpr\": 1.0, \"tpr\": 1.0, \"n\": 4674}, {\"threshold\": 0.32, \"p\": 4610, \"fpr\": 1.0, \"tpr\": 1.0, \"n\": 4674}, {\"threshold\": 0.321, \"p\": 4610, \"fpr\": 1.0, \"tpr\": 1.0, \"n\": 4674}, {\"threshold\": 0.322, \"p\": 4610, \"fpr\": 1.0, \"tpr\": 1.0, \"n\": 4674}, {\"threshold\": 0.323, \"p\": 4610, \"fpr\": 1.0, \"tpr\": 1.0, \"n\": 4674}, {\"threshold\": 0.324, \"p\": 4610, \"fpr\": 1.0, \"tpr\": 1.0, \"n\": 4674}, {\"threshold\": 0.325, \"p\": 4610, \"fpr\": 1.0, \"tpr\": 1.0, \"n\": 4674}, {\"threshold\": 0.326, \"p\": 4610, \"fpr\": 1.0, \"tpr\": 1.0, \"n\": 4674}, {\"threshold\": 0.327, \"p\": 4610, \"fpr\": 1.0, \"tpr\": 1.0, \"n\": 4674}, {\"threshold\": 0.328, \"p\": 4610, \"fpr\": 1.0, \"tpr\": 1.0, \"n\": 4674}, {\"threshold\": 0.329, \"p\": 4610, \"fpr\": 1.0, \"tpr\": 1.0, \"n\": 4674}, {\"threshold\": 0.33, \"p\": 4610, \"fpr\": 1.0, \"tpr\": 1.0, \"n\": 4674}, {\"threshold\": 0.331, \"p\": 4610, \"fpr\": 1.0, \"tpr\": 1.0, \"n\": 4674}, {\"threshold\": 0.332, \"p\": 4610, \"fpr\": 1.0, \"tpr\": 1.0, \"n\": 4674}, {\"threshold\": 0.333, \"p\": 4610, \"fpr\": 1.0, \"tpr\": 1.0, \"n\": 4674}, {\"threshold\": 0.334, \"p\": 4610, \"fpr\": 1.0, \"tpr\": 1.0, \"n\": 4674}, {\"threshold\": 0.335, \"p\": 4610, \"fpr\": 1.0, \"tpr\": 1.0, \"n\": 4674}, {\"threshold\": 0.336, \"p\": 4610, \"fpr\": 1.0, \"tpr\": 1.0, \"n\": 4674}, {\"threshold\": 0.337, \"p\": 4610, \"fpr\": 1.0, \"tpr\": 1.0, \"n\": 4674}, {\"threshold\": 0.338, \"p\": 4610, \"fpr\": 1.0, \"tpr\": 1.0, \"n\": 4674}, {\"threshold\": 0.339, \"p\": 4610, \"fpr\": 1.0, \"tpr\": 1.0, \"n\": 4674}, {\"threshold\": 0.34, \"p\": 4610, \"fpr\": 1.0, \"tpr\": 1.0, \"n\": 4674}, {\"threshold\": 0.341, \"p\": 4610, \"fpr\": 1.0, \"tpr\": 1.0, \"n\": 4674}, {\"threshold\": 0.342, \"p\": 4610, \"fpr\": 1.0, \"tpr\": 1.0, \"n\": 4674}, {\"threshold\": 0.343, \"p\": 4610, \"fpr\": 1.0, \"tpr\": 1.0, \"n\": 4674}, {\"threshold\": 0.344, \"p\": 4610, \"fpr\": 1.0, \"tpr\": 1.0, \"n\": 4674}, {\"threshold\": 0.345, \"p\": 4610, \"fpr\": 1.0, \"tpr\": 1.0, \"n\": 4674}, {\"threshold\": 0.346, \"p\": 4610, \"fpr\": 1.0, \"tpr\": 1.0, \"n\": 4674}, {\"threshold\": 0.347, \"p\": 4610, \"fpr\": 1.0, \"tpr\": 1.0, \"n\": 4674}, {\"threshold\": 0.348, \"p\": 4610, \"fpr\": 1.0, \"tpr\": 1.0, \"n\": 4674}, {\"threshold\": 0.349, \"p\": 4610, \"fpr\": 1.0, \"tpr\": 1.0, \"n\": 4674}, {\"threshold\": 0.35, \"p\": 4610, \"fpr\": 1.0, \"tpr\": 1.0, \"n\": 4674}, {\"threshold\": 0.351, \"p\": 4610, \"fpr\": 1.0, \"tpr\": 1.0, \"n\": 4674}, {\"threshold\": 0.352, \"p\": 4610, \"fpr\": 1.0, \"tpr\": 1.0, \"n\": 4674}, {\"threshold\": 0.353, \"p\": 4610, \"fpr\": 1.0, \"tpr\": 1.0, \"n\": 4674}, {\"threshold\": 0.354, \"p\": 4610, \"fpr\": 1.0, \"tpr\": 1.0, \"n\": 4674}, {\"threshold\": 0.355, \"p\": 4610, \"fpr\": 1.0, \"tpr\": 1.0, \"n\": 4674}, {\"threshold\": 0.356, \"p\": 4610, \"fpr\": 1.0, \"tpr\": 1.0, \"n\": 4674}, {\"threshold\": 0.357, \"p\": 4610, \"fpr\": 1.0, \"tpr\": 1.0, \"n\": 4674}, {\"threshold\": 0.358, \"p\": 4610, \"fpr\": 1.0, \"tpr\": 1.0, \"n\": 4674}, {\"threshold\": 0.359, \"p\": 4610, \"fpr\": 1.0, \"tpr\": 1.0, \"n\": 4674}, {\"threshold\": 0.36, \"p\": 4610, \"fpr\": 1.0, \"tpr\": 1.0, \"n\": 4674}, {\"threshold\": 0.361, \"p\": 4610, \"fpr\": 1.0, \"tpr\": 1.0, \"n\": 4674}, {\"threshold\": 0.362, \"p\": 4610, \"fpr\": 1.0, \"tpr\": 1.0, \"n\": 4674}, {\"threshold\": 0.363, \"p\": 4610, \"fpr\": 1.0, \"tpr\": 1.0, \"n\": 4674}, {\"threshold\": 0.364, \"p\": 4610, \"fpr\": 1.0, \"tpr\": 1.0, \"n\": 4674}, {\"threshold\": 0.365, \"p\": 4610, \"fpr\": 1.0, \"tpr\": 1.0, \"n\": 4674}, {\"threshold\": 0.366, \"p\": 4610, \"fpr\": 1.0, \"tpr\": 1.0, \"n\": 4674}, {\"threshold\": 0.367, \"p\": 4610, \"fpr\": 1.0, \"tpr\": 1.0, \"n\": 4674}, {\"threshold\": 0.368, \"p\": 4610, \"fpr\": 1.0, \"tpr\": 1.0, \"n\": 4674}, {\"threshold\": 0.369, \"p\": 4610, \"fpr\": 1.0, \"tpr\": 1.0, \"n\": 4674}, {\"threshold\": 0.37, \"p\": 4610, \"fpr\": 1.0, \"tpr\": 1.0, \"n\": 4674}, {\"threshold\": 0.371, \"p\": 4610, \"fpr\": 1.0, \"tpr\": 1.0, \"n\": 4674}, {\"threshold\": 0.372, \"p\": 4610, \"fpr\": 0.9809584937954643, \"tpr\": 0.9984815618221258, \"n\": 4674}, {\"threshold\": 0.373, \"p\": 4610, \"fpr\": 0.9809584937954643, \"tpr\": 0.9984815618221258, \"n\": 4674}, {\"threshold\": 0.374, \"p\": 4610, \"fpr\": 0.9809584937954643, \"tpr\": 0.9984815618221258, \"n\": 4674}, {\"threshold\": 0.375, \"p\": 4610, \"fpr\": 0.9809584937954643, \"tpr\": 0.9984815618221258, \"n\": 4674}, {\"threshold\": 0.376, \"p\": 4610, \"fpr\": 0.9809584937954643, \"tpr\": 0.9984815618221258, \"n\": 4674}, {\"threshold\": 0.377, \"p\": 4610, \"fpr\": 0.9809584937954643, \"tpr\": 0.9984815618221258, \"n\": 4674}, {\"threshold\": 0.378, \"p\": 4610, \"fpr\": 0.9809584937954643, \"tpr\": 0.9984815618221258, \"n\": 4674}, {\"threshold\": 0.379, \"p\": 4610, \"fpr\": 0.9809584937954643, \"tpr\": 0.9984815618221258, \"n\": 4674}, {\"threshold\": 0.38, \"p\": 4610, \"fpr\": 0.9809584937954643, \"tpr\": 0.9984815618221258, \"n\": 4674}, {\"threshold\": 0.381, \"p\": 4610, \"fpr\": 0.9809584937954643, \"tpr\": 0.9984815618221258, \"n\": 4674}, {\"threshold\": 0.382, \"p\": 4610, \"fpr\": 0.9809584937954643, \"tpr\": 0.9984815618221258, \"n\": 4674}, {\"threshold\": 0.383, \"p\": 4610, \"fpr\": 0.9809584937954643, \"tpr\": 0.9984815618221258, \"n\": 4674}, {\"threshold\": 0.384, \"p\": 4610, \"fpr\": 0.9809584937954643, \"tpr\": 0.9984815618221258, \"n\": 4674}, {\"threshold\": 0.385, \"p\": 4610, \"fpr\": 0.9809584937954643, \"tpr\": 0.9984815618221258, \"n\": 4674}, {\"threshold\": 0.386, \"p\": 4610, \"fpr\": 0.9809584937954643, \"tpr\": 0.9984815618221258, \"n\": 4674}, {\"threshold\": 0.387, \"p\": 4610, \"fpr\": 0.9809584937954643, \"tpr\": 0.9984815618221258, \"n\": 4674}, {\"threshold\": 0.388, \"p\": 4610, \"fpr\": 0.9809584937954643, \"tpr\": 0.9984815618221258, \"n\": 4674}, {\"threshold\": 0.389, \"p\": 4610, \"fpr\": 0.9809584937954643, \"tpr\": 0.9984815618221258, \"n\": 4674}, {\"threshold\": 0.39, \"p\": 4610, \"fpr\": 0.9809584937954643, \"tpr\": 0.9984815618221258, \"n\": 4674}, {\"threshold\": 0.391, \"p\": 4610, \"fpr\": 0.9809584937954643, \"tpr\": 0.9984815618221258, \"n\": 4674}, {\"threshold\": 0.392, \"p\": 4610, \"fpr\": 0.9807445442875481, \"tpr\": 0.9984815618221258, \"n\": 4674}, {\"threshold\": 0.393, \"p\": 4610, \"fpr\": 0.9582798459563543, \"tpr\": 0.9943600867678959, \"n\": 4674}, {\"threshold\": 0.394, \"p\": 4610, \"fpr\": 0.9582798459563543, \"tpr\": 0.9943600867678959, \"n\": 4674}, {\"threshold\": 0.395, \"p\": 4610, \"fpr\": 0.9582798459563543, \"tpr\": 0.9943600867678959, \"n\": 4674}, {\"threshold\": 0.396, \"p\": 4610, \"fpr\": 0.9514334617030381, \"tpr\": 0.9932754880694143, \"n\": 4674}, {\"threshold\": 0.397, \"p\": 4610, \"fpr\": 0.9514334617030381, \"tpr\": 0.9932754880694143, \"n\": 4674}, {\"threshold\": 0.398, \"p\": 4610, \"fpr\": 0.9514334617030381, \"tpr\": 0.9932754880694143, \"n\": 4674}, {\"threshold\": 0.399, \"p\": 4610, \"fpr\": 0.9405220367993153, \"tpr\": 0.989587852494577, \"n\": 4674}, {\"threshold\": 0.4, \"p\": 4610, \"fpr\": 0.9405220367993153, \"tpr\": 0.989587852494577, \"n\": 4674}, {\"threshold\": 0.401, \"p\": 4610, \"fpr\": 0.9405220367993153, \"tpr\": 0.989587852494577, \"n\": 4674}, {\"threshold\": 0.402, \"p\": 4610, \"fpr\": 0.9405220367993153, \"tpr\": 0.989587852494577, \"n\": 4674}, {\"threshold\": 0.403, \"p\": 4610, \"fpr\": 0.9405220367993153, \"tpr\": 0.989587852494577, \"n\": 4674}, {\"threshold\": 0.404, \"p\": 4610, \"fpr\": 0.9405220367993153, \"tpr\": 0.989587852494577, \"n\": 4674}, {\"threshold\": 0.405, \"p\": 4610, \"fpr\": 0.9405220367993153, \"tpr\": 0.989587852494577, \"n\": 4674}, {\"threshold\": 0.406, \"p\": 4610, \"fpr\": 0.9403080872913993, \"tpr\": 0.989587852494577, \"n\": 4674}, {\"threshold\": 0.407, \"p\": 4610, \"fpr\": 0.9403080872913993, \"tpr\": 0.989587852494577, \"n\": 4674}, {\"threshold\": 0.408, \"p\": 4610, \"fpr\": 0.9403080872913993, \"tpr\": 0.989587852494577, \"n\": 4674}, {\"threshold\": 0.409, \"p\": 4610, \"fpr\": 0.9403080872913993, \"tpr\": 0.989587852494577, \"n\": 4674}, {\"threshold\": 0.41, \"p\": 4610, \"fpr\": 0.9403080872913993, \"tpr\": 0.989587852494577, \"n\": 4674}, {\"threshold\": 0.411, \"p\": 4610, \"fpr\": 0.939880188275567, \"tpr\": 0.989587852494577, \"n\": 4674}, {\"threshold\": 0.412, \"p\": 4610, \"fpr\": 0.9302524604193411, \"tpr\": 0.9880694143167028, \"n\": 4674}, {\"threshold\": 0.413, \"p\": 4610, \"fpr\": 0.9291827128797604, \"tpr\": 0.9878524945770065, \"n\": 4674}, {\"threshold\": 0.414, \"p\": 4610, \"fpr\": 0.9291827128797604, \"tpr\": 0.9878524945770065, \"n\": 4674}, {\"threshold\": 0.415, \"p\": 4610, \"fpr\": 0.9291827128797604, \"tpr\": 0.9878524945770065, \"n\": 4674}, {\"threshold\": 0.416, \"p\": 4610, \"fpr\": 0.9291827128797604, \"tpr\": 0.9878524945770065, \"n\": 4674}, {\"threshold\": 0.417, \"p\": 4610, \"fpr\": 0.9291827128797604, \"tpr\": 0.9878524945770065, \"n\": 4674}, {\"threshold\": 0.418, \"p\": 4610, \"fpr\": 0.9291827128797604, \"tpr\": 0.9878524945770065, \"n\": 4674}, {\"threshold\": 0.419, \"p\": 4610, \"fpr\": 0.9291827128797604, \"tpr\": 0.9878524945770065, \"n\": 4674}, {\"threshold\": 0.42, \"p\": 4610, \"fpr\": 0.9291827128797604, \"tpr\": 0.9878524945770065, \"n\": 4674}, {\"threshold\": 0.421, \"p\": 4610, \"fpr\": 0.9291827128797604, \"tpr\": 0.9878524945770065, \"n\": 4674}, {\"threshold\": 0.422, \"p\": 4610, \"fpr\": 0.9291827128797604, \"tpr\": 0.9878524945770065, \"n\": 4674}, {\"threshold\": 0.423, \"p\": 4610, \"fpr\": 0.9291827128797604, \"tpr\": 0.9878524945770065, \"n\": 4674}, {\"threshold\": 0.424, \"p\": 4610, \"fpr\": 0.9291827128797604, \"tpr\": 0.9878524945770065, \"n\": 4674}, {\"threshold\": 0.425, \"p\": 4610, \"fpr\": 0.9229781771501926, \"tpr\": 0.9863340563991323, \"n\": 4674}, {\"threshold\": 0.426, \"p\": 4610, \"fpr\": 0.9229781771501926, \"tpr\": 0.9863340563991323, \"n\": 4674}, {\"threshold\": 0.427, \"p\": 4610, \"fpr\": 0.9229781771501926, \"tpr\": 0.9863340563991323, \"n\": 4674}, {\"threshold\": 0.428, \"p\": 4610, \"fpr\": 0.9229781771501926, \"tpr\": 0.9863340563991323, \"n\": 4674}, {\"threshold\": 0.429, \"p\": 4610, \"fpr\": 0.9229781771501926, \"tpr\": 0.9863340563991323, \"n\": 4674}, {\"threshold\": 0.43, \"p\": 4610, \"fpr\": 0.9229781771501926, \"tpr\": 0.9863340563991323, \"n\": 4674}, {\"threshold\": 0.431, \"p\": 4610, \"fpr\": 0.9229781771501926, \"tpr\": 0.9863340563991323, \"n\": 4674}, {\"threshold\": 0.432, \"p\": 4610, \"fpr\": 0.8316217372700043, \"tpr\": 0.9481561822125814, \"n\": 4674}, {\"threshold\": 0.433, \"p\": 4610, \"fpr\": 0.8316217372700043, \"tpr\": 0.9481561822125814, \"n\": 4674}, {\"threshold\": 0.434, \"p\": 4610, \"fpr\": 0.8316217372700043, \"tpr\": 0.9481561822125814, \"n\": 4674}, {\"threshold\": 0.435, \"p\": 4610, \"fpr\": 0.8316217372700043, \"tpr\": 0.9481561822125814, \"n\": 4674}, {\"threshold\": 0.436, \"p\": 4610, \"fpr\": 0.8316217372700043, \"tpr\": 0.9481561822125814, \"n\": 4674}, {\"threshold\": 0.437, \"p\": 4610, \"fpr\": 0.8316217372700043, \"tpr\": 0.9481561822125814, \"n\": 4674}, {\"threshold\": 0.438, \"p\": 4610, \"fpr\": 0.8316217372700043, \"tpr\": 0.9481561822125814, \"n\": 4674}, {\"threshold\": 0.439, \"p\": 4610, \"fpr\": 0.8316217372700043, \"tpr\": 0.9481561822125814, \"n\": 4674}, {\"threshold\": 0.44, \"p\": 4610, \"fpr\": 0.8316217372700043, \"tpr\": 0.9481561822125814, \"n\": 4674}, {\"threshold\": 0.441, \"p\": 4610, \"fpr\": 0.8316217372700043, \"tpr\": 0.9481561822125814, \"n\": 4674}, {\"threshold\": 0.442, \"p\": 4610, \"fpr\": 0.8258451005562687, \"tpr\": 0.9457700650759219, \"n\": 4674}, {\"threshold\": 0.443, \"p\": 4610, \"fpr\": 0.8258451005562687, \"tpr\": 0.9457700650759219, \"n\": 4674}, {\"threshold\": 0.444, \"p\": 4610, \"fpr\": 0.8258451005562687, \"tpr\": 0.9457700650759219, \"n\": 4674}, {\"threshold\": 0.445, \"p\": 4610, \"fpr\": 0.8258451005562687, \"tpr\": 0.9457700650759219, \"n\": 4674}, {\"threshold\": 0.446, \"p\": 4610, \"fpr\": 0.8258451005562687, \"tpr\": 0.9457700650759219, \"n\": 4674}, {\"threshold\": 0.447, \"p\": 4610, \"fpr\": 0.8258451005562687, \"tpr\": 0.9457700650759219, \"n\": 4674}, {\"threshold\": 0.448, \"p\": 4610, \"fpr\": 0.8258451005562687, \"tpr\": 0.9457700650759219, \"n\": 4674}, {\"threshold\": 0.449, \"p\": 4610, \"fpr\": 0.8258451005562687, \"tpr\": 0.9457700650759219, \"n\": 4674}, {\"threshold\": 0.45, \"p\": 4610, \"fpr\": 0.8258451005562687, \"tpr\": 0.9457700650759219, \"n\": 4674}, {\"threshold\": 0.451, \"p\": 4610, \"fpr\": 0.8258451005562687, \"tpr\": 0.9457700650759219, \"n\": 4674}, {\"threshold\": 0.452, \"p\": 4610, \"fpr\": 0.8258451005562687, \"tpr\": 0.9457700650759219, \"n\": 4674}, {\"threshold\": 0.453, \"p\": 4610, \"fpr\": 0.8258451005562687, \"tpr\": 0.9457700650759219, \"n\": 4674}, {\"threshold\": 0.454, \"p\": 4610, \"fpr\": 0.8232777064612752, \"tpr\": 0.9446854663774403, \"n\": 4674}, {\"threshold\": 0.455, \"p\": 4610, \"fpr\": 0.7270004278990159, \"tpr\": 0.8865509761388286, \"n\": 4674}, {\"threshold\": 0.456, \"p\": 4610, \"fpr\": 0.6174582798459564, \"tpr\": 0.8325379609544469, \"n\": 4674}, {\"threshold\": 0.457, \"p\": 4610, \"fpr\": 0.5870774497218656, \"tpr\": 0.8149674620390456, \"n\": 4674}, {\"threshold\": 0.458, \"p\": 4610, \"fpr\": 0.5870774497218656, \"tpr\": 0.8149674620390456, \"n\": 4674}, {\"threshold\": 0.459, \"p\": 4610, \"fpr\": 0.5870774497218656, \"tpr\": 0.8149674620390456, \"n\": 4674}, {\"threshold\": 0.46, \"p\": 4610, \"fpr\": 0.5870774497218656, \"tpr\": 0.8149674620390456, \"n\": 4674}, {\"threshold\": 0.461, \"p\": 4610, \"fpr\": 0.5870774497218656, \"tpr\": 0.8149674620390456, \"n\": 4674}, {\"threshold\": 0.462, \"p\": 4610, \"fpr\": 0.5870774497218656, \"tpr\": 0.8149674620390456, \"n\": 4674}, {\"threshold\": 0.463, \"p\": 4610, \"fpr\": 0.5870774497218656, \"tpr\": 0.8149674620390456, \"n\": 4674}, {\"threshold\": 0.464, \"p\": 4610, \"fpr\": 0.5870774497218656, \"tpr\": 0.8149674620390456, \"n\": 4674}, {\"threshold\": 0.465, \"p\": 4610, \"fpr\": 0.5870774497218656, \"tpr\": 0.8149674620390456, \"n\": 4674}, {\"threshold\": 0.466, \"p\": 4610, \"fpr\": 0.5866495507060334, \"tpr\": 0.8149674620390456, \"n\": 4674}, {\"threshold\": 0.467, \"p\": 4610, \"fpr\": 0.5866495507060334, \"tpr\": 0.8149674620390456, \"n\": 4674}, {\"threshold\": 0.468, \"p\": 4610, \"fpr\": 0.5866495507060334, \"tpr\": 0.8149674620390456, \"n\": 4674}, {\"threshold\": 0.469, \"p\": 4610, \"fpr\": 0.5866495507060334, \"tpr\": 0.8149674620390456, \"n\": 4674}, {\"threshold\": 0.47, \"p\": 4610, \"fpr\": 0.5866495507060334, \"tpr\": 0.8149674620390456, \"n\": 4674}, {\"threshold\": 0.471, \"p\": 4610, \"fpr\": 0.5866495507060334, \"tpr\": 0.8149674620390456, \"n\": 4674}, {\"threshold\": 0.472, \"p\": 4610, \"fpr\": 0.5866495507060334, \"tpr\": 0.8149674620390456, \"n\": 4674}, {\"threshold\": 0.473, \"p\": 4610, \"fpr\": 0.5866495507060334, \"tpr\": 0.8149674620390456, \"n\": 4674}, {\"threshold\": 0.474, \"p\": 4610, \"fpr\": 0.5866495507060334, \"tpr\": 0.8149674620390456, \"n\": 4674}, {\"threshold\": 0.475, \"p\": 4610, \"fpr\": 0.5866495507060334, \"tpr\": 0.8149674620390456, \"n\": 4674}, {\"threshold\": 0.476, \"p\": 4610, \"fpr\": 0.5866495507060334, \"tpr\": 0.8149674620390456, \"n\": 4674}, {\"threshold\": 0.477, \"p\": 4610, \"fpr\": 0.5770218228498074, \"tpr\": 0.803470715835141, \"n\": 4674}, {\"threshold\": 0.478, \"p\": 4610, \"fpr\": 0.5735986307231493, \"tpr\": 0.8002169197396963, \"n\": 4674}, {\"threshold\": 0.479, \"p\": 4610, \"fpr\": 0.5109114249037228, \"tpr\": 0.7553145336225596, \"n\": 4674}, {\"threshold\": 0.48, \"p\": 4610, \"fpr\": 0.5109114249037228, \"tpr\": 0.7553145336225596, \"n\": 4674}, {\"threshold\": 0.481, \"p\": 4610, \"fpr\": 0.5109114249037228, \"tpr\": 0.7553145336225596, \"n\": 4674}, {\"threshold\": 0.482, \"p\": 4610, \"fpr\": 0.5109114249037228, \"tpr\": 0.7553145336225596, \"n\": 4674}, {\"threshold\": 0.483, \"p\": 4610, \"fpr\": 0.5109114249037228, \"tpr\": 0.7553145336225596, \"n\": 4674}, {\"threshold\": 0.484, \"p\": 4610, \"fpr\": 0.5109114249037228, \"tpr\": 0.7553145336225596, \"n\": 4674}, {\"threshold\": 0.485, \"p\": 4610, \"fpr\": 0.5109114249037228, \"tpr\": 0.7553145336225596, \"n\": 4674}, {\"threshold\": 0.486, \"p\": 4610, \"fpr\": 0.5109114249037228, \"tpr\": 0.7553145336225596, \"n\": 4674}, {\"threshold\": 0.487, \"p\": 4610, \"fpr\": 0.5109114249037228, \"tpr\": 0.7553145336225596, \"n\": 4674}, {\"threshold\": 0.488, \"p\": 4610, \"fpr\": 0.46662387676508343, \"tpr\": 0.7197396963123645, \"n\": 4674}, {\"threshold\": 0.489, \"p\": 4610, \"fpr\": 0.46662387676508343, \"tpr\": 0.7197396963123645, \"n\": 4674}, {\"threshold\": 0.49, \"p\": 4610, \"fpr\": 0.3600770218228498, \"tpr\": 0.6342733188720173, \"n\": 4674}, {\"threshold\": 0.491, \"p\": 4610, \"fpr\": 0.35579803166452717, \"tpr\": 0.6290672451193059, \"n\": 4674}, {\"threshold\": 0.492, \"p\": 4610, \"fpr\": 0.35579803166452717, \"tpr\": 0.6290672451193059, \"n\": 4674}, {\"threshold\": 0.493, \"p\": 4610, \"fpr\": 0.35579803166452717, \"tpr\": 0.6290672451193059, \"n\": 4674}, {\"threshold\": 0.494, \"p\": 4610, \"fpr\": 0.35430038510911427, \"tpr\": 0.627765726681128, \"n\": 4674}, {\"threshold\": 0.495, \"p\": 4610, \"fpr\": 0.35430038510911427, \"tpr\": 0.627765726681128, \"n\": 4674}, {\"threshold\": 0.496, \"p\": 4610, \"fpr\": 0.35430038510911427, \"tpr\": 0.627765726681128, \"n\": 4674}, {\"threshold\": 0.497, \"p\": 4610, \"fpr\": 0.35430038510911427, \"tpr\": 0.627765726681128, \"n\": 4674}, {\"threshold\": 0.498, \"p\": 4610, \"fpr\": 0.35430038510911427, \"tpr\": 0.627765726681128, \"n\": 4674}, {\"threshold\": 0.499, \"p\": 4610, \"fpr\": 0.35430038510911427, \"tpr\": 0.627765726681128, \"n\": 4674}, {\"threshold\": 0.5, \"p\": 4610, \"fpr\": 0.35430038510911427, \"tpr\": 0.627765726681128, \"n\": 4674}, {\"threshold\": 0.501, \"p\": 4610, \"fpr\": 0.3540864356011981, \"tpr\": 0.627765726681128, \"n\": 4674}, {\"threshold\": 0.502, \"p\": 4610, \"fpr\": 0.3540864356011981, \"tpr\": 0.627765726681128, \"n\": 4674}, {\"threshold\": 0.503, \"p\": 4610, \"fpr\": 0.3540864356011981, \"tpr\": 0.627765726681128, \"n\": 4674}, {\"threshold\": 0.504, \"p\": 4610, \"fpr\": 0.3540864356011981, \"tpr\": 0.627765726681128, \"n\": 4674}, {\"threshold\": 0.505, \"p\": 4610, \"fpr\": 0.3540864356011981, \"tpr\": 0.627765726681128, \"n\": 4674}, {\"threshold\": 0.506, \"p\": 4610, \"fpr\": 0.33868207103123665, \"tpr\": 0.6127982646420824, \"n\": 4674}, {\"threshold\": 0.507, \"p\": 4610, \"fpr\": 0.3371844244758237, \"tpr\": 0.6119305856832972, \"n\": 4674}, {\"threshold\": 0.508, \"p\": 4610, \"fpr\": 0.3371844244758237, \"tpr\": 0.6119305856832972, \"n\": 4674}, {\"threshold\": 0.509, \"p\": 4610, \"fpr\": 0.3371844244758237, \"tpr\": 0.6119305856832972, \"n\": 4674}, {\"threshold\": 0.51, \"p\": 4610, \"fpr\": 0.3371844244758237, \"tpr\": 0.6119305856832972, \"n\": 4674}, {\"threshold\": 0.511, \"p\": 4610, \"fpr\": 0.3371844244758237, \"tpr\": 0.6119305856832972, \"n\": 4674}, {\"threshold\": 0.512, \"p\": 4610, \"fpr\": 0.3371844244758237, \"tpr\": 0.6119305856832972, \"n\": 4674}, {\"threshold\": 0.513, \"p\": 4610, \"fpr\": 0.3371844244758237, \"tpr\": 0.6119305856832972, \"n\": 4674}, {\"threshold\": 0.514, \"p\": 4610, \"fpr\": 0.3371844244758237, \"tpr\": 0.6119305856832972, \"n\": 4674}, {\"threshold\": 0.515, \"p\": 4610, \"fpr\": 0.3371844244758237, \"tpr\": 0.6119305856832972, \"n\": 4674}, {\"threshold\": 0.516, \"p\": 4610, \"fpr\": 0.3371844244758237, \"tpr\": 0.6119305856832972, \"n\": 4674}, {\"threshold\": 0.517, \"p\": 4610, \"fpr\": 0.22614462986735132, \"tpr\": 0.4780911062906725, \"n\": 4674}, {\"threshold\": 0.518, \"p\": 4610, \"fpr\": 0.22614462986735132, \"tpr\": 0.4780911062906725, \"n\": 4674}, {\"threshold\": 0.519, \"p\": 4610, \"fpr\": 0.22614462986735132, \"tpr\": 0.4780911062906725, \"n\": 4674}, {\"threshold\": 0.52, \"p\": 4610, \"fpr\": 0.22614462986735132, \"tpr\": 0.4780911062906725, \"n\": 4674}, {\"threshold\": 0.521, \"p\": 4610, \"fpr\": 0.22614462986735132, \"tpr\": 0.4780911062906725, \"n\": 4674}, {\"threshold\": 0.522, \"p\": 4610, \"fpr\": 0.1514762516046213, \"tpr\": 0.3776572668112798, \"n\": 4674}, {\"threshold\": 0.523, \"p\": 4610, \"fpr\": 0.1514762516046213, \"tpr\": 0.3776572668112798, \"n\": 4674}, {\"threshold\": 0.524, \"p\": 4610, \"fpr\": 0.1514762516046213, \"tpr\": 0.3776572668112798, \"n\": 4674}, {\"threshold\": 0.525, \"p\": 4610, \"fpr\": 0.1514762516046213, \"tpr\": 0.3776572668112798, \"n\": 4674}, {\"threshold\": 0.526, \"p\": 4610, \"fpr\": 0.1514762516046213, \"tpr\": 0.3776572668112798, \"n\": 4674}, {\"threshold\": 0.527, \"p\": 4610, \"fpr\": 0.1514762516046213, \"tpr\": 0.3776572668112798, \"n\": 4674}, {\"threshold\": 0.528, \"p\": 4610, \"fpr\": 0.1514762516046213, \"tpr\": 0.3776572668112798, \"n\": 4674}, {\"threshold\": 0.529, \"p\": 4610, \"fpr\": 0.1514762516046213, \"tpr\": 0.3776572668112798, \"n\": 4674}, {\"threshold\": 0.53, \"p\": 4610, \"fpr\": 0.15104835258878904, \"tpr\": 0.3776572668112798, \"n\": 4674}, {\"threshold\": 0.531, \"p\": 4610, \"fpr\": 0.15104835258878904, \"tpr\": 0.3776572668112798, \"n\": 4674}, {\"threshold\": 0.532, \"p\": 4610, \"fpr\": 0.15104835258878904, \"tpr\": 0.3776572668112798, \"n\": 4674}, {\"threshold\": 0.533, \"p\": 4610, \"fpr\": 0.15104835258878904, \"tpr\": 0.3776572668112798, \"n\": 4674}, {\"threshold\": 0.534, \"p\": 4610, \"fpr\": 0.15104835258878904, \"tpr\": 0.3776572668112798, \"n\": 4674}, {\"threshold\": 0.535, \"p\": 4610, \"fpr\": 0.15104835258878904, \"tpr\": 0.3776572668112798, \"n\": 4674}, {\"threshold\": 0.536, \"p\": 4610, \"fpr\": 0.1433461703038083, \"tpr\": 0.3594360086767896, \"n\": 4674}, {\"threshold\": 0.537, \"p\": 4610, \"fpr\": 0.1433461703038083, \"tpr\": 0.3594360086767896, \"n\": 4674}, {\"threshold\": 0.538, \"p\": 4610, \"fpr\": 0.1433461703038083, \"tpr\": 0.3594360086767896, \"n\": 4674}, {\"threshold\": 0.539, \"p\": 4610, \"fpr\": 0.1433461703038083, \"tpr\": 0.3594360086767896, \"n\": 4674}, {\"threshold\": 0.54, \"p\": 4610, \"fpr\": 0.1433461703038083, \"tpr\": 0.3594360086767896, \"n\": 4674}, {\"threshold\": 0.541, \"p\": 4610, \"fpr\": 0.1433461703038083, \"tpr\": 0.3594360086767896, \"n\": 4674}, {\"threshold\": 0.542, \"p\": 4610, \"fpr\": 0.1433461703038083, \"tpr\": 0.3594360086767896, \"n\": 4674}, {\"threshold\": 0.543, \"p\": 4610, \"fpr\": 0.1433461703038083, \"tpr\": 0.3594360086767896, \"n\": 4674}, {\"threshold\": 0.544, \"p\": 4610, \"fpr\": 0.1433461703038083, \"tpr\": 0.3594360086767896, \"n\": 4674}, {\"threshold\": 0.545, \"p\": 4610, \"fpr\": 0.1433461703038083, \"tpr\": 0.3594360086767896, \"n\": 4674}, {\"threshold\": 0.546, \"p\": 4610, \"fpr\": 0.1433461703038083, \"tpr\": 0.3594360086767896, \"n\": 4674}, {\"threshold\": 0.547, \"p\": 4610, \"fpr\": 0.1386392811296534, \"tpr\": 0.3431670281995662, \"n\": 4674}, {\"threshold\": 0.548, \"p\": 4610, \"fpr\": 0.0464270432178006, \"tpr\": 0.17136659436008678, \"n\": 4674}, {\"threshold\": 0.549, \"p\": 4610, \"fpr\": 0.0464270432178006, \"tpr\": 0.17136659436008678, \"n\": 4674}, {\"threshold\": 0.55, \"p\": 4610, \"fpr\": 0.0464270432178006, \"tpr\": 0.17136659436008678, \"n\": 4674}, {\"threshold\": 0.551, \"p\": 4610, \"fpr\": 0.0464270432178006, \"tpr\": 0.17136659436008678, \"n\": 4674}, {\"threshold\": 0.552, \"p\": 4610, \"fpr\": 0.0464270432178006, \"tpr\": 0.17136659436008678, \"n\": 4674}, {\"threshold\": 0.553, \"p\": 4610, \"fpr\": 0.0464270432178006, \"tpr\": 0.17136659436008678, \"n\": 4674}, {\"threshold\": 0.554, \"p\": 4610, \"fpr\": 0.0464270432178006, \"tpr\": 0.17136659436008678, \"n\": 4674}, {\"threshold\": 0.555, \"p\": 4610, \"fpr\": 0.0464270432178006, \"tpr\": 0.17136659436008678, \"n\": 4674}, {\"threshold\": 0.556, \"p\": 4610, \"fpr\": 0.0464270432178006, \"tpr\": 0.17136659436008678, \"n\": 4674}, {\"threshold\": 0.557, \"p\": 4610, \"fpr\": 0.0464270432178006, \"tpr\": 0.17136659436008678, \"n\": 4674}, {\"threshold\": 0.558, \"p\": 4610, \"fpr\": 0.0464270432178006, \"tpr\": 0.17136659436008678, \"n\": 4674}, {\"threshold\": 0.559, \"p\": 4610, \"fpr\": 0.0464270432178006, \"tpr\": 0.17136659436008678, \"n\": 4674}, {\"threshold\": 0.56, \"p\": 4610, \"fpr\": 0.044501497646555414, \"tpr\": 0.16941431670281995, \"n\": 4674}, {\"threshold\": 0.561, \"p\": 4610, \"fpr\": 0.044501497646555414, \"tpr\": 0.16941431670281995, \"n\": 4674}, {\"threshold\": 0.562, \"p\": 4610, \"fpr\": 0.044501497646555414, \"tpr\": 0.16941431670281995, \"n\": 4674}, {\"threshold\": 0.563, \"p\": 4610, \"fpr\": 0.04000855798031665, \"tpr\": 0.15986984815618221, \"n\": 4674}, {\"threshold\": 0.564, \"p\": 4610, \"fpr\": 0.03979460847240052, \"tpr\": 0.15921908893709327, \"n\": 4674}, {\"threshold\": 0.565, \"p\": 4610, \"fpr\": 0.03979460847240052, \"tpr\": 0.15921908893709327, \"n\": 4674}, {\"threshold\": 0.566, \"p\": 4610, \"fpr\": 0.03979460847240052, \"tpr\": 0.15921908893709327, \"n\": 4674}, {\"threshold\": 0.567, \"p\": 4610, \"fpr\": 0.03979460847240052, \"tpr\": 0.15921908893709327, \"n\": 4674}, {\"threshold\": 0.568, \"p\": 4610, \"fpr\": 0.03979460847240052, \"tpr\": 0.15921908893709327, \"n\": 4674}, {\"threshold\": 0.569, \"p\": 4610, \"fpr\": 0.03979460847240052, \"tpr\": 0.15921908893709327, \"n\": 4674}, {\"threshold\": 0.57, \"p\": 4610, \"fpr\": 0.03979460847240052, \"tpr\": 0.15921908893709327, \"n\": 4674}, {\"threshold\": 0.571, \"p\": 4610, \"fpr\": 0.03979460847240052, \"tpr\": 0.15921908893709327, \"n\": 4674}, {\"threshold\": 0.572, \"p\": 4610, \"fpr\": 0.03979460847240052, \"tpr\": 0.15921908893709327, \"n\": 4674}, {\"threshold\": 0.573, \"p\": 4610, \"fpr\": 0.03979460847240052, \"tpr\": 0.15921908893709327, \"n\": 4674}, {\"threshold\": 0.574, \"p\": 4610, \"fpr\": 0.03979460847240052, \"tpr\": 0.15921908893709327, \"n\": 4674}, {\"threshold\": 0.575, \"p\": 4610, \"fpr\": 0.03979460847240052, \"tpr\": 0.15921908893709327, \"n\": 4674}, {\"threshold\": 0.576, \"p\": 4610, \"fpr\": 0.03979460847240052, \"tpr\": 0.15921908893709327, \"n\": 4674}, {\"threshold\": 0.577, \"p\": 4610, \"fpr\": 0.03979460847240052, \"tpr\": 0.15921908893709327, \"n\": 4674}, {\"threshold\": 0.578, \"p\": 4610, \"fpr\": 0.03979460847240052, \"tpr\": 0.15921908893709327, \"n\": 4674}, {\"threshold\": 0.579, \"p\": 4610, \"fpr\": 0.02610183996576808, \"tpr\": 0.11301518438177874, \"n\": 4674}, {\"threshold\": 0.58, \"p\": 4610, \"fpr\": 0.02610183996576808, \"tpr\": 0.11301518438177874, \"n\": 4674}, {\"threshold\": 0.581, \"p\": 4610, \"fpr\": 0.02610183996576808, \"tpr\": 0.11301518438177874, \"n\": 4674}, {\"threshold\": 0.582, \"p\": 4610, \"fpr\": 0.02610183996576808, \"tpr\": 0.11301518438177874, \"n\": 4674}, {\"threshold\": 0.583, \"p\": 4610, \"fpr\": 0.02610183996576808, \"tpr\": 0.11301518438177874, \"n\": 4674}, {\"threshold\": 0.584, \"p\": 4610, \"fpr\": 0.02610183996576808, \"tpr\": 0.11301518438177874, \"n\": 4674}, {\"threshold\": 0.585, \"p\": 4610, \"fpr\": 0.02610183996576808, \"tpr\": 0.11301518438177874, \"n\": 4674}, {\"threshold\": 0.586, \"p\": 4610, \"fpr\": 0.02610183996576808, \"tpr\": 0.11301518438177874, \"n\": 4674}, {\"threshold\": 0.587, \"p\": 4610, \"fpr\": 0.010269576379974325, \"tpr\": 0.07136659436008677, \"n\": 4674}, {\"threshold\": 0.588, \"p\": 4610, \"fpr\": 0.010269576379974325, \"tpr\": 0.06919739696312364, \"n\": 4674}, {\"threshold\": 0.589, \"p\": 4610, \"fpr\": 0.010269576379974325, \"tpr\": 0.06919739696312364, \"n\": 4674}, {\"threshold\": 0.59, \"p\": 4610, \"fpr\": 0.010055626872058195, \"tpr\": 0.06876355748373102, \"n\": 4674}, {\"threshold\": 0.591, \"p\": 4610, \"fpr\": 0.010055626872058195, \"tpr\": 0.06876355748373102, \"n\": 4674}, {\"threshold\": 0.592, \"p\": 4610, \"fpr\": 0.010055626872058195, \"tpr\": 0.06876355748373102, \"n\": 4674}, {\"threshold\": 0.593, \"p\": 4610, \"fpr\": 0.010055626872058195, \"tpr\": 0.06876355748373102, \"n\": 4674}, {\"threshold\": 0.594, \"p\": 4610, \"fpr\": 0.010055626872058195, \"tpr\": 0.06876355748373102, \"n\": 4674}, {\"threshold\": 0.595, \"p\": 4610, \"fpr\": 0.010055626872058195, \"tpr\": 0.06876355748373102, \"n\": 4674}, {\"threshold\": 0.596, \"p\": 4610, \"fpr\": 0.010055626872058195, \"tpr\": 0.06876355748373102, \"n\": 4674}, {\"threshold\": 0.597, \"p\": 4610, \"fpr\": 0.010055626872058195, \"tpr\": 0.06876355748373102, \"n\": 4674}, {\"threshold\": 0.598, \"p\": 4610, \"fpr\": 0.010055626872058195, \"tpr\": 0.06876355748373102, \"n\": 4674}, {\"threshold\": 0.599, \"p\": 4610, \"fpr\": 0.010055626872058195, \"tpr\": 0.06876355748373102, \"n\": 4674}, {\"threshold\": 0.6, \"p\": 4610, \"fpr\": 0.010055626872058195, \"tpr\": 0.06876355748373102, \"n\": 4674}, {\"threshold\": 0.601, \"p\": 4610, \"fpr\": 0.010055626872058195, \"tpr\": 0.06876355748373102, \"n\": 4674}, {\"threshold\": 0.602, \"p\": 4610, \"fpr\": 0.010055626872058195, \"tpr\": 0.06876355748373102, \"n\": 4674}, {\"threshold\": 0.603, \"p\": 4610, \"fpr\": 0.010055626872058195, \"tpr\": 0.06876355748373102, \"n\": 4674}, {\"threshold\": 0.604, \"p\": 4610, \"fpr\": 0.010055626872058195, \"tpr\": 0.06876355748373102, \"n\": 4674}, {\"threshold\": 0.605, \"p\": 4610, \"fpr\": 0.010055626872058195, \"tpr\": 0.06876355748373102, \"n\": 4674}, {\"threshold\": 0.606, \"p\": 4610, \"fpr\": 0.010055626872058195, \"tpr\": 0.06876355748373102, \"n\": 4674}, {\"threshold\": 0.607, \"p\": 4610, \"fpr\": 0.010055626872058195, \"tpr\": 0.06876355748373102, \"n\": 4674}, {\"threshold\": 0.608, \"p\": 4610, \"fpr\": 0.010055626872058195, \"tpr\": 0.06876355748373102, \"n\": 4674}, {\"threshold\": 0.609, \"p\": 4610, \"fpr\": 0.0, \"tpr\": 0.0, \"n\": 4674}, {\"threshold\": 0.61, \"p\": 4610, \"fpr\": 0.0, \"tpr\": 0.0, \"n\": 4674}, {\"threshold\": 0.611, \"p\": 4610, \"fpr\": 0.0, \"tpr\": 0.0, \"n\": 4674}, {\"threshold\": 0.612, \"p\": 4610, \"fpr\": 0.0, \"tpr\": 0.0, \"n\": 4674}, {\"threshold\": 0.613, \"p\": 4610, \"fpr\": 0.0, \"tpr\": 0.0, \"n\": 4674}, {\"threshold\": 0.614, \"p\": 4610, \"fpr\": 0.0, \"tpr\": 0.0, \"n\": 4674}, {\"threshold\": 0.615, \"p\": 4610, \"fpr\": 0.0, \"tpr\": 0.0, \"n\": 4674}, {\"threshold\": 0.616, \"p\": 4610, \"fpr\": 0.0, \"tpr\": 0.0, \"n\": 4674}, {\"threshold\": 0.617, \"p\": 4610, \"fpr\": 0.0, \"tpr\": 0.0, \"n\": 4674}, {\"threshold\": 0.618, \"p\": 4610, \"fpr\": 0.0, \"tpr\": 0.0, \"n\": 4674}, {\"threshold\": 0.619, \"p\": 4610, \"fpr\": 0.0, \"tpr\": 0.0, \"n\": 4674}, {\"threshold\": 0.62, \"p\": 4610, \"fpr\": 0.0, \"tpr\": 0.0, \"n\": 4674}, {\"threshold\": 0.621, \"p\": 4610, \"fpr\": 0.0, \"tpr\": 0.0, \"n\": 4674}, {\"threshold\": 0.622, \"p\": 4610, \"fpr\": 0.0, \"tpr\": 0.0, \"n\": 4674}, {\"threshold\": 0.623, \"p\": 4610, \"fpr\": 0.0, \"tpr\": 0.0, \"n\": 4674}, {\"threshold\": 0.624, \"p\": 4610, \"fpr\": 0.0, \"tpr\": 0.0, \"n\": 4674}, {\"threshold\": 0.625, \"p\": 4610, \"fpr\": 0.0, \"tpr\": 0.0, \"n\": 4674}, {\"threshold\": 0.626, \"p\": 4610, \"fpr\": 0.0, \"tpr\": 0.0, \"n\": 4674}, {\"threshold\": 0.627, \"p\": 4610, \"fpr\": 0.0, \"tpr\": 0.0, \"n\": 4674}, {\"threshold\": 0.628, \"p\": 4610, \"fpr\": 0.0, \"tpr\": 0.0, \"n\": 4674}, {\"threshold\": 0.629, \"p\": 4610, \"fpr\": 0.0, \"tpr\": 0.0, \"n\": 4674}, {\"threshold\": 0.63, \"p\": 4610, \"fpr\": 0.0, \"tpr\": 0.0, \"n\": 4674}, {\"threshold\": 0.631, \"p\": 4610, \"fpr\": 0.0, \"tpr\": 0.0, \"n\": 4674}, {\"threshold\": 0.632, \"p\": 4610, \"fpr\": 0.0, \"tpr\": 0.0, \"n\": 4674}, {\"threshold\": 0.633, \"p\": 4610, \"fpr\": 0.0, \"tpr\": 0.0, \"n\": 4674}, {\"threshold\": 0.634, \"p\": 4610, \"fpr\": 0.0, \"tpr\": 0.0, \"n\": 4674}, {\"threshold\": 0.635, \"p\": 4610, \"fpr\": 0.0, \"tpr\": 0.0, \"n\": 4674}, {\"threshold\": 0.636, \"p\": 4610, \"fpr\": 0.0, \"tpr\": 0.0, \"n\": 4674}, {\"threshold\": 0.637, \"p\": 4610, \"fpr\": 0.0, \"tpr\": 0.0, \"n\": 4674}, {\"threshold\": 0.638, \"p\": 4610, \"fpr\": 0.0, \"tpr\": 0.0, \"n\": 4674}, {\"threshold\": 0.639, \"p\": 4610, \"fpr\": 0.0, \"tpr\": 0.0, \"n\": 4674}, {\"threshold\": 0.64, \"p\": 4610, \"fpr\": 0.0, \"tpr\": 0.0, \"n\": 4674}, {\"threshold\": 0.641, \"p\": 4610, \"fpr\": 0.0, \"tpr\": 0.0, \"n\": 4674}, {\"threshold\": 0.642, \"p\": 4610, \"fpr\": 0.0, \"tpr\": 0.0, \"n\": 4674}, {\"threshold\": 0.643, \"p\": 4610, \"fpr\": 0.0, \"tpr\": 0.0, \"n\": 4674}, {\"threshold\": 0.644, \"p\": 4610, \"fpr\": 0.0, \"tpr\": 0.0, \"n\": 4674}, {\"threshold\": 0.645, \"p\": 4610, \"fpr\": 0.0, \"tpr\": 0.0, \"n\": 4674}, {\"threshold\": 0.646, \"p\": 4610, \"fpr\": 0.0, \"tpr\": 0.0, \"n\": 4674}, {\"threshold\": 0.647, \"p\": 4610, \"fpr\": 0.0, \"tpr\": 0.0, \"n\": 4674}, {\"threshold\": 0.648, \"p\": 4610, \"fpr\": 0.0, \"tpr\": 0.0, \"n\": 4674}, {\"threshold\": 0.649, \"p\": 4610, \"fpr\": 0.0, \"tpr\": 0.0, \"n\": 4674}, {\"threshold\": 0.65, \"p\": 4610, \"fpr\": 0.0, \"tpr\": 0.0, \"n\": 4674}, {\"threshold\": 0.651, \"p\": 4610, \"fpr\": 0.0, \"tpr\": 0.0, \"n\": 4674}, {\"threshold\": 0.652, \"p\": 4610, \"fpr\": 0.0, \"tpr\": 0.0, \"n\": 4674}, {\"threshold\": 0.653, \"p\": 4610, \"fpr\": 0.0, \"tpr\": 0.0, \"n\": 4674}, {\"threshold\": 0.654, \"p\": 4610, \"fpr\": 0.0, \"tpr\": 0.0, \"n\": 4674}, {\"threshold\": 0.655, \"p\": 4610, \"fpr\": 0.0, \"tpr\": 0.0, \"n\": 4674}, {\"threshold\": 0.656, \"p\": 4610, \"fpr\": 0.0, \"tpr\": 0.0, \"n\": 4674}, {\"threshold\": 0.657, \"p\": 4610, \"fpr\": 0.0, \"tpr\": 0.0, \"n\": 4674}, {\"threshold\": 0.658, \"p\": 4610, \"fpr\": 0.0, \"tpr\": 0.0, \"n\": 4674}, {\"threshold\": 0.659, \"p\": 4610, \"fpr\": 0.0, \"tpr\": 0.0, \"n\": 4674}, {\"threshold\": 0.66, \"p\": 4610, \"fpr\": 0.0, \"tpr\": 0.0, \"n\": 4674}, {\"threshold\": 0.661, \"p\": 4610, \"fpr\": 0.0, \"tpr\": 0.0, \"n\": 4674}, {\"threshold\": 0.662, \"p\": 4610, \"fpr\": 0.0, \"tpr\": 0.0, \"n\": 4674}, {\"threshold\": 0.663, \"p\": 4610, \"fpr\": 0.0, \"tpr\": 0.0, \"n\": 4674}, {\"threshold\": 0.664, \"p\": 4610, \"fpr\": 0.0, \"tpr\": 0.0, \"n\": 4674}, {\"threshold\": 0.665, \"p\": 4610, \"fpr\": 0.0, \"tpr\": 0.0, \"n\": 4674}, {\"threshold\": 0.666, \"p\": 4610, \"fpr\": 0.0, \"tpr\": 0.0, \"n\": 4674}, {\"threshold\": 0.667, \"p\": 4610, \"fpr\": 0.0, \"tpr\": 0.0, \"n\": 4674}, {\"threshold\": 0.668, \"p\": 4610, \"fpr\": 0.0, \"tpr\": 0.0, \"n\": 4674}, {\"threshold\": 0.669, \"p\": 4610, \"fpr\": 0.0, \"tpr\": 0.0, \"n\": 4674}, {\"threshold\": 0.67, \"p\": 4610, \"fpr\": 0.0, \"tpr\": 0.0, \"n\": 4674}, {\"threshold\": 0.671, \"p\": 4610, \"fpr\": 0.0, \"tpr\": 0.0, \"n\": 4674}, {\"threshold\": 0.672, \"p\": 4610, \"fpr\": 0.0, \"tpr\": 0.0, \"n\": 4674}, {\"threshold\": 0.673, \"p\": 4610, \"fpr\": 0.0, \"tpr\": 0.0, \"n\": 4674}, {\"threshold\": 0.674, \"p\": 4610, \"fpr\": 0.0, \"tpr\": 0.0, \"n\": 4674}, {\"threshold\": 0.675, \"p\": 4610, \"fpr\": 0.0, \"tpr\": 0.0, \"n\": 4674}, {\"threshold\": 0.676, \"p\": 4610, \"fpr\": 0.0, \"tpr\": 0.0, \"n\": 4674}, {\"threshold\": 0.677, \"p\": 4610, \"fpr\": 0.0, \"tpr\": 0.0, \"n\": 4674}, {\"threshold\": 0.678, \"p\": 4610, \"fpr\": 0.0, \"tpr\": 0.0, \"n\": 4674}, {\"threshold\": 0.679, \"p\": 4610, \"fpr\": 0.0, \"tpr\": 0.0, \"n\": 4674}, {\"threshold\": 0.68, \"p\": 4610, \"fpr\": 0.0, \"tpr\": 0.0, \"n\": 4674}, {\"threshold\": 0.681, \"p\": 4610, \"fpr\": 0.0, \"tpr\": 0.0, \"n\": 4674}, {\"threshold\": 0.682, \"p\": 4610, \"fpr\": 0.0, \"tpr\": 0.0, \"n\": 4674}, {\"threshold\": 0.683, \"p\": 4610, \"fpr\": 0.0, \"tpr\": 0.0, \"n\": 4674}, {\"threshold\": 0.684, \"p\": 4610, \"fpr\": 0.0, \"tpr\": 0.0, \"n\": 4674}, {\"threshold\": 0.685, \"p\": 4610, \"fpr\": 0.0, \"tpr\": 0.0, \"n\": 4674}, {\"threshold\": 0.686, \"p\": 4610, \"fpr\": 0.0, \"tpr\": 0.0, \"n\": 4674}, {\"threshold\": 0.687, \"p\": 4610, \"fpr\": 0.0, \"tpr\": 0.0, \"n\": 4674}, {\"threshold\": 0.688, \"p\": 4610, \"fpr\": 0.0, \"tpr\": 0.0, \"n\": 4674}, {\"threshold\": 0.689, \"p\": 4610, \"fpr\": 0.0, \"tpr\": 0.0, \"n\": 4674}, {\"threshold\": 0.69, \"p\": 4610, \"fpr\": 0.0, \"tpr\": 0.0, \"n\": 4674}, {\"threshold\": 0.691, \"p\": 4610, \"fpr\": 0.0, \"tpr\": 0.0, \"n\": 4674}, {\"threshold\": 0.692, \"p\": 4610, \"fpr\": 0.0, \"tpr\": 0.0, \"n\": 4674}, {\"threshold\": 0.693, \"p\": 4610, \"fpr\": 0.0, \"tpr\": 0.0, \"n\": 4674}, {\"threshold\": 0.694, \"p\": 4610, \"fpr\": 0.0, \"tpr\": 0.0, \"n\": 4674}, {\"threshold\": 0.695, \"p\": 4610, \"fpr\": 0.0, \"tpr\": 0.0, \"n\": 4674}, {\"threshold\": 0.696, \"p\": 4610, \"fpr\": 0.0, \"tpr\": 0.0, \"n\": 4674}, {\"threshold\": 0.697, \"p\": 4610, \"fpr\": 0.0, \"tpr\": 0.0, \"n\": 4674}, {\"threshold\": 0.698, \"p\": 4610, \"fpr\": 0.0, \"tpr\": 0.0, \"n\": 4674}, {\"threshold\": 0.699, \"p\": 4610, \"fpr\": 0.0, \"tpr\": 0.0, \"n\": 4674}, {\"threshold\": 0.7, \"p\": 4610, \"fpr\": 0.0, \"tpr\": 0.0, \"n\": 4674}, {\"threshold\": 0.701, \"p\": 4610, \"fpr\": 0.0, \"tpr\": 0.0, \"n\": 4674}, {\"threshold\": 0.702, \"p\": 4610, \"fpr\": 0.0, \"tpr\": 0.0, \"n\": 4674}, {\"threshold\": 0.703, \"p\": 4610, \"fpr\": 0.0, \"tpr\": 0.0, \"n\": 4674}, {\"threshold\": 0.704, \"p\": 4610, \"fpr\": 0.0, \"tpr\": 0.0, \"n\": 4674}, {\"threshold\": 0.705, \"p\": 4610, \"fpr\": 0.0, \"tpr\": 0.0, \"n\": 4674}, {\"threshold\": 0.706, \"p\": 4610, \"fpr\": 0.0, \"tpr\": 0.0, \"n\": 4674}, {\"threshold\": 0.707, \"p\": 4610, \"fpr\": 0.0, \"tpr\": 0.0, \"n\": 4674}, {\"threshold\": 0.708, \"p\": 4610, \"fpr\": 0.0, \"tpr\": 0.0, \"n\": 4674}, {\"threshold\": 0.709, \"p\": 4610, \"fpr\": 0.0, \"tpr\": 0.0, \"n\": 4674}, {\"threshold\": 0.71, \"p\": 4610, \"fpr\": 0.0, \"tpr\": 0.0, \"n\": 4674}, {\"threshold\": 0.711, \"p\": 4610, \"fpr\": 0.0, \"tpr\": 0.0, \"n\": 4674}, {\"threshold\": 0.712, \"p\": 4610, \"fpr\": 0.0, \"tpr\": 0.0, \"n\": 4674}, {\"threshold\": 0.713, \"p\": 4610, \"fpr\": 0.0, \"tpr\": 0.0, \"n\": 4674}, {\"threshold\": 0.714, \"p\": 4610, \"fpr\": 0.0, \"tpr\": 0.0, \"n\": 4674}, {\"threshold\": 0.715, \"p\": 4610, \"fpr\": 0.0, \"tpr\": 0.0, \"n\": 4674}, {\"threshold\": 0.716, \"p\": 4610, \"fpr\": 0.0, \"tpr\": 0.0, \"n\": 4674}, {\"threshold\": 0.717, \"p\": 4610, \"fpr\": 0.0, \"tpr\": 0.0, \"n\": 4674}, {\"threshold\": 0.718, \"p\": 4610, \"fpr\": 0.0, \"tpr\": 0.0, \"n\": 4674}, {\"threshold\": 0.719, \"p\": 4610, \"fpr\": 0.0, \"tpr\": 0.0, \"n\": 4674}, {\"threshold\": 0.72, \"p\": 4610, \"fpr\": 0.0, \"tpr\": 0.0, \"n\": 4674}, {\"threshold\": 0.721, \"p\": 4610, \"fpr\": 0.0, \"tpr\": 0.0, \"n\": 4674}, {\"threshold\": 0.722, \"p\": 4610, \"fpr\": 0.0, \"tpr\": 0.0, \"n\": 4674}, {\"threshold\": 0.723, \"p\": 4610, \"fpr\": 0.0, \"tpr\": 0.0, \"n\": 4674}, {\"threshold\": 0.724, \"p\": 4610, \"fpr\": 0.0, \"tpr\": 0.0, \"n\": 4674}, {\"threshold\": 0.725, \"p\": 4610, \"fpr\": 0.0, \"tpr\": 0.0, \"n\": 4674}, {\"threshold\": 0.726, \"p\": 4610, \"fpr\": 0.0, \"tpr\": 0.0, \"n\": 4674}, {\"threshold\": 0.727, \"p\": 4610, \"fpr\": 0.0, \"tpr\": 0.0, \"n\": 4674}, {\"threshold\": 0.728, \"p\": 4610, \"fpr\": 0.0, \"tpr\": 0.0, \"n\": 4674}, {\"threshold\": 0.729, \"p\": 4610, \"fpr\": 0.0, \"tpr\": 0.0, \"n\": 4674}, {\"threshold\": 0.73, \"p\": 4610, \"fpr\": 0.0, \"tpr\": 0.0, \"n\": 4674}, {\"threshold\": 0.731, \"p\": 4610, \"fpr\": 0.0, \"tpr\": 0.0, \"n\": 4674}, {\"threshold\": 0.732, \"p\": 4610, \"fpr\": 0.0, \"tpr\": 0.0, \"n\": 4674}, {\"threshold\": 0.733, \"p\": 4610, \"fpr\": 0.0, \"tpr\": 0.0, \"n\": 4674}, {\"threshold\": 0.734, \"p\": 4610, \"fpr\": 0.0, \"tpr\": 0.0, \"n\": 4674}, {\"threshold\": 0.735, \"p\": 4610, \"fpr\": 0.0, \"tpr\": 0.0, \"n\": 4674}, {\"threshold\": 0.736, \"p\": 4610, \"fpr\": 0.0, \"tpr\": 0.0, \"n\": 4674}, {\"threshold\": 0.737, \"p\": 4610, \"fpr\": 0.0, \"tpr\": 0.0, \"n\": 4674}, {\"threshold\": 0.738, \"p\": 4610, \"fpr\": 0.0, \"tpr\": 0.0, \"n\": 4674}, {\"threshold\": 0.739, \"p\": 4610, \"fpr\": 0.0, \"tpr\": 0.0, \"n\": 4674}, {\"threshold\": 0.74, \"p\": 4610, \"fpr\": 0.0, \"tpr\": 0.0, \"n\": 4674}, {\"threshold\": 0.741, \"p\": 4610, \"fpr\": 0.0, \"tpr\": 0.0, \"n\": 4674}, {\"threshold\": 0.742, \"p\": 4610, \"fpr\": 0.0, \"tpr\": 0.0, \"n\": 4674}, {\"threshold\": 0.743, \"p\": 4610, \"fpr\": 0.0, \"tpr\": 0.0, \"n\": 4674}, {\"threshold\": 0.744, \"p\": 4610, \"fpr\": 0.0, \"tpr\": 0.0, \"n\": 4674}, {\"threshold\": 0.745, \"p\": 4610, \"fpr\": 0.0, \"tpr\": 0.0, \"n\": 4674}, {\"threshold\": 0.746, \"p\": 4610, \"fpr\": 0.0, \"tpr\": 0.0, \"n\": 4674}, {\"threshold\": 0.747, \"p\": 4610, \"fpr\": 0.0, \"tpr\": 0.0, \"n\": 4674}, {\"threshold\": 0.748, \"p\": 4610, \"fpr\": 0.0, \"tpr\": 0.0, \"n\": 4674}, {\"threshold\": 0.749, \"p\": 4610, \"fpr\": 0.0, \"tpr\": 0.0, \"n\": 4674}, {\"threshold\": 0.75, \"p\": 4610, \"fpr\": 0.0, \"tpr\": 0.0, \"n\": 4674}, {\"threshold\": 0.751, \"p\": 4610, \"fpr\": 0.0, \"tpr\": 0.0, \"n\": 4674}, {\"threshold\": 0.752, \"p\": 4610, \"fpr\": 0.0, \"tpr\": 0.0, \"n\": 4674}, {\"threshold\": 0.753, \"p\": 4610, \"fpr\": 0.0, \"tpr\": 0.0, \"n\": 4674}, {\"threshold\": 0.754, \"p\": 4610, \"fpr\": 0.0, \"tpr\": 0.0, \"n\": 4674}, {\"threshold\": 0.755, \"p\": 4610, \"fpr\": 0.0, \"tpr\": 0.0, \"n\": 4674}, {\"threshold\": 0.756, \"p\": 4610, \"fpr\": 0.0, \"tpr\": 0.0, \"n\": 4674}, {\"threshold\": 0.757, \"p\": 4610, \"fpr\": 0.0, \"tpr\": 0.0, \"n\": 4674}, {\"threshold\": 0.758, \"p\": 4610, \"fpr\": 0.0, \"tpr\": 0.0, \"n\": 4674}, {\"threshold\": 0.759, \"p\": 4610, \"fpr\": 0.0, \"tpr\": 0.0, \"n\": 4674}, {\"threshold\": 0.76, \"p\": 4610, \"fpr\": 0.0, \"tpr\": 0.0, \"n\": 4674}, {\"threshold\": 0.761, \"p\": 4610, \"fpr\": 0.0, \"tpr\": 0.0, \"n\": 4674}, {\"threshold\": 0.762, \"p\": 4610, \"fpr\": 0.0, \"tpr\": 0.0, \"n\": 4674}, {\"threshold\": 0.763, \"p\": 4610, \"fpr\": 0.0, \"tpr\": 0.0, \"n\": 4674}, {\"threshold\": 0.764, \"p\": 4610, \"fpr\": 0.0, \"tpr\": 0.0, \"n\": 4674}, {\"threshold\": 0.765, \"p\": 4610, \"fpr\": 0.0, \"tpr\": 0.0, \"n\": 4674}, {\"threshold\": 0.766, \"p\": 4610, \"fpr\": 0.0, \"tpr\": 0.0, \"n\": 4674}, {\"threshold\": 0.767, \"p\": 4610, \"fpr\": 0.0, \"tpr\": 0.0, \"n\": 4674}, {\"threshold\": 0.768, \"p\": 4610, \"fpr\": 0.0, \"tpr\": 0.0, \"n\": 4674}, {\"threshold\": 0.769, \"p\": 4610, \"fpr\": 0.0, \"tpr\": 0.0, \"n\": 4674}, {\"threshold\": 0.77, \"p\": 4610, \"fpr\": 0.0, \"tpr\": 0.0, \"n\": 4674}, {\"threshold\": 0.771, \"p\": 4610, \"fpr\": 0.0, \"tpr\": 0.0, \"n\": 4674}, {\"threshold\": 0.772, \"p\": 4610, \"fpr\": 0.0, \"tpr\": 0.0, \"n\": 4674}, {\"threshold\": 0.773, \"p\": 4610, \"fpr\": 0.0, \"tpr\": 0.0, \"n\": 4674}, {\"threshold\": 0.774, \"p\": 4610, \"fpr\": 0.0, \"tpr\": 0.0, \"n\": 4674}, {\"threshold\": 0.775, \"p\": 4610, \"fpr\": 0.0, \"tpr\": 0.0, \"n\": 4674}, {\"threshold\": 0.776, \"p\": 4610, \"fpr\": 0.0, \"tpr\": 0.0, \"n\": 4674}, {\"threshold\": 0.777, \"p\": 4610, \"fpr\": 0.0, \"tpr\": 0.0, \"n\": 4674}, {\"threshold\": 0.778, \"p\": 4610, \"fpr\": 0.0, \"tpr\": 0.0, \"n\": 4674}, {\"threshold\": 0.779, \"p\": 4610, \"fpr\": 0.0, \"tpr\": 0.0, \"n\": 4674}, {\"threshold\": 0.78, \"p\": 4610, \"fpr\": 0.0, \"tpr\": 0.0, \"n\": 4674}, {\"threshold\": 0.781, \"p\": 4610, \"fpr\": 0.0, \"tpr\": 0.0, \"n\": 4674}, {\"threshold\": 0.782, \"p\": 4610, \"fpr\": 0.0, \"tpr\": 0.0, \"n\": 4674}, {\"threshold\": 0.783, \"p\": 4610, \"fpr\": 0.0, \"tpr\": 0.0, \"n\": 4674}, {\"threshold\": 0.784, \"p\": 4610, \"fpr\": 0.0, \"tpr\": 0.0, \"n\": 4674}, {\"threshold\": 0.785, \"p\": 4610, \"fpr\": 0.0, \"tpr\": 0.0, \"n\": 4674}, {\"threshold\": 0.786, \"p\": 4610, \"fpr\": 0.0, \"tpr\": 0.0, \"n\": 4674}, {\"threshold\": 0.787, \"p\": 4610, \"fpr\": 0.0, \"tpr\": 0.0, \"n\": 4674}, {\"threshold\": 0.788, \"p\": 4610, \"fpr\": 0.0, \"tpr\": 0.0, \"n\": 4674}, {\"threshold\": 0.789, \"p\": 4610, \"fpr\": 0.0, \"tpr\": 0.0, \"n\": 4674}, {\"threshold\": 0.79, \"p\": 4610, \"fpr\": 0.0, \"tpr\": 0.0, \"n\": 4674}, {\"threshold\": 0.791, \"p\": 4610, \"fpr\": 0.0, \"tpr\": 0.0, \"n\": 4674}, {\"threshold\": 0.792, \"p\": 4610, \"fpr\": 0.0, \"tpr\": 0.0, \"n\": 4674}, {\"threshold\": 0.793, \"p\": 4610, \"fpr\": 0.0, \"tpr\": 0.0, \"n\": 4674}, {\"threshold\": 0.794, \"p\": 4610, \"fpr\": 0.0, \"tpr\": 0.0, \"n\": 4674}, {\"threshold\": 0.795, \"p\": 4610, \"fpr\": 0.0, \"tpr\": 0.0, \"n\": 4674}, {\"threshold\": 0.796, \"p\": 4610, \"fpr\": 0.0, \"tpr\": 0.0, \"n\": 4674}, {\"threshold\": 0.797, \"p\": 4610, \"fpr\": 0.0, \"tpr\": 0.0, \"n\": 4674}, {\"threshold\": 0.798, \"p\": 4610, \"fpr\": 0.0, \"tpr\": 0.0, \"n\": 4674}, {\"threshold\": 0.799, \"p\": 4610, \"fpr\": 0.0, \"tpr\": 0.0, \"n\": 4674}, {\"threshold\": 0.8, \"p\": 4610, \"fpr\": 0.0, \"tpr\": 0.0, \"n\": 4674}, {\"threshold\": 0.801, \"p\": 4610, \"fpr\": 0.0, \"tpr\": 0.0, \"n\": 4674}, {\"threshold\": 0.802, \"p\": 4610, \"fpr\": 0.0, \"tpr\": 0.0, \"n\": 4674}, {\"threshold\": 0.803, \"p\": 4610, \"fpr\": 0.0, \"tpr\": 0.0, \"n\": 4674}, {\"threshold\": 0.804, \"p\": 4610, \"fpr\": 0.0, \"tpr\": 0.0, \"n\": 4674}, {\"threshold\": 0.805, \"p\": 4610, \"fpr\": 0.0, \"tpr\": 0.0, \"n\": 4674}, {\"threshold\": 0.806, \"p\": 4610, \"fpr\": 0.0, \"tpr\": 0.0, \"n\": 4674}, {\"threshold\": 0.807, \"p\": 4610, \"fpr\": 0.0, \"tpr\": 0.0, \"n\": 4674}, {\"threshold\": 0.808, \"p\": 4610, \"fpr\": 0.0, \"tpr\": 0.0, \"n\": 4674}, {\"threshold\": 0.809, \"p\": 4610, \"fpr\": 0.0, \"tpr\": 0.0, \"n\": 4674}, {\"threshold\": 0.81, \"p\": 4610, \"fpr\": 0.0, \"tpr\": 0.0, \"n\": 4674}, {\"threshold\": 0.811, \"p\": 4610, \"fpr\": 0.0, \"tpr\": 0.0, \"n\": 4674}, {\"threshold\": 0.812, \"p\": 4610, \"fpr\": 0.0, \"tpr\": 0.0, \"n\": 4674}, {\"threshold\": 0.813, \"p\": 4610, \"fpr\": 0.0, \"tpr\": 0.0, \"n\": 4674}, {\"threshold\": 0.814, \"p\": 4610, \"fpr\": 0.0, \"tpr\": 0.0, \"n\": 4674}, {\"threshold\": 0.815, \"p\": 4610, \"fpr\": 0.0, \"tpr\": 0.0, \"n\": 4674}, {\"threshold\": 0.816, \"p\": 4610, \"fpr\": 0.0, \"tpr\": 0.0, \"n\": 4674}, {\"threshold\": 0.817, \"p\": 4610, \"fpr\": 0.0, \"tpr\": 0.0, \"n\": 4674}, {\"threshold\": 0.818, \"p\": 4610, \"fpr\": 0.0, \"tpr\": 0.0, \"n\": 4674}, {\"threshold\": 0.819, \"p\": 4610, \"fpr\": 0.0, \"tpr\": 0.0, \"n\": 4674}, {\"threshold\": 0.82, \"p\": 4610, \"fpr\": 0.0, \"tpr\": 0.0, \"n\": 4674}, {\"threshold\": 0.821, \"p\": 4610, \"fpr\": 0.0, \"tpr\": 0.0, \"n\": 4674}, {\"threshold\": 0.822, \"p\": 4610, \"fpr\": 0.0, \"tpr\": 0.0, \"n\": 4674}, {\"threshold\": 0.823, \"p\": 4610, \"fpr\": 0.0, \"tpr\": 0.0, \"n\": 4674}, {\"threshold\": 0.824, \"p\": 4610, \"fpr\": 0.0, \"tpr\": 0.0, \"n\": 4674}, {\"threshold\": 0.825, \"p\": 4610, \"fpr\": 0.0, \"tpr\": 0.0, \"n\": 4674}, {\"threshold\": 0.826, \"p\": 4610, \"fpr\": 0.0, \"tpr\": 0.0, \"n\": 4674}, {\"threshold\": 0.827, \"p\": 4610, \"fpr\": 0.0, \"tpr\": 0.0, \"n\": 4674}, {\"threshold\": 0.828, \"p\": 4610, \"fpr\": 0.0, \"tpr\": 0.0, \"n\": 4674}, {\"threshold\": 0.829, \"p\": 4610, \"fpr\": 0.0, \"tpr\": 0.0, \"n\": 4674}, {\"threshold\": 0.83, \"p\": 4610, \"fpr\": 0.0, \"tpr\": 0.0, \"n\": 4674}, {\"threshold\": 0.831, \"p\": 4610, \"fpr\": 0.0, \"tpr\": 0.0, \"n\": 4674}, {\"threshold\": 0.832, \"p\": 4610, \"fpr\": 0.0, \"tpr\": 0.0, \"n\": 4674}, {\"threshold\": 0.833, \"p\": 4610, \"fpr\": 0.0, \"tpr\": 0.0, \"n\": 4674}, {\"threshold\": 0.834, \"p\": 4610, \"fpr\": 0.0, \"tpr\": 0.0, \"n\": 4674}, {\"threshold\": 0.835, \"p\": 4610, \"fpr\": 0.0, \"tpr\": 0.0, \"n\": 4674}, {\"threshold\": 0.836, \"p\": 4610, \"fpr\": 0.0, \"tpr\": 0.0, \"n\": 4674}, {\"threshold\": 0.837, \"p\": 4610, \"fpr\": 0.0, \"tpr\": 0.0, \"n\": 4674}, {\"threshold\": 0.838, \"p\": 4610, \"fpr\": 0.0, \"tpr\": 0.0, \"n\": 4674}, {\"threshold\": 0.839, \"p\": 4610, \"fpr\": 0.0, \"tpr\": 0.0, \"n\": 4674}, {\"threshold\": 0.84, \"p\": 4610, \"fpr\": 0.0, \"tpr\": 0.0, \"n\": 4674}, {\"threshold\": 0.841, \"p\": 4610, \"fpr\": 0.0, \"tpr\": 0.0, \"n\": 4674}, {\"threshold\": 0.842, \"p\": 4610, \"fpr\": 0.0, \"tpr\": 0.0, \"n\": 4674}, {\"threshold\": 0.843, \"p\": 4610, \"fpr\": 0.0, \"tpr\": 0.0, \"n\": 4674}, {\"threshold\": 0.844, \"p\": 4610, \"fpr\": 0.0, \"tpr\": 0.0, \"n\": 4674}, {\"threshold\": 0.845, \"p\": 4610, \"fpr\": 0.0, \"tpr\": 0.0, \"n\": 4674}, {\"threshold\": 0.846, \"p\": 4610, \"fpr\": 0.0, \"tpr\": 0.0, \"n\": 4674}, {\"threshold\": 0.847, \"p\": 4610, \"fpr\": 0.0, \"tpr\": 0.0, \"n\": 4674}, {\"threshold\": 0.848, \"p\": 4610, \"fpr\": 0.0, \"tpr\": 0.0, \"n\": 4674}, {\"threshold\": 0.849, \"p\": 4610, \"fpr\": 0.0, \"tpr\": 0.0, \"n\": 4674}, {\"threshold\": 0.85, \"p\": 4610, \"fpr\": 0.0, \"tpr\": 0.0, \"n\": 4674}, {\"threshold\": 0.851, \"p\": 4610, \"fpr\": 0.0, \"tpr\": 0.0, \"n\": 4674}, {\"threshold\": 0.852, \"p\": 4610, \"fpr\": 0.0, \"tpr\": 0.0, \"n\": 4674}, {\"threshold\": 0.853, \"p\": 4610, \"fpr\": 0.0, \"tpr\": 0.0, \"n\": 4674}, {\"threshold\": 0.854, \"p\": 4610, \"fpr\": 0.0, \"tpr\": 0.0, \"n\": 4674}, {\"threshold\": 0.855, \"p\": 4610, \"fpr\": 0.0, \"tpr\": 0.0, \"n\": 4674}, {\"threshold\": 0.856, \"p\": 4610, \"fpr\": 0.0, \"tpr\": 0.0, \"n\": 4674}, {\"threshold\": 0.857, \"p\": 4610, \"fpr\": 0.0, \"tpr\": 0.0, \"n\": 4674}, {\"threshold\": 0.858, \"p\": 4610, \"fpr\": 0.0, \"tpr\": 0.0, \"n\": 4674}, {\"threshold\": 0.859, \"p\": 4610, \"fpr\": 0.0, \"tpr\": 0.0, \"n\": 4674}, {\"threshold\": 0.86, \"p\": 4610, \"fpr\": 0.0, \"tpr\": 0.0, \"n\": 4674}, {\"threshold\": 0.861, \"p\": 4610, \"fpr\": 0.0, \"tpr\": 0.0, \"n\": 4674}, {\"threshold\": 0.862, \"p\": 4610, \"fpr\": 0.0, \"tpr\": 0.0, \"n\": 4674}, {\"threshold\": 0.863, \"p\": 4610, \"fpr\": 0.0, \"tpr\": 0.0, \"n\": 4674}, {\"threshold\": 0.864, \"p\": 4610, \"fpr\": 0.0, \"tpr\": 0.0, \"n\": 4674}, {\"threshold\": 0.865, \"p\": 4610, \"fpr\": 0.0, \"tpr\": 0.0, \"n\": 4674}, {\"threshold\": 0.866, \"p\": 4610, \"fpr\": 0.0, \"tpr\": 0.0, \"n\": 4674}, {\"threshold\": 0.867, \"p\": 4610, \"fpr\": 0.0, \"tpr\": 0.0, \"n\": 4674}, {\"threshold\": 0.868, \"p\": 4610, \"fpr\": 0.0, \"tpr\": 0.0, \"n\": 4674}, {\"threshold\": 0.869, \"p\": 4610, \"fpr\": 0.0, \"tpr\": 0.0, \"n\": 4674}, {\"threshold\": 0.87, \"p\": 4610, \"fpr\": 0.0, \"tpr\": 0.0, \"n\": 4674}, {\"threshold\": 0.871, \"p\": 4610, \"fpr\": 0.0, \"tpr\": 0.0, \"n\": 4674}, {\"threshold\": 0.872, \"p\": 4610, \"fpr\": 0.0, \"tpr\": 0.0, \"n\": 4674}, {\"threshold\": 0.873, \"p\": 4610, \"fpr\": 0.0, \"tpr\": 0.0, \"n\": 4674}, {\"threshold\": 0.874, \"p\": 4610, \"fpr\": 0.0, \"tpr\": 0.0, \"n\": 4674}, {\"threshold\": 0.875, \"p\": 4610, \"fpr\": 0.0, \"tpr\": 0.0, \"n\": 4674}, {\"threshold\": 0.876, \"p\": 4610, \"fpr\": 0.0, \"tpr\": 0.0, \"n\": 4674}, {\"threshold\": 0.877, \"p\": 4610, \"fpr\": 0.0, \"tpr\": 0.0, \"n\": 4674}, {\"threshold\": 0.878, \"p\": 4610, \"fpr\": 0.0, \"tpr\": 0.0, \"n\": 4674}, {\"threshold\": 0.879, \"p\": 4610, \"fpr\": 0.0, \"tpr\": 0.0, \"n\": 4674}, {\"threshold\": 0.88, \"p\": 4610, \"fpr\": 0.0, \"tpr\": 0.0, \"n\": 4674}, {\"threshold\": 0.881, \"p\": 4610, \"fpr\": 0.0, \"tpr\": 0.0, \"n\": 4674}, {\"threshold\": 0.882, \"p\": 4610, \"fpr\": 0.0, \"tpr\": 0.0, \"n\": 4674}, {\"threshold\": 0.883, \"p\": 4610, \"fpr\": 0.0, \"tpr\": 0.0, \"n\": 4674}, {\"threshold\": 0.884, \"p\": 4610, \"fpr\": 0.0, \"tpr\": 0.0, \"n\": 4674}, {\"threshold\": 0.885, \"p\": 4610, \"fpr\": 0.0, \"tpr\": 0.0, \"n\": 4674}, {\"threshold\": 0.886, \"p\": 4610, \"fpr\": 0.0, \"tpr\": 0.0, \"n\": 4674}, {\"threshold\": 0.887, \"p\": 4610, \"fpr\": 0.0, \"tpr\": 0.0, \"n\": 4674}, {\"threshold\": 0.888, \"p\": 4610, \"fpr\": 0.0, \"tpr\": 0.0, \"n\": 4674}, {\"threshold\": 0.889, \"p\": 4610, \"fpr\": 0.0, \"tpr\": 0.0, \"n\": 4674}, {\"threshold\": 0.89, \"p\": 4610, \"fpr\": 0.0, \"tpr\": 0.0, \"n\": 4674}, {\"threshold\": 0.891, \"p\": 4610, \"fpr\": 0.0, \"tpr\": 0.0, \"n\": 4674}, {\"threshold\": 0.892, \"p\": 4610, \"fpr\": 0.0, \"tpr\": 0.0, \"n\": 4674}, {\"threshold\": 0.893, \"p\": 4610, \"fpr\": 0.0, \"tpr\": 0.0, \"n\": 4674}, {\"threshold\": 0.894, \"p\": 4610, \"fpr\": 0.0, \"tpr\": 0.0, \"n\": 4674}, {\"threshold\": 0.895, \"p\": 4610, \"fpr\": 0.0, \"tpr\": 0.0, \"n\": 4674}, {\"threshold\": 0.896, \"p\": 4610, \"fpr\": 0.0, \"tpr\": 0.0, \"n\": 4674}, {\"threshold\": 0.897, \"p\": 4610, \"fpr\": 0.0, \"tpr\": 0.0, \"n\": 4674}, {\"threshold\": 0.898, \"p\": 4610, \"fpr\": 0.0, \"tpr\": 0.0, \"n\": 4674}, {\"threshold\": 0.899, \"p\": 4610, \"fpr\": 0.0, \"tpr\": 0.0, \"n\": 4674}, {\"threshold\": 0.9, \"p\": 4610, \"fpr\": 0.0, \"tpr\": 0.0, \"n\": 4674}, {\"threshold\": 0.901, \"p\": 4610, \"fpr\": 0.0, \"tpr\": 0.0, \"n\": 4674}, {\"threshold\": 0.902, \"p\": 4610, \"fpr\": 0.0, \"tpr\": 0.0, \"n\": 4674}, {\"threshold\": 0.903, \"p\": 4610, \"fpr\": 0.0, \"tpr\": 0.0, \"n\": 4674}, {\"threshold\": 0.904, \"p\": 4610, \"fpr\": 0.0, \"tpr\": 0.0, \"n\": 4674}, {\"threshold\": 0.905, \"p\": 4610, \"fpr\": 0.0, \"tpr\": 0.0, \"n\": 4674}, {\"threshold\": 0.906, \"p\": 4610, \"fpr\": 0.0, \"tpr\": 0.0, \"n\": 4674}, {\"threshold\": 0.907, \"p\": 4610, \"fpr\": 0.0, \"tpr\": 0.0, \"n\": 4674}, {\"threshold\": 0.908, \"p\": 4610, \"fpr\": 0.0, \"tpr\": 0.0, \"n\": 4674}, {\"threshold\": 0.909, \"p\": 4610, \"fpr\": 0.0, \"tpr\": 0.0, \"n\": 4674}, {\"threshold\": 0.91, \"p\": 4610, \"fpr\": 0.0, \"tpr\": 0.0, \"n\": 4674}, {\"threshold\": 0.911, \"p\": 4610, \"fpr\": 0.0, \"tpr\": 0.0, \"n\": 4674}, {\"threshold\": 0.912, \"p\": 4610, \"fpr\": 0.0, \"tpr\": 0.0, \"n\": 4674}, {\"threshold\": 0.913, \"p\": 4610, \"fpr\": 0.0, \"tpr\": 0.0, \"n\": 4674}, {\"threshold\": 0.914, \"p\": 4610, \"fpr\": 0.0, \"tpr\": 0.0, \"n\": 4674}, {\"threshold\": 0.915, \"p\": 4610, \"fpr\": 0.0, \"tpr\": 0.0, \"n\": 4674}, {\"threshold\": 0.916, \"p\": 4610, \"fpr\": 0.0, \"tpr\": 0.0, \"n\": 4674}, {\"threshold\": 0.917, \"p\": 4610, \"fpr\": 0.0, \"tpr\": 0.0, \"n\": 4674}, {\"threshold\": 0.918, \"p\": 4610, \"fpr\": 0.0, \"tpr\": 0.0, \"n\": 4674}, {\"threshold\": 0.919, \"p\": 4610, \"fpr\": 0.0, \"tpr\": 0.0, \"n\": 4674}, {\"threshold\": 0.92, \"p\": 4610, \"fpr\": 0.0, \"tpr\": 0.0, \"n\": 4674}, {\"threshold\": 0.921, \"p\": 4610, \"fpr\": 0.0, \"tpr\": 0.0, \"n\": 4674}, {\"threshold\": 0.922, \"p\": 4610, \"fpr\": 0.0, \"tpr\": 0.0, \"n\": 4674}, {\"threshold\": 0.923, \"p\": 4610, \"fpr\": 0.0, \"tpr\": 0.0, \"n\": 4674}, {\"threshold\": 0.924, \"p\": 4610, \"fpr\": 0.0, \"tpr\": 0.0, \"n\": 4674}, {\"threshold\": 0.925, \"p\": 4610, \"fpr\": 0.0, \"tpr\": 0.0, \"n\": 4674}, {\"threshold\": 0.926, \"p\": 4610, \"fpr\": 0.0, \"tpr\": 0.0, \"n\": 4674}, {\"threshold\": 0.927, \"p\": 4610, \"fpr\": 0.0, \"tpr\": 0.0, \"n\": 4674}, {\"threshold\": 0.928, \"p\": 4610, \"fpr\": 0.0, \"tpr\": 0.0, \"n\": 4674}, {\"threshold\": 0.929, \"p\": 4610, \"fpr\": 0.0, \"tpr\": 0.0, \"n\": 4674}, {\"threshold\": 0.93, \"p\": 4610, \"fpr\": 0.0, \"tpr\": 0.0, \"n\": 4674}, {\"threshold\": 0.931, \"p\": 4610, \"fpr\": 0.0, \"tpr\": 0.0, \"n\": 4674}, {\"threshold\": 0.932, \"p\": 4610, \"fpr\": 0.0, \"tpr\": 0.0, \"n\": 4674}, {\"threshold\": 0.933, \"p\": 4610, \"fpr\": 0.0, \"tpr\": 0.0, \"n\": 4674}, {\"threshold\": 0.934, \"p\": 4610, \"fpr\": 0.0, \"tpr\": 0.0, \"n\": 4674}, {\"threshold\": 0.935, \"p\": 4610, \"fpr\": 0.0, \"tpr\": 0.0, \"n\": 4674}, {\"threshold\": 0.936, \"p\": 4610, \"fpr\": 0.0, \"tpr\": 0.0, \"n\": 4674}, {\"threshold\": 0.937, \"p\": 4610, \"fpr\": 0.0, \"tpr\": 0.0, \"n\": 4674}, {\"threshold\": 0.938, \"p\": 4610, \"fpr\": 0.0, \"tpr\": 0.0, \"n\": 4674}, {\"threshold\": 0.939, \"p\": 4610, \"fpr\": 0.0, \"tpr\": 0.0, \"n\": 4674}, {\"threshold\": 0.94, \"p\": 4610, \"fpr\": 0.0, \"tpr\": 0.0, \"n\": 4674}, {\"threshold\": 0.941, \"p\": 4610, \"fpr\": 0.0, \"tpr\": 0.0, \"n\": 4674}, {\"threshold\": 0.942, \"p\": 4610, \"fpr\": 0.0, \"tpr\": 0.0, \"n\": 4674}, {\"threshold\": 0.943, \"p\": 4610, \"fpr\": 0.0, \"tpr\": 0.0, \"n\": 4674}, {\"threshold\": 0.944, \"p\": 4610, \"fpr\": 0.0, \"tpr\": 0.0, \"n\": 4674}, {\"threshold\": 0.945, \"p\": 4610, \"fpr\": 0.0, \"tpr\": 0.0, \"n\": 4674}, {\"threshold\": 0.946, \"p\": 4610, \"fpr\": 0.0, \"tpr\": 0.0, \"n\": 4674}, {\"threshold\": 0.947, \"p\": 4610, \"fpr\": 0.0, \"tpr\": 0.0, \"n\": 4674}, {\"threshold\": 0.948, \"p\": 4610, \"fpr\": 0.0, \"tpr\": 0.0, \"n\": 4674}, {\"threshold\": 0.949, \"p\": 4610, \"fpr\": 0.0, \"tpr\": 0.0, \"n\": 4674}, {\"threshold\": 0.95, \"p\": 4610, \"fpr\": 0.0, \"tpr\": 0.0, \"n\": 4674}, {\"threshold\": 0.951, \"p\": 4610, \"fpr\": 0.0, \"tpr\": 0.0, \"n\": 4674}, {\"threshold\": 0.952, \"p\": 4610, \"fpr\": 0.0, \"tpr\": 0.0, \"n\": 4674}, {\"threshold\": 0.953, \"p\": 4610, \"fpr\": 0.0, \"tpr\": 0.0, \"n\": 4674}, {\"threshold\": 0.954, \"p\": 4610, \"fpr\": 0.0, \"tpr\": 0.0, \"n\": 4674}, {\"threshold\": 0.955, \"p\": 4610, \"fpr\": 0.0, \"tpr\": 0.0, \"n\": 4674}, {\"threshold\": 0.956, \"p\": 4610, \"fpr\": 0.0, \"tpr\": 0.0, \"n\": 4674}, {\"threshold\": 0.957, \"p\": 4610, \"fpr\": 0.0, \"tpr\": 0.0, \"n\": 4674}, {\"threshold\": 0.958, \"p\": 4610, \"fpr\": 0.0, \"tpr\": 0.0, \"n\": 4674}, {\"threshold\": 0.959, \"p\": 4610, \"fpr\": 0.0, \"tpr\": 0.0, \"n\": 4674}, {\"threshold\": 0.96, \"p\": 4610, \"fpr\": 0.0, \"tpr\": 0.0, \"n\": 4674}, {\"threshold\": 0.961, \"p\": 4610, \"fpr\": 0.0, \"tpr\": 0.0, \"n\": 4674}, {\"threshold\": 0.962, \"p\": 4610, \"fpr\": 0.0, \"tpr\": 0.0, \"n\": 4674}, {\"threshold\": 0.963, \"p\": 4610, \"fpr\": 0.0, \"tpr\": 0.0, \"n\": 4674}, {\"threshold\": 0.964, \"p\": 4610, \"fpr\": 0.0, \"tpr\": 0.0, \"n\": 4674}, {\"threshold\": 0.965, \"p\": 4610, \"fpr\": 0.0, \"tpr\": 0.0, \"n\": 4674}, {\"threshold\": 0.966, \"p\": 4610, \"fpr\": 0.0, \"tpr\": 0.0, \"n\": 4674}, {\"threshold\": 0.967, \"p\": 4610, \"fpr\": 0.0, \"tpr\": 0.0, \"n\": 4674}, {\"threshold\": 0.968, \"p\": 4610, \"fpr\": 0.0, \"tpr\": 0.0, \"n\": 4674}, {\"threshold\": 0.969, \"p\": 4610, \"fpr\": 0.0, \"tpr\": 0.0, \"n\": 4674}, {\"threshold\": 0.97, \"p\": 4610, \"fpr\": 0.0, \"tpr\": 0.0, \"n\": 4674}, {\"threshold\": 0.971, \"p\": 4610, \"fpr\": 0.0, \"tpr\": 0.0, \"n\": 4674}, {\"threshold\": 0.972, \"p\": 4610, \"fpr\": 0.0, \"tpr\": 0.0, \"n\": 4674}, {\"threshold\": 0.973, \"p\": 4610, \"fpr\": 0.0, \"tpr\": 0.0, \"n\": 4674}, {\"threshold\": 0.974, \"p\": 4610, \"fpr\": 0.0, \"tpr\": 0.0, \"n\": 4674}, {\"threshold\": 0.975, \"p\": 4610, \"fpr\": 0.0, \"tpr\": 0.0, \"n\": 4674}, {\"threshold\": 0.976, \"p\": 4610, \"fpr\": 0.0, \"tpr\": 0.0, \"n\": 4674}, {\"threshold\": 0.977, \"p\": 4610, \"fpr\": 0.0, \"tpr\": 0.0, \"n\": 4674}, {\"threshold\": 0.978, \"p\": 4610, \"fpr\": 0.0, \"tpr\": 0.0, \"n\": 4674}, {\"threshold\": 0.979, \"p\": 4610, \"fpr\": 0.0, \"tpr\": 0.0, \"n\": 4674}, {\"threshold\": 0.98, \"p\": 4610, \"fpr\": 0.0, \"tpr\": 0.0, \"n\": 4674}, {\"threshold\": 0.981, \"p\": 4610, \"fpr\": 0.0, \"tpr\": 0.0, \"n\": 4674}, {\"threshold\": 0.982, \"p\": 4610, \"fpr\": 0.0, \"tpr\": 0.0, \"n\": 4674}, {\"threshold\": 0.983, \"p\": 4610, \"fpr\": 0.0, \"tpr\": 0.0, \"n\": 4674}, {\"threshold\": 0.984, \"p\": 4610, \"fpr\": 0.0, \"tpr\": 0.0, \"n\": 4674}, {\"threshold\": 0.985, \"p\": 4610, \"fpr\": 0.0, \"tpr\": 0.0, \"n\": 4674}, {\"threshold\": 0.986, \"p\": 4610, \"fpr\": 0.0, \"tpr\": 0.0, \"n\": 4674}, {\"threshold\": 0.987, \"p\": 4610, \"fpr\": 0.0, \"tpr\": 0.0, \"n\": 4674}, {\"threshold\": 0.988, \"p\": 4610, \"fpr\": 0.0, \"tpr\": 0.0, \"n\": 4674}, {\"threshold\": 0.989, \"p\": 4610, \"fpr\": 0.0, \"tpr\": 0.0, \"n\": 4674}, {\"threshold\": 0.99, \"p\": 4610, \"fpr\": 0.0, \"tpr\": 0.0, \"n\": 4674}, {\"threshold\": 0.991, \"p\": 4610, \"fpr\": 0.0, \"tpr\": 0.0, \"n\": 4674}, {\"threshold\": 0.992, \"p\": 4610, \"fpr\": 0.0, \"tpr\": 0.0, \"n\": 4674}, {\"threshold\": 0.993, \"p\": 4610, \"fpr\": 0.0, \"tpr\": 0.0, \"n\": 4674}, {\"threshold\": 0.994, \"p\": 4610, \"fpr\": 0.0, \"tpr\": 0.0, \"n\": 4674}, {\"threshold\": 0.995, \"p\": 4610, \"fpr\": 0.0, \"tpr\": 0.0, \"n\": 4674}, {\"threshold\": 0.996, \"p\": 4610, \"fpr\": 0.0, \"tpr\": 0.0, \"n\": 4674}, {\"threshold\": 0.997, \"p\": 4610, \"fpr\": 0.0, \"tpr\": 0.0, \"n\": 4674}, {\"threshold\": 0.998, \"p\": 4610, \"fpr\": 0.0, \"tpr\": 0.0, \"n\": 4674}, {\"threshold\": 0.999, \"p\": 4610, \"fpr\": 0.0, \"tpr\": 0.0, \"n\": 4674}, {\"threshold\": 1.0, \"p\": 4610, \"fpr\": 0.0, \"tpr\": 0.0, \"n\": 4674}], \"confusion_matrix\": [{\"count\": 1656, \"target_label\": -1, \"predicted_label\": 1}, {\"count\": 3018, \"target_label\": -1, \"predicted_label\": -1}, {\"count\": 1716, \"target_label\": 1, \"predicted_label\": -1}, {\"count\": 2894, \"target_label\": 1, \"predicted_label\": 1}], \"accuracy\": 0.6367944851357173}]]}, e);\n",
       "                });\n",
       "            })();\n",
       "        "
      ]
     },
     "metadata": {},
     "output_type": "display_data"
    }
   ],
   "source": [
    "decision_tree_model.show(view='Evaluation')\n"
   ]
  },
  {
   "cell_type": "code",
   "execution_count": 33,
   "metadata": {
    "collapsed": false
   },
   "outputs": [
    {
     "data": {
      "text/plain": [
       "9284"
      ]
     },
     "execution_count": 33,
     "metadata": {},
     "output_type": "execute_result"
    }
   ],
   "source": [
    "len(predictions)"
   ]
  },
  {
   "cell_type": "code",
   "execution_count": 34,
   "metadata": {
    "collapsed": false
   },
   "outputs": [
    {
     "name": "stdout",
     "output_type": "stream",
     "text": [
      "1656\n"
     ]
    }
   ],
   "source": [
    "false_positives = (validation_data[validation_data['safe_loans'] != predictions]['safe_loans'] == -1).sum()\n",
    "print false_positives"
   ]
  },
  {
   "cell_type": "code",
   "execution_count": null,
   "metadata": {
    "collapsed": true
   },
   "outputs": [],
   "source": []
  }
 ],
 "metadata": {
  "kernelspec": {
   "display_name": "Python 2",
   "language": "python",
   "name": "python2"
  },
  "language_info": {
   "codemirror_mode": {
    "name": "ipython",
    "version": 2
   },
   "file_extension": ".py",
   "mimetype": "text/x-python",
   "name": "python",
   "nbconvert_exporter": "python",
   "pygments_lexer": "ipython2",
   "version": "2.7.13"
  }
 },
 "nbformat": 4,
 "nbformat_minor": 0
}
